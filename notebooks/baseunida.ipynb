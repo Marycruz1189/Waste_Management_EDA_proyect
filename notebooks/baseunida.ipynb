{
 "metadata": {
  "language_info": {
   "codemirror_mode": {
    "name": "ipython",
    "version": 3
   },
   "file_extension": ".py",
   "mimetype": "text/x-python",
   "name": "python",
   "nbconvert_exporter": "python",
   "pygments_lexer": "ipython3",
   "version": "3.7.4"
  },
  "orig_nbformat": 2,
  "kernelspec": {
   "name": "python374jvsc74a57bd0a9b83ec4160fc914f5169c2fc0bc9ab1c02e189a457abfa966969b692f6336e9",
   "display_name": "Python 3.7.4 64-bit"
  },
  "metadata": {
   "interpreter": {
    "hash": "a9b83ec4160fc914f5169c2fc0bc9ab1c02e189a457abfa966969b692f6336e9"
   }
  }
 },
 "nbformat": 4,
 "nbformat_minor": 2,
 "cells": [
  {
   "cell_type": "code",
   "execution_count": 1,
   "metadata": {},
   "outputs": [],
   "source": [
    "import pandas as pd\n",
    "import numpy as np\n",
    "import re\n",
    "import os "
   ]
  },
  {
   "cell_type": "code",
   "execution_count": 2,
   "metadata": {},
   "outputs": [],
   "source": [
    "#PIB\n",
    "pib = pd.read_csv(\"../notebooks/pib_clean.csv\")"
   ]
  },
  {
   "cell_type": "code",
   "execution_count": 3,
   "metadata": {},
   "outputs": [],
   "source": [
    "#POBLACION\n",
    "poblacion = pd.read_csv('../notebooks/poblacion_clean.csv')"
   ]
  },
  {
   "cell_type": "code",
   "execution_count": 4,
   "metadata": {},
   "outputs": [],
   "source": [
    "#RECOLECCION\n",
    "recoleccion = pd.read_csv('../notebooks/recoleccion_clean.csv')"
   ]
  },
  {
   "cell_type": "code",
   "execution_count": 5,
   "metadata": {},
   "outputs": [],
   "source": [
    "#GESTION\n",
    "gestion = pd.read_csv('../notebooks/gestion_ccaa_clean.csv')"
   ]
  },
  {
   "cell_type": "code",
   "execution_count": 6,
   "metadata": {},
   "outputs": [],
   "source": [
    "#EMISIONES\n",
    "emisiones = pd.read_csv('../notebooks/emisiones_clean.csv')"
   ]
  },
  {
   "cell_type": "code",
   "execution_count": 5,
   "metadata": {},
   "outputs": [
    {
     "output_type": "execute_result",
     "data": {
      "text/plain": [
       "  Comunidad Autónoma   Año  Poblacion\n",
       "0          ANDALUCÍA  2010    8370975\n",
       "1          ANDALUCÍA  2018    8384408\n",
       "2          ANDALUCÍA  2016    8388107\n",
       "3          ANDALUCÍA  2014    8402305\n",
       "4          ANDALUCÍA  2011    8424102"
      ],
      "text/html": "<div>\n<style scoped>\n    .dataframe tbody tr th:only-of-type {\n        vertical-align: middle;\n    }\n\n    .dataframe tbody tr th {\n        vertical-align: top;\n    }\n\n    .dataframe thead th {\n        text-align: right;\n    }\n</style>\n<table border=\"1\" class=\"dataframe\">\n  <thead>\n    <tr style=\"text-align: right;\">\n      <th></th>\n      <th>Comunidad Autónoma</th>\n      <th>Año</th>\n      <th>Poblacion</th>\n    </tr>\n  </thead>\n  <tbody>\n    <tr>\n      <th>0</th>\n      <td>ANDALUCÍA</td>\n      <td>2010</td>\n      <td>8370975</td>\n    </tr>\n    <tr>\n      <th>1</th>\n      <td>ANDALUCÍA</td>\n      <td>2018</td>\n      <td>8384408</td>\n    </tr>\n    <tr>\n      <th>2</th>\n      <td>ANDALUCÍA</td>\n      <td>2016</td>\n      <td>8388107</td>\n    </tr>\n    <tr>\n      <th>3</th>\n      <td>ANDALUCÍA</td>\n      <td>2014</td>\n      <td>8402305</td>\n    </tr>\n    <tr>\n      <th>4</th>\n      <td>ANDALUCÍA</td>\n      <td>2011</td>\n      <td>8424102</td>\n    </tr>\n  </tbody>\n</table>\n</div>"
     },
     "metadata": {},
     "execution_count": 5
    }
   ],
   "source": [
    "poblacion.head()"
   ]
  },
  {
   "cell_type": "code",
   "execution_count": 15,
   "metadata": {},
   "outputs": [
    {
     "output_type": "stream",
     "name": "stdout",
     "text": [
      "<class 'pandas.core.frame.DataFrame'>\nRangeIndex: 180 entries, 0 to 179\nData columns (total 3 columns):\n #   Column              Non-Null Count  Dtype \n---  ------              --------------  ----- \n 0   Comunidad Autónoma  180 non-null    object\n 1   Año                 180 non-null    int64 \n 2   PIB                 180 non-null    int64 \ndtypes: int64(2), object(1)\nmemory usage: 4.3+ KB\n"
     ]
    }
   ],
   "source": [
    "pib.info()"
   ]
  },
  {
   "cell_type": "code",
   "execution_count": 6,
   "metadata": {},
   "outputs": [
    {
     "output_type": "execute_result",
     "data": {
      "text/plain": [
       "  Comunidad Autónoma   Año        PIB\n",
       "0          ANDALUCÍA  2010  144752225\n",
       "1          ANDALUCÍA  2018  160711363\n",
       "2          ANDALUCÍA  2016  148405362\n",
       "3          ANDALUCÍA  2014  137722026\n",
       "4          ANDALUCÍA  2011  143389086"
      ],
      "text/html": "<div>\n<style scoped>\n    .dataframe tbody tr th:only-of-type {\n        vertical-align: middle;\n    }\n\n    .dataframe tbody tr th {\n        vertical-align: top;\n    }\n\n    .dataframe thead th {\n        text-align: right;\n    }\n</style>\n<table border=\"1\" class=\"dataframe\">\n  <thead>\n    <tr style=\"text-align: right;\">\n      <th></th>\n      <th>Comunidad Autónoma</th>\n      <th>Año</th>\n      <th>PIB</th>\n    </tr>\n  </thead>\n  <tbody>\n    <tr>\n      <th>0</th>\n      <td>ANDALUCÍA</td>\n      <td>2010</td>\n      <td>144752225</td>\n    </tr>\n    <tr>\n      <th>1</th>\n      <td>ANDALUCÍA</td>\n      <td>2018</td>\n      <td>160711363</td>\n    </tr>\n    <tr>\n      <th>2</th>\n      <td>ANDALUCÍA</td>\n      <td>2016</td>\n      <td>148405362</td>\n    </tr>\n    <tr>\n      <th>3</th>\n      <td>ANDALUCÍA</td>\n      <td>2014</td>\n      <td>137722026</td>\n    </tr>\n    <tr>\n      <th>4</th>\n      <td>ANDALUCÍA</td>\n      <td>2011</td>\n      <td>143389086</td>\n    </tr>\n  </tbody>\n</table>\n</div>"
     },
     "metadata": {},
     "execution_count": 6
    }
   ],
   "source": [
    "pib.head()"
   ]
  },
  {
   "cell_type": "code",
   "execution_count": null,
   "metadata": {},
   "outputs": [],
   "source": []
  },
  {
   "cell_type": "code",
   "execution_count": 8,
   "metadata": {},
   "outputs": [
    {
     "output_type": "execute_result",
     "data": {
      "text/plain": [
       "    Comunidad Autónoma   Año         PIB  Poblacion\n",
       "0            ANDALUCÍA  2010   144752225    8370975\n",
       "1            ANDALUCÍA  2018   160711363    8384408\n",
       "2            ANDALUCÍA  2016   148405362    8388107\n",
       "3            ANDALUCÍA  2014   137722026    8402305\n",
       "4            ANDALUCÍA  2011   143389086    8424102\n",
       "..                 ...   ...         ...        ...\n",
       "175     TOTAL NACIONAL  2017  1161867000   46572132\n",
       "176     TOTAL NACIONAL  2016  1113840000   46557008\n",
       "177     TOTAL NACIONAL  2011  1063763000   47190493\n",
       "178     TOTAL NACIONAL  2013  1020348000   47129783\n",
       "179     TOTAL NACIONAL  2018  1204241000   46722980\n",
       "\n",
       "[180 rows x 4 columns]"
      ],
      "text/html": "<div>\n<style scoped>\n    .dataframe tbody tr th:only-of-type {\n        vertical-align: middle;\n    }\n\n    .dataframe tbody tr th {\n        vertical-align: top;\n    }\n\n    .dataframe thead th {\n        text-align: right;\n    }\n</style>\n<table border=\"1\" class=\"dataframe\">\n  <thead>\n    <tr style=\"text-align: right;\">\n      <th></th>\n      <th>Comunidad Autónoma</th>\n      <th>Año</th>\n      <th>PIB</th>\n      <th>Poblacion</th>\n    </tr>\n  </thead>\n  <tbody>\n    <tr>\n      <th>0</th>\n      <td>ANDALUCÍA</td>\n      <td>2010</td>\n      <td>144752225</td>\n      <td>8370975</td>\n    </tr>\n    <tr>\n      <th>1</th>\n      <td>ANDALUCÍA</td>\n      <td>2018</td>\n      <td>160711363</td>\n      <td>8384408</td>\n    </tr>\n    <tr>\n      <th>2</th>\n      <td>ANDALUCÍA</td>\n      <td>2016</td>\n      <td>148405362</td>\n      <td>8388107</td>\n    </tr>\n    <tr>\n      <th>3</th>\n      <td>ANDALUCÍA</td>\n      <td>2014</td>\n      <td>137722026</td>\n      <td>8402305</td>\n    </tr>\n    <tr>\n      <th>4</th>\n      <td>ANDALUCÍA</td>\n      <td>2011</td>\n      <td>143389086</td>\n      <td>8424102</td>\n    </tr>\n    <tr>\n      <th>...</th>\n      <td>...</td>\n      <td>...</td>\n      <td>...</td>\n      <td>...</td>\n    </tr>\n    <tr>\n      <th>175</th>\n      <td>TOTAL NACIONAL</td>\n      <td>2017</td>\n      <td>1161867000</td>\n      <td>46572132</td>\n    </tr>\n    <tr>\n      <th>176</th>\n      <td>TOTAL NACIONAL</td>\n      <td>2016</td>\n      <td>1113840000</td>\n      <td>46557008</td>\n    </tr>\n    <tr>\n      <th>177</th>\n      <td>TOTAL NACIONAL</td>\n      <td>2011</td>\n      <td>1063763000</td>\n      <td>47190493</td>\n    </tr>\n    <tr>\n      <th>178</th>\n      <td>TOTAL NACIONAL</td>\n      <td>2013</td>\n      <td>1020348000</td>\n      <td>47129783</td>\n    </tr>\n    <tr>\n      <th>179</th>\n      <td>TOTAL NACIONAL</td>\n      <td>2018</td>\n      <td>1204241000</td>\n      <td>46722980</td>\n    </tr>\n  </tbody>\n</table>\n<p>180 rows × 4 columns</p>\n</div>"
     },
     "metadata": {},
     "execution_count": 8
    }
   ],
   "source": [
    "#UNION PIB CON POBLACION \n",
    "\n",
    "data_merged_pib_pob =  pd.merge(left=pib, right=poblacion, how=\"outer\", on=[\"Año\", 'Comunidad Autónoma'])\n",
    "data_merged_pib_pob"
   ]
  },
  {
   "cell_type": "code",
   "execution_count": 8,
   "metadata": {},
   "outputs": [],
   "source": [
    "## CREO UNA COLUMNA DE PIB PER CAPITA \n",
    "\n",
    "data_merged_pib_pob['PIB per capita'] = round((data_merged_pib_pob['PIB']/data_merged_pib_pob['Poblacion']*1000),2)"
   ]
  },
  {
   "cell_type": "code",
   "execution_count": 9,
   "metadata": {},
   "outputs": [
    {
     "output_type": "execute_result",
     "data": {
      "text/plain": [
       "    Comunidad Autónoma   Año         PIB  Poblacion  PIB per capita\n",
       "0            ANDALUCÍA  2010   144752225    8370975        17292.16\n",
       "1            ANDALUCÍA  2018   160711363    8384408        19167.88\n",
       "2            ANDALUCÍA  2016   148405362    8388107        17692.35\n",
       "3            ANDALUCÍA  2014   137722026    8402305        16390.98\n",
       "4            ANDALUCÍA  2011   143389086    8424102        17021.29\n",
       "..                 ...   ...         ...        ...             ...\n",
       "175     TOTAL NACIONAL  2017  1161867000   46572132        24947.69\n",
       "176     TOTAL NACIONAL  2016  1113840000   46557008        23924.22\n",
       "177     TOTAL NACIONAL  2011  1063763000   47190493        22541.89\n",
       "178     TOTAL NACIONAL  2013  1020348000   47129783        21649.75\n",
       "179     TOTAL NACIONAL  2018  1204241000   46722980        25774.06\n",
       "\n",
       "[180 rows x 5 columns]"
      ],
      "text/html": "<div>\n<style scoped>\n    .dataframe tbody tr th:only-of-type {\n        vertical-align: middle;\n    }\n\n    .dataframe tbody tr th {\n        vertical-align: top;\n    }\n\n    .dataframe thead th {\n        text-align: right;\n    }\n</style>\n<table border=\"1\" class=\"dataframe\">\n  <thead>\n    <tr style=\"text-align: right;\">\n      <th></th>\n      <th>Comunidad Autónoma</th>\n      <th>Año</th>\n      <th>PIB</th>\n      <th>Poblacion</th>\n      <th>PIB per capita</th>\n    </tr>\n  </thead>\n  <tbody>\n    <tr>\n      <th>0</th>\n      <td>ANDALUCÍA</td>\n      <td>2010</td>\n      <td>144752225</td>\n      <td>8370975</td>\n      <td>17292.16</td>\n    </tr>\n    <tr>\n      <th>1</th>\n      <td>ANDALUCÍA</td>\n      <td>2018</td>\n      <td>160711363</td>\n      <td>8384408</td>\n      <td>19167.88</td>\n    </tr>\n    <tr>\n      <th>2</th>\n      <td>ANDALUCÍA</td>\n      <td>2016</td>\n      <td>148405362</td>\n      <td>8388107</td>\n      <td>17692.35</td>\n    </tr>\n    <tr>\n      <th>3</th>\n      <td>ANDALUCÍA</td>\n      <td>2014</td>\n      <td>137722026</td>\n      <td>8402305</td>\n      <td>16390.98</td>\n    </tr>\n    <tr>\n      <th>4</th>\n      <td>ANDALUCÍA</td>\n      <td>2011</td>\n      <td>143389086</td>\n      <td>8424102</td>\n      <td>17021.29</td>\n    </tr>\n    <tr>\n      <th>...</th>\n      <td>...</td>\n      <td>...</td>\n      <td>...</td>\n      <td>...</td>\n      <td>...</td>\n    </tr>\n    <tr>\n      <th>175</th>\n      <td>TOTAL NACIONAL</td>\n      <td>2017</td>\n      <td>1161867000</td>\n      <td>46572132</td>\n      <td>24947.69</td>\n    </tr>\n    <tr>\n      <th>176</th>\n      <td>TOTAL NACIONAL</td>\n      <td>2016</td>\n      <td>1113840000</td>\n      <td>46557008</td>\n      <td>23924.22</td>\n    </tr>\n    <tr>\n      <th>177</th>\n      <td>TOTAL NACIONAL</td>\n      <td>2011</td>\n      <td>1063763000</td>\n      <td>47190493</td>\n      <td>22541.89</td>\n    </tr>\n    <tr>\n      <th>178</th>\n      <td>TOTAL NACIONAL</td>\n      <td>2013</td>\n      <td>1020348000</td>\n      <td>47129783</td>\n      <td>21649.75</td>\n    </tr>\n    <tr>\n      <th>179</th>\n      <td>TOTAL NACIONAL</td>\n      <td>2018</td>\n      <td>1204241000</td>\n      <td>46722980</td>\n      <td>25774.06</td>\n    </tr>\n  </tbody>\n</table>\n<p>180 rows × 5 columns</p>\n</div>"
     },
     "metadata": {},
     "execution_count": 9
    }
   ],
   "source": [
    "data_merged_pib_pob"
   ]
  },
  {
   "cell_type": "code",
   "execution_count": 12,
   "metadata": {},
   "outputs": [],
   "source": [
    "#CAMBIAR EL TITULO CON TILDE A LAS SIGUIENTES BASES\n",
    "## no coincide el titulo lo voy a cambiar\n",
    "recoleccion.rename(columns={'Comunidad Autonoma': 'Comunidad Autónoma'}, inplace=True)\n"
   ]
  },
  {
   "cell_type": "code",
   "execution_count": 13,
   "metadata": {},
   "outputs": [],
   "source": [
    "#CHANGE TO UPPER ALL the column CCAA STR to match\n",
    "\n",
    "\n",
    "recoleccion['Comunidad Autónoma'] = recoleccion['Comunidad Autónoma'].str.upper()"
   ]
  },
  {
   "cell_type": "code",
   "execution_count": 14,
   "metadata": {},
   "outputs": [
    {
     "output_type": "execute_result",
     "data": {
      "text/plain": [
       "    Comunidad Autónoma   Año         PIB  Poblacion  PIB per capita  \\\n",
       "0            ANDALUCÍA  2010   144752225    8370975        17292.16   \n",
       "1            ANDALUCÍA  2018   160711363    8384408        19167.88   \n",
       "2            ANDALUCÍA  2016   148405362    8388107        17692.35   \n",
       "3            ANDALUCÍA  2014   137722026    8402305        16390.98   \n",
       "4            ANDALUCÍA  2011   143389086    8424102        17021.29   \n",
       "..                 ...   ...         ...        ...             ...   \n",
       "175     TOTAL NACIONAL  2017  1161867000   46572132        24947.69   \n",
       "176     TOTAL NACIONAL  2016  1113840000   46557008        23924.22   \n",
       "177     TOTAL NACIONAL  2011  1063763000   47190493        22541.89   \n",
       "178     TOTAL NACIONAL  2013  1020348000   47129783        21649.75   \n",
       "179     TOTAL NACIONAL  2018  1204241000   46722980        25774.06   \n",
       "\n",
       "     Recoleccion-domésticos y vias  Recoleccion-voluminosos  \\\n",
       "0                        4213174.0                 155836.0   \n",
       "1                        3755593.0                 153300.0   \n",
       "2                        3545590.0                 361986.0   \n",
       "3                        3437380.0                 252293.0   \n",
       "4                        3796057.0                 152281.0   \n",
       "..                             ...                      ...   \n",
       "175                     17457709.0                 814281.0   \n",
       "176                     17141367.0                 910708.0   \n",
       "177                     18291848.0                 481780.0   \n",
       "178                     17320704.0                 532122.0   \n",
       "179                     17611068.0                 673495.0   \n",
       "\n",
       "     Recoleccion-metálicos  Recoleccion-vidrio  Recoleccion-papel y carton  \\\n",
       "0                  11203.0             82031.0                    136017.0   \n",
       "1                   1600.0            108768.0                    117131.0   \n",
       "2                   4425.0             99622.0                    101816.0   \n",
       "3                   4321.0             82208.0                     95866.0   \n",
       "4                   8370.0             74820.0                    118200.0   \n",
       "..                     ...                 ...                         ...   \n",
       "175                20940.0            815883.0                   1061380.0   \n",
       "176                20376.0            797928.0                   1021166.0   \n",
       "177                43394.0            733682.0                   1266397.0   \n",
       "178                20985.0            720930.0                    988226.0   \n",
       "179                27875.0            834764.0                   1067384.0   \n",
       "\n",
       "     ...  Recoleccion-eq. electricos  Recoleccion-pilas  Recoleccion-animales  \\\n",
       "0    ...                     25185.0              305.0               91419.0   \n",
       "1    ...                      5036.0              108.0               92395.0   \n",
       "2    ...                      4264.0              149.0               89603.0   \n",
       "3    ...                      3006.0              132.0               99030.0   \n",
       "4    ...                      3054.0              148.0              105106.0   \n",
       "..   ...                         ...                ...                   ...   \n",
       "175  ...                     54599.0             1780.0              876822.0   \n",
       "176  ...                     46068.0             1920.0              835703.0   \n",
       "177  ...                     29330.0             1624.0              930511.0   \n",
       "178  ...                     41644.0             7119.0              844081.0   \n",
       "179  ...                     58733.0             1890.0             1010016.0   \n",
       "\n",
       "     Recoleccion-Envases mixtos    lodos  Recoleccion-construccion  \\\n",
       "0                      133157.0  18992.0                   56816.0   \n",
       "1                       94281.0      0.0                   81204.0   \n",
       "2                       81932.0      0.0                   61285.0   \n",
       "3                       76354.0      0.0                  104686.0   \n",
       "4                      136141.0  12181.0                  141142.0   \n",
       "..                          ...      ...                       ...   \n",
       "175                    660932.0      0.0                  495597.0   \n",
       "176                    611790.0      0.0                  295142.0   \n",
       "177                    653976.0  33302.0                  564613.0   \n",
       "178                    559258.0      0.0                  465104.0   \n",
       "179                    743556.0      0.0                  472548.0   \n",
       "\n",
       "     Recoleccion-otros  TOTAL RESIDUOS MEZCLADOS  \\\n",
       "0               7729.0                 4369010.0   \n",
       "1                374.0                 3908893.0   \n",
       "2              32272.0                 3907576.0   \n",
       "3                553.0                 3689673.0   \n",
       "4                724.0                 3948338.0   \n",
       "..                 ...                       ...   \n",
       "175             1719.0                18271990.0   \n",
       "176            41389.0                18052075.0   \n",
       "177            11651.0                18773628.0   \n",
       "178           134801.0                17852826.0   \n",
       "179             1891.0                18284563.0   \n",
       "\n",
       "     TOTAL RESIDUOS DE RECOGIDA SEPARADA  TOTAL RESIDUOS  \n",
       "0                               605939.0       4974949.0  \n",
       "1                               518363.0       4427256.0  \n",
       "2                               488015.0       4395591.0  \n",
       "3                               481568.0       4171241.0  \n",
       "4                               624371.0       4572709.0  \n",
       "..                                   ...             ...  \n",
       "175                            4243191.0      22515181.0  \n",
       "176                            3826298.0      21878373.0  \n",
       "177                            4508351.0      23281979.0  \n",
       "178                            3932859.0      21785685.0  \n",
       "179                            4419204.0      22703767.0  \n",
       "\n",
       "[180 rows x 23 columns]"
      ],
      "text/html": "<div>\n<style scoped>\n    .dataframe tbody tr th:only-of-type {\n        vertical-align: middle;\n    }\n\n    .dataframe tbody tr th {\n        vertical-align: top;\n    }\n\n    .dataframe thead th {\n        text-align: right;\n    }\n</style>\n<table border=\"1\" class=\"dataframe\">\n  <thead>\n    <tr style=\"text-align: right;\">\n      <th></th>\n      <th>Comunidad Autónoma</th>\n      <th>Año</th>\n      <th>PIB</th>\n      <th>Poblacion</th>\n      <th>PIB per capita</th>\n      <th>Recoleccion-domésticos y vias</th>\n      <th>Recoleccion-voluminosos</th>\n      <th>Recoleccion-metálicos</th>\n      <th>Recoleccion-vidrio</th>\n      <th>Recoleccion-papel y carton</th>\n      <th>...</th>\n      <th>Recoleccion-eq. electricos</th>\n      <th>Recoleccion-pilas</th>\n      <th>Recoleccion-animales</th>\n      <th>Recoleccion-Envases mixtos</th>\n      <th>lodos</th>\n      <th>Recoleccion-construccion</th>\n      <th>Recoleccion-otros</th>\n      <th>TOTAL RESIDUOS MEZCLADOS</th>\n      <th>TOTAL RESIDUOS DE RECOGIDA SEPARADA</th>\n      <th>TOTAL RESIDUOS</th>\n    </tr>\n  </thead>\n  <tbody>\n    <tr>\n      <th>0</th>\n      <td>ANDALUCÍA</td>\n      <td>2010</td>\n      <td>144752225</td>\n      <td>8370975</td>\n      <td>17292.16</td>\n      <td>4213174.0</td>\n      <td>155836.0</td>\n      <td>11203.0</td>\n      <td>82031.0</td>\n      <td>136017.0</td>\n      <td>...</td>\n      <td>25185.0</td>\n      <td>305.0</td>\n      <td>91419.0</td>\n      <td>133157.0</td>\n      <td>18992.0</td>\n      <td>56816.0</td>\n      <td>7729.0</td>\n      <td>4369010.0</td>\n      <td>605939.0</td>\n      <td>4974949.0</td>\n    </tr>\n    <tr>\n      <th>1</th>\n      <td>ANDALUCÍA</td>\n      <td>2018</td>\n      <td>160711363</td>\n      <td>8384408</td>\n      <td>19167.88</td>\n      <td>3755593.0</td>\n      <td>153300.0</td>\n      <td>1600.0</td>\n      <td>108768.0</td>\n      <td>117131.0</td>\n      <td>...</td>\n      <td>5036.0</td>\n      <td>108.0</td>\n      <td>92395.0</td>\n      <td>94281.0</td>\n      <td>0.0</td>\n      <td>81204.0</td>\n      <td>374.0</td>\n      <td>3908893.0</td>\n      <td>518363.0</td>\n      <td>4427256.0</td>\n    </tr>\n    <tr>\n      <th>2</th>\n      <td>ANDALUCÍA</td>\n      <td>2016</td>\n      <td>148405362</td>\n      <td>8388107</td>\n      <td>17692.35</td>\n      <td>3545590.0</td>\n      <td>361986.0</td>\n      <td>4425.0</td>\n      <td>99622.0</td>\n      <td>101816.0</td>\n      <td>...</td>\n      <td>4264.0</td>\n      <td>149.0</td>\n      <td>89603.0</td>\n      <td>81932.0</td>\n      <td>0.0</td>\n      <td>61285.0</td>\n      <td>32272.0</td>\n      <td>3907576.0</td>\n      <td>488015.0</td>\n      <td>4395591.0</td>\n    </tr>\n    <tr>\n      <th>3</th>\n      <td>ANDALUCÍA</td>\n      <td>2014</td>\n      <td>137722026</td>\n      <td>8402305</td>\n      <td>16390.98</td>\n      <td>3437380.0</td>\n      <td>252293.0</td>\n      <td>4321.0</td>\n      <td>82208.0</td>\n      <td>95866.0</td>\n      <td>...</td>\n      <td>3006.0</td>\n      <td>132.0</td>\n      <td>99030.0</td>\n      <td>76354.0</td>\n      <td>0.0</td>\n      <td>104686.0</td>\n      <td>553.0</td>\n      <td>3689673.0</td>\n      <td>481568.0</td>\n      <td>4171241.0</td>\n    </tr>\n    <tr>\n      <th>4</th>\n      <td>ANDALUCÍA</td>\n      <td>2011</td>\n      <td>143389086</td>\n      <td>8424102</td>\n      <td>17021.29</td>\n      <td>3796057.0</td>\n      <td>152281.0</td>\n      <td>8370.0</td>\n      <td>74820.0</td>\n      <td>118200.0</td>\n      <td>...</td>\n      <td>3054.0</td>\n      <td>148.0</td>\n      <td>105106.0</td>\n      <td>136141.0</td>\n      <td>12181.0</td>\n      <td>141142.0</td>\n      <td>724.0</td>\n      <td>3948338.0</td>\n      <td>624371.0</td>\n      <td>4572709.0</td>\n    </tr>\n    <tr>\n      <th>...</th>\n      <td>...</td>\n      <td>...</td>\n      <td>...</td>\n      <td>...</td>\n      <td>...</td>\n      <td>...</td>\n      <td>...</td>\n      <td>...</td>\n      <td>...</td>\n      <td>...</td>\n      <td>...</td>\n      <td>...</td>\n      <td>...</td>\n      <td>...</td>\n      <td>...</td>\n      <td>...</td>\n      <td>...</td>\n      <td>...</td>\n      <td>...</td>\n      <td>...</td>\n      <td>...</td>\n    </tr>\n    <tr>\n      <th>175</th>\n      <td>TOTAL NACIONAL</td>\n      <td>2017</td>\n      <td>1161867000</td>\n      <td>46572132</td>\n      <td>24947.69</td>\n      <td>17457709.0</td>\n      <td>814281.0</td>\n      <td>20940.0</td>\n      <td>815883.0</td>\n      <td>1061380.0</td>\n      <td>...</td>\n      <td>54599.0</td>\n      <td>1780.0</td>\n      <td>876822.0</td>\n      <td>660932.0</td>\n      <td>0.0</td>\n      <td>495597.0</td>\n      <td>1719.0</td>\n      <td>18271990.0</td>\n      <td>4243191.0</td>\n      <td>22515181.0</td>\n    </tr>\n    <tr>\n      <th>176</th>\n      <td>TOTAL NACIONAL</td>\n      <td>2016</td>\n      <td>1113840000</td>\n      <td>46557008</td>\n      <td>23924.22</td>\n      <td>17141367.0</td>\n      <td>910708.0</td>\n      <td>20376.0</td>\n      <td>797928.0</td>\n      <td>1021166.0</td>\n      <td>...</td>\n      <td>46068.0</td>\n      <td>1920.0</td>\n      <td>835703.0</td>\n      <td>611790.0</td>\n      <td>0.0</td>\n      <td>295142.0</td>\n      <td>41389.0</td>\n      <td>18052075.0</td>\n      <td>3826298.0</td>\n      <td>21878373.0</td>\n    </tr>\n    <tr>\n      <th>177</th>\n      <td>TOTAL NACIONAL</td>\n      <td>2011</td>\n      <td>1063763000</td>\n      <td>47190493</td>\n      <td>22541.89</td>\n      <td>18291848.0</td>\n      <td>481780.0</td>\n      <td>43394.0</td>\n      <td>733682.0</td>\n      <td>1266397.0</td>\n      <td>...</td>\n      <td>29330.0</td>\n      <td>1624.0</td>\n      <td>930511.0</td>\n      <td>653976.0</td>\n      <td>33302.0</td>\n      <td>564613.0</td>\n      <td>11651.0</td>\n      <td>18773628.0</td>\n      <td>4508351.0</td>\n      <td>23281979.0</td>\n    </tr>\n    <tr>\n      <th>178</th>\n      <td>TOTAL NACIONAL</td>\n      <td>2013</td>\n      <td>1020348000</td>\n      <td>47129783</td>\n      <td>21649.75</td>\n      <td>17320704.0</td>\n      <td>532122.0</td>\n      <td>20985.0</td>\n      <td>720930.0</td>\n      <td>988226.0</td>\n      <td>...</td>\n      <td>41644.0</td>\n      <td>7119.0</td>\n      <td>844081.0</td>\n      <td>559258.0</td>\n      <td>0.0</td>\n      <td>465104.0</td>\n      <td>134801.0</td>\n      <td>17852826.0</td>\n      <td>3932859.0</td>\n      <td>21785685.0</td>\n    </tr>\n    <tr>\n      <th>179</th>\n      <td>TOTAL NACIONAL</td>\n      <td>2018</td>\n      <td>1204241000</td>\n      <td>46722980</td>\n      <td>25774.06</td>\n      <td>17611068.0</td>\n      <td>673495.0</td>\n      <td>27875.0</td>\n      <td>834764.0</td>\n      <td>1067384.0</td>\n      <td>...</td>\n      <td>58733.0</td>\n      <td>1890.0</td>\n      <td>1010016.0</td>\n      <td>743556.0</td>\n      <td>0.0</td>\n      <td>472548.0</td>\n      <td>1891.0</td>\n      <td>18284563.0</td>\n      <td>4419204.0</td>\n      <td>22703767.0</td>\n    </tr>\n  </tbody>\n</table>\n<p>180 rows × 23 columns</p>\n</div>"
     },
     "metadata": {},
     "execution_count": 14
    }
   ],
   "source": [
    "#unimos la siguiente base de datos \n",
    "data_merged_2 =  pd.merge(left=data_merged_pib_pob, right=recoleccion, how=\"outer\", on=[\"Año\", 'Comunidad Autónoma'])\n",
    "data_merged_2"
   ]
  },
  {
   "cell_type": "code",
   "execution_count": 15,
   "metadata": {},
   "outputs": [
    {
     "output_type": "execute_result",
     "data": {
      "text/plain": [
       "(180, 23)"
      ]
     },
     "metadata": {},
     "execution_count": 15
    }
   ],
   "source": [
    "data_merged_2.shape"
   ]
  },
  {
   "cell_type": "code",
   "execution_count": 80,
   "metadata": {},
   "outputs": [
    {
     "output_type": "execute_result",
     "data": {
      "text/plain": [
       "(54, 23)"
      ]
     },
     "metadata": {},
     "execution_count": 80
    }
   ],
   "source": [
    "data_merged_2.shape"
   ]
  },
  {
   "cell_type": "code",
   "execution_count": 18,
   "metadata": {},
   "outputs": [
    {
     "output_type": "execute_result",
     "data": {
      "text/plain": [
       "      Año      Comunidad Autónoma  Reciclado procedente de recogida separada  \\\n",
       "0    2018               ANDALUCÍA                                  412818.00   \n",
       "1    2018                  ARAGÓN                                   82418.00   \n",
       "2    2018  PRINCIPADO DE ASTURIAS                                   83728.00   \n",
       "3    2018          ILLES BALEARS                                   153149.00   \n",
       "4    2018                CANARIAS                                  140174.00   \n",
       "..    ...                     ...                                        ...   \n",
       "175  2010              PAÍS VASCO                                  280844.75   \n",
       "176  2010    COMUNITAT VALENCIANA                                  260482.44   \n",
       "177  2010                   CEUTA                                    3252.81   \n",
       "178  2010                 MELILLA                                    3368.00   \n",
       "179  2010          TOTAL NACIONAL                                 2998739.19   \n",
       "\n",
       "     Materiales recuperados-TMB mezclados  \\\n",
       "0                              166217.000   \n",
       "1                               10209.000   \n",
       "2                                   0.000   \n",
       "3                                1938.000   \n",
       "4                               58936.000   \n",
       "..                                    ...   \n",
       "175                             18907.125   \n",
       "176                            110349.500   \n",
       "177                                 0.000   \n",
       "178                                 0.000   \n",
       "179                            619189.750   \n",
       "\n",
       "     Compostado/Digestion anaerobia de FORS  Compostado/Digestión anaerobia  \\\n",
       "0                                45572.0000                       685734.00   \n",
       "1                               212000.0000                        79834.00   \n",
       "2                                 2481.0000                            0.00   \n",
       "3                                36774.0000                        16690.00   \n",
       "4                                 1248.0000                       176590.00   \n",
       "..                                      ...                             ...   \n",
       "175                               8877.3750                        35869.12   \n",
       "176                                  0.0000                       639630.06   \n",
       "177                                  0.0000                            0.00   \n",
       "178                                  0.0000                            0.00   \n",
       "179                             495449.6875                      2651220.44   \n",
       "\n",
       "     Incinerado  Vertido de rechazos  Vertido sin tratamiento previo  \\\n",
       "0          0.00           2404796.00                      599650.000   \n",
       "1          0.00            172831.00                      226741.000   \n",
       "2          0.00              4908.00                      390873.000   \n",
       "3     505886.00             37932.00                      143927.000   \n",
       "4          0.00            820742.00                      113704.000   \n",
       "..          ...                  ...                             ...   \n",
       "175   245290.75             85150.31                      216172.750   \n",
       "176     3098.75           1153239.00                         423.500   \n",
       "177        0.00                 0.00                           0.000   \n",
       "178    42116.19                 0.00                           0.000   \n",
       "179  2499665.44           7537970.56                     4255055.875   \n",
       "\n",
       "           Total  \n",
       "0     4314787.00  \n",
       "1      572245.00  \n",
       "2      481990.00  \n",
       "3      896296.00  \n",
       "4     1311394.00  \n",
       "..           ...  \n",
       "175    891112.19  \n",
       "176   2167223.25  \n",
       "177      3252.81  \n",
       "178     45484.19  \n",
       "179  21057289.56  \n",
       "\n",
       "[180 rows x 10 columns]"
      ],
      "text/html": "<div>\n<style scoped>\n    .dataframe tbody tr th:only-of-type {\n        vertical-align: middle;\n    }\n\n    .dataframe tbody tr th {\n        vertical-align: top;\n    }\n\n    .dataframe thead th {\n        text-align: right;\n    }\n</style>\n<table border=\"1\" class=\"dataframe\">\n  <thead>\n    <tr style=\"text-align: right;\">\n      <th></th>\n      <th>Año</th>\n      <th>Comunidad Autónoma</th>\n      <th>Reciclado procedente de recogida separada</th>\n      <th>Materiales recuperados-TMB mezclados</th>\n      <th>Compostado/Digestion anaerobia de FORS</th>\n      <th>Compostado/Digestión anaerobia</th>\n      <th>Incinerado</th>\n      <th>Vertido de rechazos</th>\n      <th>Vertido sin tratamiento previo</th>\n      <th>Total</th>\n    </tr>\n  </thead>\n  <tbody>\n    <tr>\n      <th>0</th>\n      <td>2018</td>\n      <td>ANDALUCÍA</td>\n      <td>412818.00</td>\n      <td>166217.000</td>\n      <td>45572.0000</td>\n      <td>685734.00</td>\n      <td>0.00</td>\n      <td>2404796.00</td>\n      <td>599650.000</td>\n      <td>4314787.00</td>\n    </tr>\n    <tr>\n      <th>1</th>\n      <td>2018</td>\n      <td>ARAGÓN</td>\n      <td>82418.00</td>\n      <td>10209.000</td>\n      <td>212000.0000</td>\n      <td>79834.00</td>\n      <td>0.00</td>\n      <td>172831.00</td>\n      <td>226741.000</td>\n      <td>572245.00</td>\n    </tr>\n    <tr>\n      <th>2</th>\n      <td>2018</td>\n      <td>PRINCIPADO DE ASTURIAS</td>\n      <td>83728.00</td>\n      <td>0.000</td>\n      <td>2481.0000</td>\n      <td>0.00</td>\n      <td>0.00</td>\n      <td>4908.00</td>\n      <td>390873.000</td>\n      <td>481990.00</td>\n    </tr>\n    <tr>\n      <th>3</th>\n      <td>2018</td>\n      <td>ILLES BALEARS</td>\n      <td>153149.00</td>\n      <td>1938.000</td>\n      <td>36774.0000</td>\n      <td>16690.00</td>\n      <td>505886.00</td>\n      <td>37932.00</td>\n      <td>143927.000</td>\n      <td>896296.00</td>\n    </tr>\n    <tr>\n      <th>4</th>\n      <td>2018</td>\n      <td>CANARIAS</td>\n      <td>140174.00</td>\n      <td>58936.000</td>\n      <td>1248.0000</td>\n      <td>176590.00</td>\n      <td>0.00</td>\n      <td>820742.00</td>\n      <td>113704.000</td>\n      <td>1311394.00</td>\n    </tr>\n    <tr>\n      <th>...</th>\n      <td>...</td>\n      <td>...</td>\n      <td>...</td>\n      <td>...</td>\n      <td>...</td>\n      <td>...</td>\n      <td>...</td>\n      <td>...</td>\n      <td>...</td>\n      <td>...</td>\n    </tr>\n    <tr>\n      <th>175</th>\n      <td>2010</td>\n      <td>PAÍS VASCO</td>\n      <td>280844.75</td>\n      <td>18907.125</td>\n      <td>8877.3750</td>\n      <td>35869.12</td>\n      <td>245290.75</td>\n      <td>85150.31</td>\n      <td>216172.750</td>\n      <td>891112.19</td>\n    </tr>\n    <tr>\n      <th>176</th>\n      <td>2010</td>\n      <td>COMUNITAT VALENCIANA</td>\n      <td>260482.44</td>\n      <td>110349.500</td>\n      <td>0.0000</td>\n      <td>639630.06</td>\n      <td>3098.75</td>\n      <td>1153239.00</td>\n      <td>423.500</td>\n      <td>2167223.25</td>\n    </tr>\n    <tr>\n      <th>177</th>\n      <td>2010</td>\n      <td>CEUTA</td>\n      <td>3252.81</td>\n      <td>0.000</td>\n      <td>0.0000</td>\n      <td>0.00</td>\n      <td>0.00</td>\n      <td>0.00</td>\n      <td>0.000</td>\n      <td>3252.81</td>\n    </tr>\n    <tr>\n      <th>178</th>\n      <td>2010</td>\n      <td>MELILLA</td>\n      <td>3368.00</td>\n      <td>0.000</td>\n      <td>0.0000</td>\n      <td>0.00</td>\n      <td>42116.19</td>\n      <td>0.00</td>\n      <td>0.000</td>\n      <td>45484.19</td>\n    </tr>\n    <tr>\n      <th>179</th>\n      <td>2010</td>\n      <td>TOTAL NACIONAL</td>\n      <td>2998739.19</td>\n      <td>619189.750</td>\n      <td>495449.6875</td>\n      <td>2651220.44</td>\n      <td>2499665.44</td>\n      <td>7537970.56</td>\n      <td>4255055.875</td>\n      <td>21057289.56</td>\n    </tr>\n  </tbody>\n</table>\n<p>180 rows × 10 columns</p>\n</div>"
     },
     "metadata": {},
     "execution_count": 18
    }
   ],
   "source": [
    "gestion"
   ]
  },
  {
   "cell_type": "code",
   "execution_count": 19,
   "metadata": {},
   "outputs": [
    {
     "output_type": "execute_result",
     "data": {
      "text/plain": [
       "    Comunidad Autónoma   Año         PIB  Poblacion  PIB per capita  \\\n",
       "0            ANDALUCÍA  2010   144752225    8370975        17292.16   \n",
       "1            ANDALUCÍA  2018   160711363    8384408        19167.88   \n",
       "2            ANDALUCÍA  2016   148405362    8388107        17692.35   \n",
       "3            ANDALUCÍA  2014   137722026    8402305        16390.98   \n",
       "4            ANDALUCÍA  2011   143389086    8424102        17021.29   \n",
       "..                 ...   ...         ...        ...             ...   \n",
       "175     TOTAL NACIONAL  2017  1161867000   46572132        24947.69   \n",
       "176     TOTAL NACIONAL  2016  1113840000   46557008        23924.22   \n",
       "177     TOTAL NACIONAL  2011  1063763000   47190493        22541.89   \n",
       "178     TOTAL NACIONAL  2013  1020348000   47129783        21649.75   \n",
       "179     TOTAL NACIONAL  2018  1204241000   46722980        25774.06   \n",
       "\n",
       "     Recoleccion-domésticos y vias  Recoleccion-voluminosos  \\\n",
       "0                        4213174.0                 155836.0   \n",
       "1                        3755593.0                 153300.0   \n",
       "2                        3545590.0                 361986.0   \n",
       "3                        3437380.0                 252293.0   \n",
       "4                        3796057.0                 152281.0   \n",
       "..                             ...                      ...   \n",
       "175                     17457709.0                 814281.0   \n",
       "176                     17141367.0                 910708.0   \n",
       "177                     18291848.0                 481780.0   \n",
       "178                     17320704.0                 532122.0   \n",
       "179                     17611068.0                 673495.0   \n",
       "\n",
       "     Recoleccion-metálicos  Recoleccion-vidrio  Recoleccion-papel y carton  \\\n",
       "0                  11203.0             82031.0                    136017.0   \n",
       "1                   1600.0            108768.0                    117131.0   \n",
       "2                   4425.0             99622.0                    101816.0   \n",
       "3                   4321.0             82208.0                     95866.0   \n",
       "4                   8370.0             74820.0                    118200.0   \n",
       "..                     ...                 ...                         ...   \n",
       "175                20940.0            815883.0                   1061380.0   \n",
       "176                20376.0            797928.0                   1021166.0   \n",
       "177                43394.0            733682.0                   1266397.0   \n",
       "178                20985.0            720930.0                    988226.0   \n",
       "179                27875.0            834764.0                   1067384.0   \n",
       "\n",
       "     ...  TOTAL RESIDUOS DE RECOGIDA SEPARADA  TOTAL RESIDUOS  \\\n",
       "0    ...                             605939.0       4974949.0   \n",
       "1    ...                             518363.0       4427256.0   \n",
       "2    ...                             488015.0       4395591.0   \n",
       "3    ...                             481568.0       4171241.0   \n",
       "4    ...                             624371.0       4572709.0   \n",
       "..   ...                                  ...             ...   \n",
       "175  ...                            4243191.0      22515181.0   \n",
       "176  ...                            3826298.0      21878373.0   \n",
       "177  ...                            4508351.0      23281979.0   \n",
       "178  ...                            3932859.0      21785685.0   \n",
       "179  ...                            4419204.0      22703767.0   \n",
       "\n",
       "     Reciclado procedente de recogida separada  \\\n",
       "0                                    362002.12   \n",
       "1                                    412818.00   \n",
       "2                                       412.82   \n",
       "3                                    341319.00   \n",
       "4                                    366138.75   \n",
       "..                                         ...   \n",
       "175                                 3372785.00   \n",
       "176                                 3372785.00   \n",
       "177                                 3023704.62   \n",
       "178                                 3073635.50   \n",
       "179                                 3221200.00   \n",
       "\n",
       "     Materiales recuperados-TMB mezclados  \\\n",
       "0                              146473.125   \n",
       "1                              166217.000   \n",
       "2                                 166.217   \n",
       "3                              138760.000   \n",
       "4                              148015.750   \n",
       "..                                    ...   \n",
       "175                            660153.000   \n",
       "176                            660153.000   \n",
       "177                            623938.500   \n",
       "178                            633436.000   \n",
       "179                            786394.000   \n",
       "\n",
       "     Compostado/Digestion anaerobia de FORS  Compostado/Digestión anaerobia  \\\n",
       "0                                37339.1875                       625062.69   \n",
       "1                                45572.0000                       685734.00   \n",
       "2                                   45.5720                          685.73   \n",
       "3                                36742.0000                       600308.00   \n",
       "4                                37458.6250                       630013.62   \n",
       "..                                      ...                             ...   \n",
       "175                             498827.0000                      3419208.00   \n",
       "176                             498827.0000                      3419208.00   \n",
       "177                             496708.6250                      2668458.12   \n",
       "178                             499226.5000                      2702933.50   \n",
       "179                             949190.0000                      3314166.00   \n",
       "\n",
       "     Incinerado  Vertido de rechazos  Vertido sin tratamiento previo  \\\n",
       "0          0.00           2308242.88                    4.864507e+05   \n",
       "1          0.00           2404796.00                    5.996500e+05   \n",
       "2          0.00           2404796.00                    5.996500e+04   \n",
       "3          0.00           2339796.00                    4.518710e+05   \n",
       "4          0.00           2301932.25                    4.933666e+05   \n",
       "..          ...                  ...                             ...   \n",
       "175  2803475.00           7571910.00                    3.691506e+06   \n",
       "176  2803475.00           7571910.00                    3.691506e+06   \n",
       "177  2507789.12           7541492.88                    4.239249e+06   \n",
       "178  2524036.50           7548537.50                    4.207636e+06   \n",
       "179  2579509.00           8356432.00                    3.531459e+06   \n",
       "\n",
       "           Total  \n",
       "0     3965570.69  \n",
       "1     4314787.00  \n",
       "2     4314787.00  \n",
       "3     3908796.00  \n",
       "4     3976925.62  \n",
       "..           ...  \n",
       "175  22017865.00  \n",
       "176  22017865.00  \n",
       "177  21101339.88  \n",
       "178  21189440.50  \n",
       "179  22264823.00  \n",
       "\n",
       "[180 rows x 31 columns]"
      ],
      "text/html": "<div>\n<style scoped>\n    .dataframe tbody tr th:only-of-type {\n        vertical-align: middle;\n    }\n\n    .dataframe tbody tr th {\n        vertical-align: top;\n    }\n\n    .dataframe thead th {\n        text-align: right;\n    }\n</style>\n<table border=\"1\" class=\"dataframe\">\n  <thead>\n    <tr style=\"text-align: right;\">\n      <th></th>\n      <th>Comunidad Autónoma</th>\n      <th>Año</th>\n      <th>PIB</th>\n      <th>Poblacion</th>\n      <th>PIB per capita</th>\n      <th>Recoleccion-domésticos y vias</th>\n      <th>Recoleccion-voluminosos</th>\n      <th>Recoleccion-metálicos</th>\n      <th>Recoleccion-vidrio</th>\n      <th>Recoleccion-papel y carton</th>\n      <th>...</th>\n      <th>TOTAL RESIDUOS DE RECOGIDA SEPARADA</th>\n      <th>TOTAL RESIDUOS</th>\n      <th>Reciclado procedente de recogida separada</th>\n      <th>Materiales recuperados-TMB mezclados</th>\n      <th>Compostado/Digestion anaerobia de FORS</th>\n      <th>Compostado/Digestión anaerobia</th>\n      <th>Incinerado</th>\n      <th>Vertido de rechazos</th>\n      <th>Vertido sin tratamiento previo</th>\n      <th>Total</th>\n    </tr>\n  </thead>\n  <tbody>\n    <tr>\n      <th>0</th>\n      <td>ANDALUCÍA</td>\n      <td>2010</td>\n      <td>144752225</td>\n      <td>8370975</td>\n      <td>17292.16</td>\n      <td>4213174.0</td>\n      <td>155836.0</td>\n      <td>11203.0</td>\n      <td>82031.0</td>\n      <td>136017.0</td>\n      <td>...</td>\n      <td>605939.0</td>\n      <td>4974949.0</td>\n      <td>362002.12</td>\n      <td>146473.125</td>\n      <td>37339.1875</td>\n      <td>625062.69</td>\n      <td>0.00</td>\n      <td>2308242.88</td>\n      <td>4.864507e+05</td>\n      <td>3965570.69</td>\n    </tr>\n    <tr>\n      <th>1</th>\n      <td>ANDALUCÍA</td>\n      <td>2018</td>\n      <td>160711363</td>\n      <td>8384408</td>\n      <td>19167.88</td>\n      <td>3755593.0</td>\n      <td>153300.0</td>\n      <td>1600.0</td>\n      <td>108768.0</td>\n      <td>117131.0</td>\n      <td>...</td>\n      <td>518363.0</td>\n      <td>4427256.0</td>\n      <td>412818.00</td>\n      <td>166217.000</td>\n      <td>45572.0000</td>\n      <td>685734.00</td>\n      <td>0.00</td>\n      <td>2404796.00</td>\n      <td>5.996500e+05</td>\n      <td>4314787.00</td>\n    </tr>\n    <tr>\n      <th>2</th>\n      <td>ANDALUCÍA</td>\n      <td>2016</td>\n      <td>148405362</td>\n      <td>8388107</td>\n      <td>17692.35</td>\n      <td>3545590.0</td>\n      <td>361986.0</td>\n      <td>4425.0</td>\n      <td>99622.0</td>\n      <td>101816.0</td>\n      <td>...</td>\n      <td>488015.0</td>\n      <td>4395591.0</td>\n      <td>412.82</td>\n      <td>166.217</td>\n      <td>45.5720</td>\n      <td>685.73</td>\n      <td>0.00</td>\n      <td>2404796.00</td>\n      <td>5.996500e+04</td>\n      <td>4314787.00</td>\n    </tr>\n    <tr>\n      <th>3</th>\n      <td>ANDALUCÍA</td>\n      <td>2014</td>\n      <td>137722026</td>\n      <td>8402305</td>\n      <td>16390.98</td>\n      <td>3437380.0</td>\n      <td>252293.0</td>\n      <td>4321.0</td>\n      <td>82208.0</td>\n      <td>95866.0</td>\n      <td>...</td>\n      <td>481568.0</td>\n      <td>4171241.0</td>\n      <td>341319.00</td>\n      <td>138760.000</td>\n      <td>36742.0000</td>\n      <td>600308.00</td>\n      <td>0.00</td>\n      <td>2339796.00</td>\n      <td>4.518710e+05</td>\n      <td>3908796.00</td>\n    </tr>\n    <tr>\n      <th>4</th>\n      <td>ANDALUCÍA</td>\n      <td>2011</td>\n      <td>143389086</td>\n      <td>8424102</td>\n      <td>17021.29</td>\n      <td>3796057.0</td>\n      <td>152281.0</td>\n      <td>8370.0</td>\n      <td>74820.0</td>\n      <td>118200.0</td>\n      <td>...</td>\n      <td>624371.0</td>\n      <td>4572709.0</td>\n      <td>366138.75</td>\n      <td>148015.750</td>\n      <td>37458.6250</td>\n      <td>630013.62</td>\n      <td>0.00</td>\n      <td>2301932.25</td>\n      <td>4.933666e+05</td>\n      <td>3976925.62</td>\n    </tr>\n    <tr>\n      <th>...</th>\n      <td>...</td>\n      <td>...</td>\n      <td>...</td>\n      <td>...</td>\n      <td>...</td>\n      <td>...</td>\n      <td>...</td>\n      <td>...</td>\n      <td>...</td>\n      <td>...</td>\n      <td>...</td>\n      <td>...</td>\n      <td>...</td>\n      <td>...</td>\n      <td>...</td>\n      <td>...</td>\n      <td>...</td>\n      <td>...</td>\n      <td>...</td>\n      <td>...</td>\n      <td>...</td>\n    </tr>\n    <tr>\n      <th>175</th>\n      <td>TOTAL NACIONAL</td>\n      <td>2017</td>\n      <td>1161867000</td>\n      <td>46572132</td>\n      <td>24947.69</td>\n      <td>17457709.0</td>\n      <td>814281.0</td>\n      <td>20940.0</td>\n      <td>815883.0</td>\n      <td>1061380.0</td>\n      <td>...</td>\n      <td>4243191.0</td>\n      <td>22515181.0</td>\n      <td>3372785.00</td>\n      <td>660153.000</td>\n      <td>498827.0000</td>\n      <td>3419208.00</td>\n      <td>2803475.00</td>\n      <td>7571910.00</td>\n      <td>3.691506e+06</td>\n      <td>22017865.00</td>\n    </tr>\n    <tr>\n      <th>176</th>\n      <td>TOTAL NACIONAL</td>\n      <td>2016</td>\n      <td>1113840000</td>\n      <td>46557008</td>\n      <td>23924.22</td>\n      <td>17141367.0</td>\n      <td>910708.0</td>\n      <td>20376.0</td>\n      <td>797928.0</td>\n      <td>1021166.0</td>\n      <td>...</td>\n      <td>3826298.0</td>\n      <td>21878373.0</td>\n      <td>3372785.00</td>\n      <td>660153.000</td>\n      <td>498827.0000</td>\n      <td>3419208.00</td>\n      <td>2803475.00</td>\n      <td>7571910.00</td>\n      <td>3.691506e+06</td>\n      <td>22017865.00</td>\n    </tr>\n    <tr>\n      <th>177</th>\n      <td>TOTAL NACIONAL</td>\n      <td>2011</td>\n      <td>1063763000</td>\n      <td>47190493</td>\n      <td>22541.89</td>\n      <td>18291848.0</td>\n      <td>481780.0</td>\n      <td>43394.0</td>\n      <td>733682.0</td>\n      <td>1266397.0</td>\n      <td>...</td>\n      <td>4508351.0</td>\n      <td>23281979.0</td>\n      <td>3023704.62</td>\n      <td>623938.500</td>\n      <td>496708.6250</td>\n      <td>2668458.12</td>\n      <td>2507789.12</td>\n      <td>7541492.88</td>\n      <td>4.239249e+06</td>\n      <td>21101339.88</td>\n    </tr>\n    <tr>\n      <th>178</th>\n      <td>TOTAL NACIONAL</td>\n      <td>2013</td>\n      <td>1020348000</td>\n      <td>47129783</td>\n      <td>21649.75</td>\n      <td>17320704.0</td>\n      <td>532122.0</td>\n      <td>20985.0</td>\n      <td>720930.0</td>\n      <td>988226.0</td>\n      <td>...</td>\n      <td>3932859.0</td>\n      <td>21785685.0</td>\n      <td>3073635.50</td>\n      <td>633436.000</td>\n      <td>499226.5000</td>\n      <td>2702933.50</td>\n      <td>2524036.50</td>\n      <td>7548537.50</td>\n      <td>4.207636e+06</td>\n      <td>21189440.50</td>\n    </tr>\n    <tr>\n      <th>179</th>\n      <td>TOTAL NACIONAL</td>\n      <td>2018</td>\n      <td>1204241000</td>\n      <td>46722980</td>\n      <td>25774.06</td>\n      <td>17611068.0</td>\n      <td>673495.0</td>\n      <td>27875.0</td>\n      <td>834764.0</td>\n      <td>1067384.0</td>\n      <td>...</td>\n      <td>4419204.0</td>\n      <td>22703767.0</td>\n      <td>3221200.00</td>\n      <td>786394.000</td>\n      <td>949190.0000</td>\n      <td>3314166.00</td>\n      <td>2579509.00</td>\n      <td>8356432.00</td>\n      <td>3.531459e+06</td>\n      <td>22264823.00</td>\n    </tr>\n  </tbody>\n</table>\n<p>180 rows × 31 columns</p>\n</div>"
     },
     "metadata": {},
     "execution_count": 19
    }
   ],
   "source": [
    "#unimos la siguiente base de datos (gestion)\n",
    "data_merged_3 =  pd.merge(left=data_merged_2, right=gestion, how=\"outer\", on=[\"Año\",\"Comunidad Autónoma\"])\n",
    "data_merged_3"
   ]
  },
  {
   "cell_type": "code",
   "execution_count": 21,
   "metadata": {},
   "outputs": [],
   "source": [
    "## no coincide el titulo lo voy a cambiar\n",
    "emisiones.rename(columns={'Comunidad Autonoma': 'Comunidad Autónoma'}, inplace=True)"
   ]
  },
  {
   "cell_type": "code",
   "execution_count": 22,
   "metadata": {},
   "outputs": [
    {
     "output_type": "execute_result",
     "data": {
      "text/plain": [
       "   Biological treatment of waste - Anaerobic digestion at biogas facilities  \\\n",
       "0                                               0.12                          \n",
       "1                                               0.19                          \n",
       "2                                               0.25                          \n",
       "3                                               0.41                          \n",
       "4                                               0.49                          \n",
       "5                                               0.57                          \n",
       "6                                               0.39                          \n",
       "7                                               0.51                          \n",
       "8                                               0.51                          \n",
       "9                                               0.51                          \n",
       "\n",
       "   Biological treatment of waste - Composting  \\\n",
       "0                                        1.09   \n",
       "1                                        1.03   \n",
       "2                                        0.99   \n",
       "3                                        0.91   \n",
       "4                                        0.83   \n",
       "5                                        0.88   \n",
       "6                                        0.86   \n",
       "7                                        0.86   \n",
       "8                                        0.78   \n",
       "9                                        0.78   \n",
       "\n",
       "   Biological treatment of waste - Solid waste disposal on land  \\\n",
       "0                                               4.52              \n",
       "1                                               4.76              \n",
       "2                                               4.74              \n",
       "3                                               4.66              \n",
       "4                                               4.46              \n",
       "5                                               4.60              \n",
       "6                                               4.54              \n",
       "7                                               4.52              \n",
       "8                                               4.81              \n",
       "9                                               4.78              \n",
       "\n",
       "   Clinical waste incineration  Cremation  Domestic wastewater handling  \\\n",
       "0                          0.0       0.32                          0.31   \n",
       "1                          0.0       0.34                          0.23   \n",
       "2                          0.0       0.38                          0.22   \n",
       "3                          0.0       0.39                          0.22   \n",
       "4                          0.0       0.47                          0.22   \n",
       "5                          0.0       0.52                          0.22   \n",
       "6                          0.0       0.56                          0.21   \n",
       "7                          0.0       0.55                          0.21   \n",
       "8                          0.0       0.60                          0.21   \n",
       "9                          0.0       0.59                          0.21   \n",
       "\n",
       "   Hazardous waste incineration  Industrial waste incineration  \\\n",
       "0                           0.0                            0.0   \n",
       "1                           0.0                            0.0   \n",
       "2                           0.0                            0.0   \n",
       "3                           0.0                            0.0   \n",
       "4                           0.0                            0.0   \n",
       "5                           0.0                            0.0   \n",
       "6                           0.0                            0.0   \n",
       "7                           0.0                            0.0   \n",
       "8                           0.0                            0.0   \n",
       "9                           0.0                            0.0   \n",
       "\n",
       "   Industrial wastewater handling  Municipal waste incineration  \\\n",
       "0                            0.09                           0.0   \n",
       "1                            0.09                           0.0   \n",
       "2                            0.08                           0.0   \n",
       "3                            0.08                           0.0   \n",
       "4                            0.09                           0.0   \n",
       "5                            0.09                           0.0   \n",
       "6                            0.09                           0.0   \n",
       "7                            0.09                           0.0   \n",
       "8                            0.09                           0.0   \n",
       "9                            0.09                           0.0   \n",
       "\n",
       "   Open burning of waste  Other waste (please specify in IIR)  \\\n",
       "0                 792.33                                16.23   \n",
       "1                 826.90                                19.80   \n",
       "2                 542.86                                18.72   \n",
       "3                 954.47                                17.95   \n",
       "4                 622.23                                17.46   \n",
       "5                 797.12                                17.37   \n",
       "6                 785.16                                50.31   \n",
       "7                 742.75                                16.83   \n",
       "8                1009.63                                17.52   \n",
       "9                1009.63                                21.66   \n",
       "\n",
       "   Other waste incineration (please specify in the IIR)  \\\n",
       "0                                                0.0      \n",
       "1                                                0.0      \n",
       "2                                                0.0      \n",
       "3                                                0.0      \n",
       "4                                                0.0      \n",
       "5                                                0.0      \n",
       "6                                                0.0      \n",
       "7                                                0.0      \n",
       "8                                                0.0      \n",
       "9                                                0.0      \n",
       "\n",
       "   Other wastewater handling  Sewage sludge incineration   Año  \\\n",
       "0                       1.49                       13.14  2010   \n",
       "1                       1.45                       13.03  2011   \n",
       "2                       0.67                       15.78  2012   \n",
       "3                       0.67                       10.58  2013   \n",
       "4                       2.08                       11.24  2014   \n",
       "5                       2.08                       11.58  2015   \n",
       "6                       2.08                       11.92  2016   \n",
       "7                       2.09                       11.61  2017   \n",
       "8                       2.09                       11.56  2018   \n",
       "9                       2.11                       11.44  2019   \n",
       "\n",
       "  Comunidad Autónoma  \n",
       "0     Total Nacional  \n",
       "1     Total Nacional  \n",
       "2     Total Nacional  \n",
       "3     Total Nacional  \n",
       "4     Total Nacional  \n",
       "5     Total Nacional  \n",
       "6     Total Nacional  \n",
       "7     Total Nacional  \n",
       "8     Total Nacional  \n",
       "9     Total Nacional  "
      ],
      "text/html": "<div>\n<style scoped>\n    .dataframe tbody tr th:only-of-type {\n        vertical-align: middle;\n    }\n\n    .dataframe tbody tr th {\n        vertical-align: top;\n    }\n\n    .dataframe thead th {\n        text-align: right;\n    }\n</style>\n<table border=\"1\" class=\"dataframe\">\n  <thead>\n    <tr style=\"text-align: right;\">\n      <th></th>\n      <th>Biological treatment of waste - Anaerobic digestion at biogas facilities</th>\n      <th>Biological treatment of waste - Composting</th>\n      <th>Biological treatment of waste - Solid waste disposal on land</th>\n      <th>Clinical waste incineration</th>\n      <th>Cremation</th>\n      <th>Domestic wastewater handling</th>\n      <th>Hazardous waste incineration</th>\n      <th>Industrial waste incineration</th>\n      <th>Industrial wastewater handling</th>\n      <th>Municipal waste incineration</th>\n      <th>Open burning of waste</th>\n      <th>Other waste (please specify in IIR)</th>\n      <th>Other waste incineration (please specify in the IIR)</th>\n      <th>Other wastewater handling</th>\n      <th>Sewage sludge incineration</th>\n      <th>Año</th>\n      <th>Comunidad Autónoma</th>\n    </tr>\n  </thead>\n  <tbody>\n    <tr>\n      <th>0</th>\n      <td>0.12</td>\n      <td>1.09</td>\n      <td>4.52</td>\n      <td>0.0</td>\n      <td>0.32</td>\n      <td>0.31</td>\n      <td>0.0</td>\n      <td>0.0</td>\n      <td>0.09</td>\n      <td>0.0</td>\n      <td>792.33</td>\n      <td>16.23</td>\n      <td>0.0</td>\n      <td>1.49</td>\n      <td>13.14</td>\n      <td>2010</td>\n      <td>Total Nacional</td>\n    </tr>\n    <tr>\n      <th>1</th>\n      <td>0.19</td>\n      <td>1.03</td>\n      <td>4.76</td>\n      <td>0.0</td>\n      <td>0.34</td>\n      <td>0.23</td>\n      <td>0.0</td>\n      <td>0.0</td>\n      <td>0.09</td>\n      <td>0.0</td>\n      <td>826.90</td>\n      <td>19.80</td>\n      <td>0.0</td>\n      <td>1.45</td>\n      <td>13.03</td>\n      <td>2011</td>\n      <td>Total Nacional</td>\n    </tr>\n    <tr>\n      <th>2</th>\n      <td>0.25</td>\n      <td>0.99</td>\n      <td>4.74</td>\n      <td>0.0</td>\n      <td>0.38</td>\n      <td>0.22</td>\n      <td>0.0</td>\n      <td>0.0</td>\n      <td>0.08</td>\n      <td>0.0</td>\n      <td>542.86</td>\n      <td>18.72</td>\n      <td>0.0</td>\n      <td>0.67</td>\n      <td>15.78</td>\n      <td>2012</td>\n      <td>Total Nacional</td>\n    </tr>\n    <tr>\n      <th>3</th>\n      <td>0.41</td>\n      <td>0.91</td>\n      <td>4.66</td>\n      <td>0.0</td>\n      <td>0.39</td>\n      <td>0.22</td>\n      <td>0.0</td>\n      <td>0.0</td>\n      <td>0.08</td>\n      <td>0.0</td>\n      <td>954.47</td>\n      <td>17.95</td>\n      <td>0.0</td>\n      <td>0.67</td>\n      <td>10.58</td>\n      <td>2013</td>\n      <td>Total Nacional</td>\n    </tr>\n    <tr>\n      <th>4</th>\n      <td>0.49</td>\n      <td>0.83</td>\n      <td>4.46</td>\n      <td>0.0</td>\n      <td>0.47</td>\n      <td>0.22</td>\n      <td>0.0</td>\n      <td>0.0</td>\n      <td>0.09</td>\n      <td>0.0</td>\n      <td>622.23</td>\n      <td>17.46</td>\n      <td>0.0</td>\n      <td>2.08</td>\n      <td>11.24</td>\n      <td>2014</td>\n      <td>Total Nacional</td>\n    </tr>\n    <tr>\n      <th>5</th>\n      <td>0.57</td>\n      <td>0.88</td>\n      <td>4.60</td>\n      <td>0.0</td>\n      <td>0.52</td>\n      <td>0.22</td>\n      <td>0.0</td>\n      <td>0.0</td>\n      <td>0.09</td>\n      <td>0.0</td>\n      <td>797.12</td>\n      <td>17.37</td>\n      <td>0.0</td>\n      <td>2.08</td>\n      <td>11.58</td>\n      <td>2015</td>\n      <td>Total Nacional</td>\n    </tr>\n    <tr>\n      <th>6</th>\n      <td>0.39</td>\n      <td>0.86</td>\n      <td>4.54</td>\n      <td>0.0</td>\n      <td>0.56</td>\n      <td>0.21</td>\n      <td>0.0</td>\n      <td>0.0</td>\n      <td>0.09</td>\n      <td>0.0</td>\n      <td>785.16</td>\n      <td>50.31</td>\n      <td>0.0</td>\n      <td>2.08</td>\n      <td>11.92</td>\n      <td>2016</td>\n      <td>Total Nacional</td>\n    </tr>\n    <tr>\n      <th>7</th>\n      <td>0.51</td>\n      <td>0.86</td>\n      <td>4.52</td>\n      <td>0.0</td>\n      <td>0.55</td>\n      <td>0.21</td>\n      <td>0.0</td>\n      <td>0.0</td>\n      <td>0.09</td>\n      <td>0.0</td>\n      <td>742.75</td>\n      <td>16.83</td>\n      <td>0.0</td>\n      <td>2.09</td>\n      <td>11.61</td>\n      <td>2017</td>\n      <td>Total Nacional</td>\n    </tr>\n    <tr>\n      <th>8</th>\n      <td>0.51</td>\n      <td>0.78</td>\n      <td>4.81</td>\n      <td>0.0</td>\n      <td>0.60</td>\n      <td>0.21</td>\n      <td>0.0</td>\n      <td>0.0</td>\n      <td>0.09</td>\n      <td>0.0</td>\n      <td>1009.63</td>\n      <td>17.52</td>\n      <td>0.0</td>\n      <td>2.09</td>\n      <td>11.56</td>\n      <td>2018</td>\n      <td>Total Nacional</td>\n    </tr>\n    <tr>\n      <th>9</th>\n      <td>0.51</td>\n      <td>0.78</td>\n      <td>4.78</td>\n      <td>0.0</td>\n      <td>0.59</td>\n      <td>0.21</td>\n      <td>0.0</td>\n      <td>0.0</td>\n      <td>0.09</td>\n      <td>0.0</td>\n      <td>1009.63</td>\n      <td>21.66</td>\n      <td>0.0</td>\n      <td>2.11</td>\n      <td>11.44</td>\n      <td>2019</td>\n      <td>Total Nacional</td>\n    </tr>\n  </tbody>\n</table>\n</div>"
     },
     "metadata": {},
     "execution_count": 22
    }
   ],
   "source": [
    "emisiones"
   ]
  },
  {
   "cell_type": "code",
   "execution_count": 23,
   "metadata": {},
   "outputs": [],
   "source": [
    "emisiones['Comunidad Autónoma'] = emisiones['Comunidad Autónoma'].str.upper()"
   ]
  },
  {
   "cell_type": "code",
   "execution_count": 24,
   "metadata": {},
   "outputs": [
    {
     "output_type": "execute_result",
     "data": {
      "text/plain": [
       "    Comunidad Autónoma   Año           PIB   Poblacion  PIB per capita  \\\n",
       "0            ANDALUCÍA  2010  1.447522e+08   8370975.0        17292.16   \n",
       "1            ANDALUCÍA  2018  1.607114e+08   8384408.0        19167.88   \n",
       "2            ANDALUCÍA  2016  1.484054e+08   8388107.0        17692.35   \n",
       "3            ANDALUCÍA  2014  1.377220e+08   8402305.0        16390.98   \n",
       "4            ANDALUCÍA  2011  1.433891e+08   8424102.0        17021.29   \n",
       "..                 ...   ...           ...         ...             ...   \n",
       "176     TOTAL NACIONAL  2016  1.113840e+09  46557008.0        23924.22   \n",
       "177     TOTAL NACIONAL  2011  1.063763e+09  47190493.0        22541.89   \n",
       "178     TOTAL NACIONAL  2013  1.020348e+09  47129783.0        21649.75   \n",
       "179     TOTAL NACIONAL  2018  1.204241e+09  46722980.0        25774.06   \n",
       "180     TOTAL NACIONAL  2019           NaN         NaN             NaN   \n",
       "\n",
       "     Recoleccion-domésticos y vias  Recoleccion-voluminosos  \\\n",
       "0                        4213174.0                 155836.0   \n",
       "1                        3755593.0                 153300.0   \n",
       "2                        3545590.0                 361986.0   \n",
       "3                        3437380.0                 252293.0   \n",
       "4                        3796057.0                 152281.0   \n",
       "..                             ...                      ...   \n",
       "176                     17141367.0                 910708.0   \n",
       "177                     18291848.0                 481780.0   \n",
       "178                     17320704.0                 532122.0   \n",
       "179                     17611068.0                 673495.0   \n",
       "180                            NaN                      NaN   \n",
       "\n",
       "     Recoleccion-metálicos  Recoleccion-vidrio  Recoleccion-papel y carton  \\\n",
       "0                  11203.0             82031.0                    136017.0   \n",
       "1                   1600.0            108768.0                    117131.0   \n",
       "2                   4425.0             99622.0                    101816.0   \n",
       "3                   4321.0             82208.0                     95866.0   \n",
       "4                   8370.0             74820.0                    118200.0   \n",
       "..                     ...                 ...                         ...   \n",
       "176                20376.0            797928.0                   1021166.0   \n",
       "177                43394.0            733682.0                   1266397.0   \n",
       "178                20985.0            720930.0                    988226.0   \n",
       "179                27875.0            834764.0                   1067384.0   \n",
       "180                    NaN                 NaN                         NaN   \n",
       "\n",
       "     ...  Domestic wastewater handling  Hazardous waste incineration  \\\n",
       "0    ...                           NaN                           NaN   \n",
       "1    ...                           NaN                           NaN   \n",
       "2    ...                           NaN                           NaN   \n",
       "3    ...                           NaN                           NaN   \n",
       "4    ...                           NaN                           NaN   \n",
       "..   ...                           ...                           ...   \n",
       "176  ...                          0.21                           0.0   \n",
       "177  ...                          0.23                           0.0   \n",
       "178  ...                          0.22                           0.0   \n",
       "179  ...                          0.21                           0.0   \n",
       "180  ...                          0.21                           0.0   \n",
       "\n",
       "     Industrial waste incineration  Industrial wastewater handling  \\\n",
       "0                              NaN                             NaN   \n",
       "1                              NaN                             NaN   \n",
       "2                              NaN                             NaN   \n",
       "3                              NaN                             NaN   \n",
       "4                              NaN                             NaN   \n",
       "..                             ...                             ...   \n",
       "176                            0.0                            0.09   \n",
       "177                            0.0                            0.09   \n",
       "178                            0.0                            0.08   \n",
       "179                            0.0                            0.09   \n",
       "180                            0.0                            0.09   \n",
       "\n",
       "     Municipal waste incineration  Open burning of waste  \\\n",
       "0                             NaN                    NaN   \n",
       "1                             NaN                    NaN   \n",
       "2                             NaN                    NaN   \n",
       "3                             NaN                    NaN   \n",
       "4                             NaN                    NaN   \n",
       "..                            ...                    ...   \n",
       "176                           0.0                 785.16   \n",
       "177                           0.0                 826.90   \n",
       "178                           0.0                 954.47   \n",
       "179                           0.0                1009.63   \n",
       "180                           0.0                1009.63   \n",
       "\n",
       "     Other waste (please specify in IIR)  \\\n",
       "0                                    NaN   \n",
       "1                                    NaN   \n",
       "2                                    NaN   \n",
       "3                                    NaN   \n",
       "4                                    NaN   \n",
       "..                                   ...   \n",
       "176                                50.31   \n",
       "177                                19.80   \n",
       "178                                17.95   \n",
       "179                                17.52   \n",
       "180                                21.66   \n",
       "\n",
       "     Other waste incineration (please specify in the IIR)  \\\n",
       "0                                                  NaN      \n",
       "1                                                  NaN      \n",
       "2                                                  NaN      \n",
       "3                                                  NaN      \n",
       "4                                                  NaN      \n",
       "..                                                 ...      \n",
       "176                                                0.0      \n",
       "177                                                0.0      \n",
       "178                                                0.0      \n",
       "179                                                0.0      \n",
       "180                                                0.0      \n",
       "\n",
       "     Other wastewater handling  Sewage sludge incineration  \n",
       "0                          NaN                         NaN  \n",
       "1                          NaN                         NaN  \n",
       "2                          NaN                         NaN  \n",
       "3                          NaN                         NaN  \n",
       "4                          NaN                         NaN  \n",
       "..                         ...                         ...  \n",
       "176                       2.08                       11.92  \n",
       "177                       1.45                       13.03  \n",
       "178                       0.67                       10.58  \n",
       "179                       2.09                       11.56  \n",
       "180                       2.11                       11.44  \n",
       "\n",
       "[181 rows x 46 columns]"
      ],
      "text/html": "<div>\n<style scoped>\n    .dataframe tbody tr th:only-of-type {\n        vertical-align: middle;\n    }\n\n    .dataframe tbody tr th {\n        vertical-align: top;\n    }\n\n    .dataframe thead th {\n        text-align: right;\n    }\n</style>\n<table border=\"1\" class=\"dataframe\">\n  <thead>\n    <tr style=\"text-align: right;\">\n      <th></th>\n      <th>Comunidad Autónoma</th>\n      <th>Año</th>\n      <th>PIB</th>\n      <th>Poblacion</th>\n      <th>PIB per capita</th>\n      <th>Recoleccion-domésticos y vias</th>\n      <th>Recoleccion-voluminosos</th>\n      <th>Recoleccion-metálicos</th>\n      <th>Recoleccion-vidrio</th>\n      <th>Recoleccion-papel y carton</th>\n      <th>...</th>\n      <th>Domestic wastewater handling</th>\n      <th>Hazardous waste incineration</th>\n      <th>Industrial waste incineration</th>\n      <th>Industrial wastewater handling</th>\n      <th>Municipal waste incineration</th>\n      <th>Open burning of waste</th>\n      <th>Other waste (please specify in IIR)</th>\n      <th>Other waste incineration (please specify in the IIR)</th>\n      <th>Other wastewater handling</th>\n      <th>Sewage sludge incineration</th>\n    </tr>\n  </thead>\n  <tbody>\n    <tr>\n      <th>0</th>\n      <td>ANDALUCÍA</td>\n      <td>2010</td>\n      <td>1.447522e+08</td>\n      <td>8370975.0</td>\n      <td>17292.16</td>\n      <td>4213174.0</td>\n      <td>155836.0</td>\n      <td>11203.0</td>\n      <td>82031.0</td>\n      <td>136017.0</td>\n      <td>...</td>\n      <td>NaN</td>\n      <td>NaN</td>\n      <td>NaN</td>\n      <td>NaN</td>\n      <td>NaN</td>\n      <td>NaN</td>\n      <td>NaN</td>\n      <td>NaN</td>\n      <td>NaN</td>\n      <td>NaN</td>\n    </tr>\n    <tr>\n      <th>1</th>\n      <td>ANDALUCÍA</td>\n      <td>2018</td>\n      <td>1.607114e+08</td>\n      <td>8384408.0</td>\n      <td>19167.88</td>\n      <td>3755593.0</td>\n      <td>153300.0</td>\n      <td>1600.0</td>\n      <td>108768.0</td>\n      <td>117131.0</td>\n      <td>...</td>\n      <td>NaN</td>\n      <td>NaN</td>\n      <td>NaN</td>\n      <td>NaN</td>\n      <td>NaN</td>\n      <td>NaN</td>\n      <td>NaN</td>\n      <td>NaN</td>\n      <td>NaN</td>\n      <td>NaN</td>\n    </tr>\n    <tr>\n      <th>2</th>\n      <td>ANDALUCÍA</td>\n      <td>2016</td>\n      <td>1.484054e+08</td>\n      <td>8388107.0</td>\n      <td>17692.35</td>\n      <td>3545590.0</td>\n      <td>361986.0</td>\n      <td>4425.0</td>\n      <td>99622.0</td>\n      <td>101816.0</td>\n      <td>...</td>\n      <td>NaN</td>\n      <td>NaN</td>\n      <td>NaN</td>\n      <td>NaN</td>\n      <td>NaN</td>\n      <td>NaN</td>\n      <td>NaN</td>\n      <td>NaN</td>\n      <td>NaN</td>\n      <td>NaN</td>\n    </tr>\n    <tr>\n      <th>3</th>\n      <td>ANDALUCÍA</td>\n      <td>2014</td>\n      <td>1.377220e+08</td>\n      <td>8402305.0</td>\n      <td>16390.98</td>\n      <td>3437380.0</td>\n      <td>252293.0</td>\n      <td>4321.0</td>\n      <td>82208.0</td>\n      <td>95866.0</td>\n      <td>...</td>\n      <td>NaN</td>\n      <td>NaN</td>\n      <td>NaN</td>\n      <td>NaN</td>\n      <td>NaN</td>\n      <td>NaN</td>\n      <td>NaN</td>\n      <td>NaN</td>\n      <td>NaN</td>\n      <td>NaN</td>\n    </tr>\n    <tr>\n      <th>4</th>\n      <td>ANDALUCÍA</td>\n      <td>2011</td>\n      <td>1.433891e+08</td>\n      <td>8424102.0</td>\n      <td>17021.29</td>\n      <td>3796057.0</td>\n      <td>152281.0</td>\n      <td>8370.0</td>\n      <td>74820.0</td>\n      <td>118200.0</td>\n      <td>...</td>\n      <td>NaN</td>\n      <td>NaN</td>\n      <td>NaN</td>\n      <td>NaN</td>\n      <td>NaN</td>\n      <td>NaN</td>\n      <td>NaN</td>\n      <td>NaN</td>\n      <td>NaN</td>\n      <td>NaN</td>\n    </tr>\n    <tr>\n      <th>...</th>\n      <td>...</td>\n      <td>...</td>\n      <td>...</td>\n      <td>...</td>\n      <td>...</td>\n      <td>...</td>\n      <td>...</td>\n      <td>...</td>\n      <td>...</td>\n      <td>...</td>\n      <td>...</td>\n      <td>...</td>\n      <td>...</td>\n      <td>...</td>\n      <td>...</td>\n      <td>...</td>\n      <td>...</td>\n      <td>...</td>\n      <td>...</td>\n      <td>...</td>\n      <td>...</td>\n    </tr>\n    <tr>\n      <th>176</th>\n      <td>TOTAL NACIONAL</td>\n      <td>2016</td>\n      <td>1.113840e+09</td>\n      <td>46557008.0</td>\n      <td>23924.22</td>\n      <td>17141367.0</td>\n      <td>910708.0</td>\n      <td>20376.0</td>\n      <td>797928.0</td>\n      <td>1021166.0</td>\n      <td>...</td>\n      <td>0.21</td>\n      <td>0.0</td>\n      <td>0.0</td>\n      <td>0.09</td>\n      <td>0.0</td>\n      <td>785.16</td>\n      <td>50.31</td>\n      <td>0.0</td>\n      <td>2.08</td>\n      <td>11.92</td>\n    </tr>\n    <tr>\n      <th>177</th>\n      <td>TOTAL NACIONAL</td>\n      <td>2011</td>\n      <td>1.063763e+09</td>\n      <td>47190493.0</td>\n      <td>22541.89</td>\n      <td>18291848.0</td>\n      <td>481780.0</td>\n      <td>43394.0</td>\n      <td>733682.0</td>\n      <td>1266397.0</td>\n      <td>...</td>\n      <td>0.23</td>\n      <td>0.0</td>\n      <td>0.0</td>\n      <td>0.09</td>\n      <td>0.0</td>\n      <td>826.90</td>\n      <td>19.80</td>\n      <td>0.0</td>\n      <td>1.45</td>\n      <td>13.03</td>\n    </tr>\n    <tr>\n      <th>178</th>\n      <td>TOTAL NACIONAL</td>\n      <td>2013</td>\n      <td>1.020348e+09</td>\n      <td>47129783.0</td>\n      <td>21649.75</td>\n      <td>17320704.0</td>\n      <td>532122.0</td>\n      <td>20985.0</td>\n      <td>720930.0</td>\n      <td>988226.0</td>\n      <td>...</td>\n      <td>0.22</td>\n      <td>0.0</td>\n      <td>0.0</td>\n      <td>0.08</td>\n      <td>0.0</td>\n      <td>954.47</td>\n      <td>17.95</td>\n      <td>0.0</td>\n      <td>0.67</td>\n      <td>10.58</td>\n    </tr>\n    <tr>\n      <th>179</th>\n      <td>TOTAL NACIONAL</td>\n      <td>2018</td>\n      <td>1.204241e+09</td>\n      <td>46722980.0</td>\n      <td>25774.06</td>\n      <td>17611068.0</td>\n      <td>673495.0</td>\n      <td>27875.0</td>\n      <td>834764.0</td>\n      <td>1067384.0</td>\n      <td>...</td>\n      <td>0.21</td>\n      <td>0.0</td>\n      <td>0.0</td>\n      <td>0.09</td>\n      <td>0.0</td>\n      <td>1009.63</td>\n      <td>17.52</td>\n      <td>0.0</td>\n      <td>2.09</td>\n      <td>11.56</td>\n    </tr>\n    <tr>\n      <th>180</th>\n      <td>TOTAL NACIONAL</td>\n      <td>2019</td>\n      <td>NaN</td>\n      <td>NaN</td>\n      <td>NaN</td>\n      <td>NaN</td>\n      <td>NaN</td>\n      <td>NaN</td>\n      <td>NaN</td>\n      <td>NaN</td>\n      <td>...</td>\n      <td>0.21</td>\n      <td>0.0</td>\n      <td>0.0</td>\n      <td>0.09</td>\n      <td>0.0</td>\n      <td>1009.63</td>\n      <td>21.66</td>\n      <td>0.0</td>\n      <td>2.11</td>\n      <td>11.44</td>\n    </tr>\n  </tbody>\n</table>\n<p>181 rows × 46 columns</p>\n</div>"
     },
     "metadata": {},
     "execution_count": 24
    }
   ],
   "source": [
    "#unimos las dos bases de datos que no tienen CCAA\n",
    "data_merged_4 =  pd.merge(left=data_merged_3, right=emisiones, how=\"outer\", on=[\"Año\" , 'Comunidad Autónoma'])\n",
    "data_merged_4"
   ]
  },
  {
   "cell_type": "code",
   "execution_count": 30,
   "metadata": {},
   "outputs": [],
   "source": [
    "#no hemos considerado el año 2019 por tal motivo se elimina la ultima fila\n",
    "data_merged_4 = data_merged_4.drop([180], axis=0 )"
   ]
  },
  {
   "cell_type": "code",
   "execution_count": 182,
   "metadata": {},
   "outputs": [
    {
     "output_type": "execute_result",
     "data": {
      "text/plain": [
       "Index(['Comunidad Autónoma', 'Año', 'PIB', 'Poblacion', 'PIB per capita',\n",
       "       'Recoleccion-domésticos y vias', 'Recoleccion-voluminosos',\n",
       "       'Recoleccion-metálicos', 'Recoleccion-vidrio',\n",
       "       'Recoleccion-papel y carton', 'Recoleccion-plasticos',\n",
       "       'Recoleccion-madera', 'Recoleccion-textiles',\n",
       "       'Recoleccion-eq. electricos', 'Recoleccion-pilas',\n",
       "       'Recoleccion-animales', 'Recoleccion-Envases mixtos', 'lodos',\n",
       "       'Recoleccion-construccion', 'Recoleccion-otros',\n",
       "       'TOTAL RESIDUOS MEZCLADOS', 'TOTAL RESIDUOS DE RECOGIDA SEPARADA',\n",
       "       'TOTAL RESIDUOS', 'Gestion: Incineracion (tn)',\n",
       "       'Gestion: Opereaciones de relleno (tn)', 'Gestion Recuperacion (tn)',\n",
       "       'Gestion Total (tn)', 'Gestion Vertido (tn)',\n",
       "       'Biological treatment of waste - Anaerobic digestion at biogas facilities',\n",
       "       'Biological treatment of waste - Composting',\n",
       "       'Biological treatment of waste - Solid waste disposal on land',\n",
       "       'Clinical waste incineration', 'Cremation',\n",
       "       'Domestic wastewater handling', 'Hazardous waste incineration',\n",
       "       'Industrial waste incineration', 'Industrial wastewater handling',\n",
       "       'Municipal waste incineration', 'Open burning of waste',\n",
       "       'Other waste (please specify in IIR)',\n",
       "       'Other waste incineration (please specify in the IIR)',\n",
       "       'Other wastewater handling', 'Sewage sludge incineration'],\n",
       "      dtype='object')"
      ]
     },
     "metadata": {},
     "execution_count": 182
    }
   ],
   "source": [
    "data_merged_4.columns"
   ]
  },
  {
   "cell_type": "code",
   "execution_count": 183,
   "metadata": {},
   "outputs": [
    {
     "output_type": "execute_result",
     "data": {
      "text/plain": [
       "  Autonomous communities  Year          GDP  Population  GDP per capita  \\\n",
       "0              ANDALUCÍA  2010  144752225.0   8370975.0        17292.16   \n",
       "1              ANDALUCÍA  2018  160711363.0   8384408.0        19167.88   \n",
       "2              ANDALUCÍA  2016  148405362.0   8388107.0        17692.35   \n",
       "3              ANDALUCÍA  2014  137722026.0   8402305.0        16390.98   \n",
       "4              ANDALUCÍA  2011  143389086.0   8424102.0        17021.29   \n",
       "\n",
       "   Domestic Waste and Wheelie Bins -C   Bulk -C  Metallics waste -C  \\\n",
       "0                           4213174.0  155836.0             11203.0   \n",
       "1                           3755593.0  153300.0              1600.0   \n",
       "2                           3545590.0  361986.0              4425.0   \n",
       "3                           3437380.0  252293.0              4321.0   \n",
       "4                           3796057.0  152281.0              8370.0   \n",
       "\n",
       "   Waste Glass -C  Waste Paper and Cardboard -C  ...  \\\n",
       "0         82031.0                      136017.0  ...   \n",
       "1        108768.0                      117131.0  ...   \n",
       "2         99622.0                      101816.0  ...   \n",
       "3         82208.0                       95866.0  ...   \n",
       "4         74820.0                      118200.0  ...   \n",
       "\n",
       "   Domestic wastewater handling  Hazardous waste incineration  \\\n",
       "0                           NaN                           NaN   \n",
       "1                           NaN                           NaN   \n",
       "2                           NaN                           NaN   \n",
       "3                           NaN                           NaN   \n",
       "4                           NaN                           NaN   \n",
       "\n",
       "   Industrial waste incineration  Industrial wastewater handling  \\\n",
       "0                            NaN                             NaN   \n",
       "1                            NaN                             NaN   \n",
       "2                            NaN                             NaN   \n",
       "3                            NaN                             NaN   \n",
       "4                            NaN                             NaN   \n",
       "\n",
       "   Municipal waste incineration  Open burning of waste  Other waste  \\\n",
       "0                           NaN                    NaN          NaN   \n",
       "1                           NaN                    NaN          NaN   \n",
       "2                           NaN                    NaN          NaN   \n",
       "3                           NaN                    NaN          NaN   \n",
       "4                           NaN                    NaN          NaN   \n",
       "\n",
       "   Other waste incineration  Other wastewater handling  \\\n",
       "0                       NaN                        NaN   \n",
       "1                       NaN                        NaN   \n",
       "2                       NaN                        NaN   \n",
       "3                       NaN                        NaN   \n",
       "4                       NaN                        NaN   \n",
       "\n",
       "   Sewage sludge incineration  \n",
       "0                         NaN  \n",
       "1                         NaN  \n",
       "2                         NaN  \n",
       "3                         NaN  \n",
       "4                         NaN  \n",
       "\n",
       "[5 rows x 43 columns]"
      ],
      "text/html": "<div>\n<style scoped>\n    .dataframe tbody tr th:only-of-type {\n        vertical-align: middle;\n    }\n\n    .dataframe tbody tr th {\n        vertical-align: top;\n    }\n\n    .dataframe thead th {\n        text-align: right;\n    }\n</style>\n<table border=\"1\" class=\"dataframe\">\n  <thead>\n    <tr style=\"text-align: right;\">\n      <th></th>\n      <th>Autonomous communities</th>\n      <th>Year</th>\n      <th>GDP</th>\n      <th>Population</th>\n      <th>GDP per capita</th>\n      <th>Domestic Waste and Wheelie Bins -C</th>\n      <th>Bulk -C</th>\n      <th>Metallics waste -C</th>\n      <th>Waste Glass -C</th>\n      <th>Waste Paper and Cardboard -C</th>\n      <th>...</th>\n      <th>Domestic wastewater handling</th>\n      <th>Hazardous waste incineration</th>\n      <th>Industrial waste incineration</th>\n      <th>Industrial wastewater handling</th>\n      <th>Municipal waste incineration</th>\n      <th>Open burning of waste</th>\n      <th>Other waste</th>\n      <th>Other waste incineration</th>\n      <th>Other wastewater handling</th>\n      <th>Sewage sludge incineration</th>\n    </tr>\n  </thead>\n  <tbody>\n    <tr>\n      <th>0</th>\n      <td>ANDALUCÍA</td>\n      <td>2010</td>\n      <td>144752225.0</td>\n      <td>8370975.0</td>\n      <td>17292.16</td>\n      <td>4213174.0</td>\n      <td>155836.0</td>\n      <td>11203.0</td>\n      <td>82031.0</td>\n      <td>136017.0</td>\n      <td>...</td>\n      <td>NaN</td>\n      <td>NaN</td>\n      <td>NaN</td>\n      <td>NaN</td>\n      <td>NaN</td>\n      <td>NaN</td>\n      <td>NaN</td>\n      <td>NaN</td>\n      <td>NaN</td>\n      <td>NaN</td>\n    </tr>\n    <tr>\n      <th>1</th>\n      <td>ANDALUCÍA</td>\n      <td>2018</td>\n      <td>160711363.0</td>\n      <td>8384408.0</td>\n      <td>19167.88</td>\n      <td>3755593.0</td>\n      <td>153300.0</td>\n      <td>1600.0</td>\n      <td>108768.0</td>\n      <td>117131.0</td>\n      <td>...</td>\n      <td>NaN</td>\n      <td>NaN</td>\n      <td>NaN</td>\n      <td>NaN</td>\n      <td>NaN</td>\n      <td>NaN</td>\n      <td>NaN</td>\n      <td>NaN</td>\n      <td>NaN</td>\n      <td>NaN</td>\n    </tr>\n    <tr>\n      <th>2</th>\n      <td>ANDALUCÍA</td>\n      <td>2016</td>\n      <td>148405362.0</td>\n      <td>8388107.0</td>\n      <td>17692.35</td>\n      <td>3545590.0</td>\n      <td>361986.0</td>\n      <td>4425.0</td>\n      <td>99622.0</td>\n      <td>101816.0</td>\n      <td>...</td>\n      <td>NaN</td>\n      <td>NaN</td>\n      <td>NaN</td>\n      <td>NaN</td>\n      <td>NaN</td>\n      <td>NaN</td>\n      <td>NaN</td>\n      <td>NaN</td>\n      <td>NaN</td>\n      <td>NaN</td>\n    </tr>\n    <tr>\n      <th>3</th>\n      <td>ANDALUCÍA</td>\n      <td>2014</td>\n      <td>137722026.0</td>\n      <td>8402305.0</td>\n      <td>16390.98</td>\n      <td>3437380.0</td>\n      <td>252293.0</td>\n      <td>4321.0</td>\n      <td>82208.0</td>\n      <td>95866.0</td>\n      <td>...</td>\n      <td>NaN</td>\n      <td>NaN</td>\n      <td>NaN</td>\n      <td>NaN</td>\n      <td>NaN</td>\n      <td>NaN</td>\n      <td>NaN</td>\n      <td>NaN</td>\n      <td>NaN</td>\n      <td>NaN</td>\n    </tr>\n    <tr>\n      <th>4</th>\n      <td>ANDALUCÍA</td>\n      <td>2011</td>\n      <td>143389086.0</td>\n      <td>8424102.0</td>\n      <td>17021.29</td>\n      <td>3796057.0</td>\n      <td>152281.0</td>\n      <td>8370.0</td>\n      <td>74820.0</td>\n      <td>118200.0</td>\n      <td>...</td>\n      <td>NaN</td>\n      <td>NaN</td>\n      <td>NaN</td>\n      <td>NaN</td>\n      <td>NaN</td>\n      <td>NaN</td>\n      <td>NaN</td>\n      <td>NaN</td>\n      <td>NaN</td>\n      <td>NaN</td>\n    </tr>\n  </tbody>\n</table>\n<p>5 rows × 43 columns</p>\n</div>"
     },
     "metadata": {},
     "execution_count": 183
    }
   ],
   "source": [
    "#cambiar el nombre a las columnas, pasarlas al ingles \n",
    "#RENAME COLUMNS \n",
    "\n",
    "new_names = {'Comunidad Autónoma': 'Autonomous communities', 'Año': 'Year', 'PIB': 'GDP', 'Poblacion': 'Population', 'PIB per capita': 'GDP per capita', 'Recoleccion-domésticos y vias': 'Domestic Waste and Wheelie Bins -C', 'Recoleccion-voluminosos': 'Bulk -C',\n",
    "       'Recoleccion-metálicos': 'Metallics waste -C', 'Recoleccion-vidrio': 'Waste Glass -C',\n",
    "       'Recoleccion-papel y carton':'Waste Paper and Cardboard -C', 'Recoleccion-plasticos': 'Plastics -C',\n",
    "       'Recoleccion-madera':'Waste Wood -C', 'Recoleccion-textiles':'Textile waste -C' ,\n",
    "       'Recoleccion-eq. electricos': 'Electrical waste -C', 'Recoleccion-pilas': 'Battery -C',\n",
    "       'Recoleccion-animales': 'Animal -C', 'Recoleccion-Envases mixtos': 'Mixed packaging -C', 'lodos': 'Sludge -C',\n",
    "       'Recoleccion-construccion': 'Construction -C', 'Recoleccion-otros': 'Others -C',\n",
    "       'TOTAL RESIDUOS MEZCLADOS': 'Total mixed waste', 'TOTAL RESIDUOS DE RECOGIDA SEPARADA': 'Total separately waste - C (tn)',\n",
    "       'TOTAL RESIDUOS': 'Total Waste', 'Gestion: Incineracion (tn)': 'Incineration (tn) -D',\n",
    "       'Gestion: Opereaciones de relleno (tn)': 'Backfilling (tn) -D' , 'Gestion Recuperacion (tn)': 'Recovery (recycled, WTE, compost, others (tn) -D',\n",
    "       'Gestion Total (tn)': 'Total Waste disposal (tn) -D', 'Gestion Vertido (tn)': 'Landfill (tn) -D',\n",
    "       'Biological treatment of waste - Anaerobic digestion at biogas facilities': 'BT - Anaerobic digestion at biogas',\n",
    "       'Biological treatment of waste - Composting': 'Bt - Composting',\n",
    "       'Biological treatment of waste - Solid waste disposal on land':'Bt - Disposal on land', 'Other waste (please specify in IIR)' : 'Other waste',\n",
    "       'Other waste incineration (please specify in the IIR)':'Other waste incineration'}\n",
    "data_merged_4.rename(columns=new_names, inplace=True)\n",
    "data_merged_4.head()"
   ]
  },
  {
   "cell_type": "code",
   "execution_count": 31,
   "metadata": {},
   "outputs": [
    {
     "output_type": "execute_result",
     "data": {
      "text/plain": [
       "    Comunidad Autónoma   Año           PIB   Poblacion  PIB per capita  \\\n",
       "0            ANDALUCÍA  2010  1.447522e+08   8370975.0        17292.16   \n",
       "1            ANDALUCÍA  2018  1.607114e+08   8384408.0        19167.88   \n",
       "2            ANDALUCÍA  2016  1.484054e+08   8388107.0        17692.35   \n",
       "3            ANDALUCÍA  2014  1.377220e+08   8402305.0        16390.98   \n",
       "4            ANDALUCÍA  2011  1.433891e+08   8424102.0        17021.29   \n",
       "..                 ...   ...           ...         ...             ...   \n",
       "175     TOTAL NACIONAL  2017  1.161867e+09  46572132.0        24947.69   \n",
       "176     TOTAL NACIONAL  2016  1.113840e+09  46557008.0        23924.22   \n",
       "177     TOTAL NACIONAL  2011  1.063763e+09  47190493.0        22541.89   \n",
       "178     TOTAL NACIONAL  2013  1.020348e+09  47129783.0        21649.75   \n",
       "179     TOTAL NACIONAL  2018  1.204241e+09  46722980.0        25774.06   \n",
       "\n",
       "     Recoleccion-domésticos y vias  Recoleccion-voluminosos  \\\n",
       "0                        4213174.0                 155836.0   \n",
       "1                        3755593.0                 153300.0   \n",
       "2                        3545590.0                 361986.0   \n",
       "3                        3437380.0                 252293.0   \n",
       "4                        3796057.0                 152281.0   \n",
       "..                             ...                      ...   \n",
       "175                     17457709.0                 814281.0   \n",
       "176                     17141367.0                 910708.0   \n",
       "177                     18291848.0                 481780.0   \n",
       "178                     17320704.0                 532122.0   \n",
       "179                     17611068.0                 673495.0   \n",
       "\n",
       "     Recoleccion-metálicos  Recoleccion-vidrio  Recoleccion-papel y carton  \\\n",
       "0                  11203.0             82031.0                    136017.0   \n",
       "1                   1600.0            108768.0                    117131.0   \n",
       "2                   4425.0             99622.0                    101816.0   \n",
       "3                   4321.0             82208.0                     95866.0   \n",
       "4                   8370.0             74820.0                    118200.0   \n",
       "..                     ...                 ...                         ...   \n",
       "175                20940.0            815883.0                   1061380.0   \n",
       "176                20376.0            797928.0                   1021166.0   \n",
       "177                43394.0            733682.0                   1266397.0   \n",
       "178                20985.0            720930.0                    988226.0   \n",
       "179                27875.0            834764.0                   1067384.0   \n",
       "\n",
       "     ...  Domestic wastewater handling  Hazardous waste incineration  \\\n",
       "0    ...                           NaN                           NaN   \n",
       "1    ...                           NaN                           NaN   \n",
       "2    ...                           NaN                           NaN   \n",
       "3    ...                           NaN                           NaN   \n",
       "4    ...                           NaN                           NaN   \n",
       "..   ...                           ...                           ...   \n",
       "175  ...                          0.21                           0.0   \n",
       "176  ...                          0.21                           0.0   \n",
       "177  ...                          0.23                           0.0   \n",
       "178  ...                          0.22                           0.0   \n",
       "179  ...                          0.21                           0.0   \n",
       "\n",
       "     Industrial waste incineration  Industrial wastewater handling  \\\n",
       "0                              NaN                             NaN   \n",
       "1                              NaN                             NaN   \n",
       "2                              NaN                             NaN   \n",
       "3                              NaN                             NaN   \n",
       "4                              NaN                             NaN   \n",
       "..                             ...                             ...   \n",
       "175                            0.0                            0.09   \n",
       "176                            0.0                            0.09   \n",
       "177                            0.0                            0.09   \n",
       "178                            0.0                            0.08   \n",
       "179                            0.0                            0.09   \n",
       "\n",
       "     Municipal waste incineration  Open burning of waste  \\\n",
       "0                             NaN                    NaN   \n",
       "1                             NaN                    NaN   \n",
       "2                             NaN                    NaN   \n",
       "3                             NaN                    NaN   \n",
       "4                             NaN                    NaN   \n",
       "..                            ...                    ...   \n",
       "175                           0.0                 742.75   \n",
       "176                           0.0                 785.16   \n",
       "177                           0.0                 826.90   \n",
       "178                           0.0                 954.47   \n",
       "179                           0.0                1009.63   \n",
       "\n",
       "     Other waste (please specify in IIR)  \\\n",
       "0                                    NaN   \n",
       "1                                    NaN   \n",
       "2                                    NaN   \n",
       "3                                    NaN   \n",
       "4                                    NaN   \n",
       "..                                   ...   \n",
       "175                                16.83   \n",
       "176                                50.31   \n",
       "177                                19.80   \n",
       "178                                17.95   \n",
       "179                                17.52   \n",
       "\n",
       "     Other waste incineration (please specify in the IIR)  \\\n",
       "0                                                  NaN      \n",
       "1                                                  NaN      \n",
       "2                                                  NaN      \n",
       "3                                                  NaN      \n",
       "4                                                  NaN      \n",
       "..                                                 ...      \n",
       "175                                                0.0      \n",
       "176                                                0.0      \n",
       "177                                                0.0      \n",
       "178                                                0.0      \n",
       "179                                                0.0      \n",
       "\n",
       "     Other wastewater handling  Sewage sludge incineration  \n",
       "0                          NaN                         NaN  \n",
       "1                          NaN                         NaN  \n",
       "2                          NaN                         NaN  \n",
       "3                          NaN                         NaN  \n",
       "4                          NaN                         NaN  \n",
       "..                         ...                         ...  \n",
       "175                       2.09                       11.61  \n",
       "176                       2.08                       11.92  \n",
       "177                       1.45                       13.03  \n",
       "178                       0.67                       10.58  \n",
       "179                       2.09                       11.56  \n",
       "\n",
       "[180 rows x 46 columns]"
      ],
      "text/html": "<div>\n<style scoped>\n    .dataframe tbody tr th:only-of-type {\n        vertical-align: middle;\n    }\n\n    .dataframe tbody tr th {\n        vertical-align: top;\n    }\n\n    .dataframe thead th {\n        text-align: right;\n    }\n</style>\n<table border=\"1\" class=\"dataframe\">\n  <thead>\n    <tr style=\"text-align: right;\">\n      <th></th>\n      <th>Comunidad Autónoma</th>\n      <th>Año</th>\n      <th>PIB</th>\n      <th>Poblacion</th>\n      <th>PIB per capita</th>\n      <th>Recoleccion-domésticos y vias</th>\n      <th>Recoleccion-voluminosos</th>\n      <th>Recoleccion-metálicos</th>\n      <th>Recoleccion-vidrio</th>\n      <th>Recoleccion-papel y carton</th>\n      <th>...</th>\n      <th>Domestic wastewater handling</th>\n      <th>Hazardous waste incineration</th>\n      <th>Industrial waste incineration</th>\n      <th>Industrial wastewater handling</th>\n      <th>Municipal waste incineration</th>\n      <th>Open burning of waste</th>\n      <th>Other waste (please specify in IIR)</th>\n      <th>Other waste incineration (please specify in the IIR)</th>\n      <th>Other wastewater handling</th>\n      <th>Sewage sludge incineration</th>\n    </tr>\n  </thead>\n  <tbody>\n    <tr>\n      <th>0</th>\n      <td>ANDALUCÍA</td>\n      <td>2010</td>\n      <td>1.447522e+08</td>\n      <td>8370975.0</td>\n      <td>17292.16</td>\n      <td>4213174.0</td>\n      <td>155836.0</td>\n      <td>11203.0</td>\n      <td>82031.0</td>\n      <td>136017.0</td>\n      <td>...</td>\n      <td>NaN</td>\n      <td>NaN</td>\n      <td>NaN</td>\n      <td>NaN</td>\n      <td>NaN</td>\n      <td>NaN</td>\n      <td>NaN</td>\n      <td>NaN</td>\n      <td>NaN</td>\n      <td>NaN</td>\n    </tr>\n    <tr>\n      <th>1</th>\n      <td>ANDALUCÍA</td>\n      <td>2018</td>\n      <td>1.607114e+08</td>\n      <td>8384408.0</td>\n      <td>19167.88</td>\n      <td>3755593.0</td>\n      <td>153300.0</td>\n      <td>1600.0</td>\n      <td>108768.0</td>\n      <td>117131.0</td>\n      <td>...</td>\n      <td>NaN</td>\n      <td>NaN</td>\n      <td>NaN</td>\n      <td>NaN</td>\n      <td>NaN</td>\n      <td>NaN</td>\n      <td>NaN</td>\n      <td>NaN</td>\n      <td>NaN</td>\n      <td>NaN</td>\n    </tr>\n    <tr>\n      <th>2</th>\n      <td>ANDALUCÍA</td>\n      <td>2016</td>\n      <td>1.484054e+08</td>\n      <td>8388107.0</td>\n      <td>17692.35</td>\n      <td>3545590.0</td>\n      <td>361986.0</td>\n      <td>4425.0</td>\n      <td>99622.0</td>\n      <td>101816.0</td>\n      <td>...</td>\n      <td>NaN</td>\n      <td>NaN</td>\n      <td>NaN</td>\n      <td>NaN</td>\n      <td>NaN</td>\n      <td>NaN</td>\n      <td>NaN</td>\n      <td>NaN</td>\n      <td>NaN</td>\n      <td>NaN</td>\n    </tr>\n    <tr>\n      <th>3</th>\n      <td>ANDALUCÍA</td>\n      <td>2014</td>\n      <td>1.377220e+08</td>\n      <td>8402305.0</td>\n      <td>16390.98</td>\n      <td>3437380.0</td>\n      <td>252293.0</td>\n      <td>4321.0</td>\n      <td>82208.0</td>\n      <td>95866.0</td>\n      <td>...</td>\n      <td>NaN</td>\n      <td>NaN</td>\n      <td>NaN</td>\n      <td>NaN</td>\n      <td>NaN</td>\n      <td>NaN</td>\n      <td>NaN</td>\n      <td>NaN</td>\n      <td>NaN</td>\n      <td>NaN</td>\n    </tr>\n    <tr>\n      <th>4</th>\n      <td>ANDALUCÍA</td>\n      <td>2011</td>\n      <td>1.433891e+08</td>\n      <td>8424102.0</td>\n      <td>17021.29</td>\n      <td>3796057.0</td>\n      <td>152281.0</td>\n      <td>8370.0</td>\n      <td>74820.0</td>\n      <td>118200.0</td>\n      <td>...</td>\n      <td>NaN</td>\n      <td>NaN</td>\n      <td>NaN</td>\n      <td>NaN</td>\n      <td>NaN</td>\n      <td>NaN</td>\n      <td>NaN</td>\n      <td>NaN</td>\n      <td>NaN</td>\n      <td>NaN</td>\n    </tr>\n    <tr>\n      <th>...</th>\n      <td>...</td>\n      <td>...</td>\n      <td>...</td>\n      <td>...</td>\n      <td>...</td>\n      <td>...</td>\n      <td>...</td>\n      <td>...</td>\n      <td>...</td>\n      <td>...</td>\n      <td>...</td>\n      <td>...</td>\n      <td>...</td>\n      <td>...</td>\n      <td>...</td>\n      <td>...</td>\n      <td>...</td>\n      <td>...</td>\n      <td>...</td>\n      <td>...</td>\n      <td>...</td>\n    </tr>\n    <tr>\n      <th>175</th>\n      <td>TOTAL NACIONAL</td>\n      <td>2017</td>\n      <td>1.161867e+09</td>\n      <td>46572132.0</td>\n      <td>24947.69</td>\n      <td>17457709.0</td>\n      <td>814281.0</td>\n      <td>20940.0</td>\n      <td>815883.0</td>\n      <td>1061380.0</td>\n      <td>...</td>\n      <td>0.21</td>\n      <td>0.0</td>\n      <td>0.0</td>\n      <td>0.09</td>\n      <td>0.0</td>\n      <td>742.75</td>\n      <td>16.83</td>\n      <td>0.0</td>\n      <td>2.09</td>\n      <td>11.61</td>\n    </tr>\n    <tr>\n      <th>176</th>\n      <td>TOTAL NACIONAL</td>\n      <td>2016</td>\n      <td>1.113840e+09</td>\n      <td>46557008.0</td>\n      <td>23924.22</td>\n      <td>17141367.0</td>\n      <td>910708.0</td>\n      <td>20376.0</td>\n      <td>797928.0</td>\n      <td>1021166.0</td>\n      <td>...</td>\n      <td>0.21</td>\n      <td>0.0</td>\n      <td>0.0</td>\n      <td>0.09</td>\n      <td>0.0</td>\n      <td>785.16</td>\n      <td>50.31</td>\n      <td>0.0</td>\n      <td>2.08</td>\n      <td>11.92</td>\n    </tr>\n    <tr>\n      <th>177</th>\n      <td>TOTAL NACIONAL</td>\n      <td>2011</td>\n      <td>1.063763e+09</td>\n      <td>47190493.0</td>\n      <td>22541.89</td>\n      <td>18291848.0</td>\n      <td>481780.0</td>\n      <td>43394.0</td>\n      <td>733682.0</td>\n      <td>1266397.0</td>\n      <td>...</td>\n      <td>0.23</td>\n      <td>0.0</td>\n      <td>0.0</td>\n      <td>0.09</td>\n      <td>0.0</td>\n      <td>826.90</td>\n      <td>19.80</td>\n      <td>0.0</td>\n      <td>1.45</td>\n      <td>13.03</td>\n    </tr>\n    <tr>\n      <th>178</th>\n      <td>TOTAL NACIONAL</td>\n      <td>2013</td>\n      <td>1.020348e+09</td>\n      <td>47129783.0</td>\n      <td>21649.75</td>\n      <td>17320704.0</td>\n      <td>532122.0</td>\n      <td>20985.0</td>\n      <td>720930.0</td>\n      <td>988226.0</td>\n      <td>...</td>\n      <td>0.22</td>\n      <td>0.0</td>\n      <td>0.0</td>\n      <td>0.08</td>\n      <td>0.0</td>\n      <td>954.47</td>\n      <td>17.95</td>\n      <td>0.0</td>\n      <td>0.67</td>\n      <td>10.58</td>\n    </tr>\n    <tr>\n      <th>179</th>\n      <td>TOTAL NACIONAL</td>\n      <td>2018</td>\n      <td>1.204241e+09</td>\n      <td>46722980.0</td>\n      <td>25774.06</td>\n      <td>17611068.0</td>\n      <td>673495.0</td>\n      <td>27875.0</td>\n      <td>834764.0</td>\n      <td>1067384.0</td>\n      <td>...</td>\n      <td>0.21</td>\n      <td>0.0</td>\n      <td>0.0</td>\n      <td>0.09</td>\n      <td>0.0</td>\n      <td>1009.63</td>\n      <td>17.52</td>\n      <td>0.0</td>\n      <td>2.09</td>\n      <td>11.56</td>\n    </tr>\n  </tbody>\n</table>\n<p>180 rows × 46 columns</p>\n</div>"
     },
     "metadata": {},
     "execution_count": 31
    }
   ],
   "source": [
    "data_merged_4"
   ]
  },
  {
   "cell_type": "code",
   "execution_count": 32,
   "metadata": {},
   "outputs": [],
   "source": [
    "## GUARDAMOS LA BASE DE DATOS\n",
    "\n",
    "data_merged_4.to_csv('df_EDA_proyect.csv', index=False)"
   ]
  },
  {
   "cell_type": "code",
   "execution_count": null,
   "metadata": {},
   "outputs": [],
   "source": []
  }
 ]
}