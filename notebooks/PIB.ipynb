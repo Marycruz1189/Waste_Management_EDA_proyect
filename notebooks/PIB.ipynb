{
 "metadata": {
  "language_info": {
   "codemirror_mode": {
    "name": "ipython",
    "version": 3
   },
   "file_extension": ".py",
   "mimetype": "text/x-python",
   "name": "python",
   "nbconvert_exporter": "python",
   "pygments_lexer": "ipython3",
   "version": "3.7.4"
  },
  "orig_nbformat": 2,
  "kernelspec": {
   "name": "python374jvsc74a57bd0a9b83ec4160fc914f5169c2fc0bc9ab1c02e189a457abfa966969b692f6336e9",
   "display_name": "Python 3.7.4 64-bit"
  },
  "metadata": {
   "interpreter": {
    "hash": "a9b83ec4160fc914f5169c2fc0bc9ab1c02e189a457abfa966969b692f6336e9"
   }
  }
 },
 "nbformat": 4,
 "nbformat_minor": 2,
 "cells": [
  {
   "source": [
    "## PIB"
   ],
   "cell_type": "markdown",
   "metadata": {}
  },
  {
   "cell_type": "code",
   "execution_count": 61,
   "metadata": {},
   "outputs": [],
   "source": [
    "import pandas as pd\n",
    "import numpy as np"
   ]
  },
  {
   "cell_type": "code",
   "execution_count": 62,
   "metadata": {},
   "outputs": [],
   "source": [
    "#se puede leer el excel a partir de una fila que le digamos \n",
    "pib = pd.read_excel(\"data/PIBcorriente_milesdeeuros.xlsx\")"
   ]
  },
  {
   "cell_type": "code",
   "execution_count": 63,
   "metadata": {},
   "outputs": [
    {
     "output_type": "execute_result",
     "data": {
      "text/plain": [
       "            Comunidad Autónoma       2000       2001       2002       2003  \\\n",
       "0                    ANDALUCÍA   86568676   93709992  100949639  109668109   \n",
       "1                       ARAGÓN   20071592   21577543   23368239   24975186   \n",
       "2       PRINCIPADO DE ASTURIAS   14305047   15409649   16299205   17208849   \n",
       "3               ILLES BALEARS    16545333   17870191   18874734   19795906   \n",
       "4                     CANARIAS   26048646   28352782   30271685   32396850   \n",
       "5                    CANTABRIA    7968169    8618734    9196317    9688157   \n",
       "6              CASTILLA Y LEÓN   35717613   38031539   40357850   42842365   \n",
       "7         CASTILLA - LA MANCHA   21744122   23641769   25423376   27577840   \n",
       "8                     CATALUÑA  122427924  132653412  141546705  151491725   \n",
       "9         COMUNITAT VALENCIANA   62717924   68504386   73298081   78134696   \n",
       "10                 EXTREMADURA   10750237   11516186   12264844   13121521   \n",
       "11                     GALICIA   33464463   36054603   38484522   41192359   \n",
       "12         COMUNIDAD DE MADRID  114454953  124576514  133608749  143012097   \n",
       "13            REGIÓN DE MURCIA   15717410   17141718   18638319   20261446   \n",
       "14  COMUNIDAD FORAL DE NAVARRA   11177110   11918713   12718187   13529155   \n",
       "15                  PAÍS VASCO   40789981   43595419   46029847   48585365   \n",
       "16                   LA RIOJA     4900954    5242948    5542919    5998007   \n",
       "17                       CEUTA    1017262    1051634    1107804    1183283   \n",
       "18                     MELILLA     921312     953301     993232    1059665   \n",
       "19              Total Nacional  647851000  700993000  749552000  802266000   \n",
       "\n",
       "         2004       2005        2006        2007        2008        2009  \\\n",
       "0   118493081  128578073   138535591   148025809   151226849   144878289   \n",
       "1    26638692   28663286    31098276    33853480    35141063    33564425   \n",
       "2    18299196   19843031    21562413    23105938    23844408    22541896   \n",
       "3    21120475   22790808    24689753    26461916    27574628    26478337   \n",
       "4    34229642   36631532    39058508    41425115    42308705    40296021   \n",
       "5    10314344   11138852    11939798    12819428    13260788    12788985   \n",
       "6    45544681   48617553    51856568    55466217    56637995    54795978   \n",
       "7    29556643   32301036    35198870    38370244    39926198    38582257   \n",
       "8   162355073  174408587   189001189   202380332   207716061   200139996   \n",
       "9    83659062   90149555    97829436   104471495   107508471   101443496   \n",
       "10   14030704   15264773    16306857    17564197    18249829    17829466   \n",
       "11   44312068   48048435    52068958    56108957    58358648    56303675   \n",
       "12  153557325  165760054   180859334   193749322   201235501   198374372   \n",
       "13   21773122   23863104    25934032    27985381    29098291    27670321   \n",
       "14   14431131   15517494    16661235    17766300    18517376    17896504   \n",
       "15   51724767   55666720    60233698    64281602    66779471    63926115   \n",
       "16    6362196    6851360     7410569     7946155     8247306     7893077   \n",
       "17    1250959    1323250     1419795     1512357     1562940     1551373   \n",
       "18    1130075    1203682     1289507     1354257     1403440     1396649   \n",
       "19  859437000  927357000  1003823000  1075539000  1109541000  1069323000   \n",
       "\n",
       "          2010        2011        2012        2013        2014        2015  \\\n",
       "0    144752225   143389086   138007226   136048003   137722026   144745569   \n",
       "1     33828995    33368344    31963049    32082809    32289054    32876311   \n",
       "2     22733586    22375426    21364846    20746770    20652899    21372587   \n",
       "3     26535097    26398144    25979358    25931407    26769837    28245574   \n",
       "4     40811481    40595330    39204779    39032454    39266705    40566240   \n",
       "5     12836685    12622706    12167280    11864241    12057567    12325933   \n",
       "6     54970431    54575008    52868471    51504174    51539425    53238351   \n",
       "7     38706827    38258606    36890198    36153041    35353236    37113609   \n",
       "8    201705890   198906023   193449278   192006545   195370105   204355232   \n",
       "9    101201463    99706759    95177430    94309154    96320641   100110751   \n",
       "10    18135329    17738058    17065094    17057479    17024183    17902594   \n",
       "11    56767263    55767991    53971849    53925394    54190333    56666599   \n",
       "12   197145571   198465261   195026853   192620202   194960214   204244524   \n",
       "13    27912742    27236069    26508820    26566278    26712051    28492083   \n",
       "14    17973969    17942160    17282206    17237767    17505255    18145704   \n",
       "15    64680368    64130843    62558828    61625767    62677248    64989988   \n",
       "16     7977333     7907440     7636210     7539145     7685969     7962438   \n",
       "17     1578805     1575312     1525243     1551851     1543087     1597390   \n",
       "18     1415709     1417774     1369832     1389601     1402792     1461285   \n",
       "19  1072709000  1063763000  1031099000  1020348000  1032158000  1077590000   \n",
       "\n",
       "          2016        2017        2018  \n",
       "0    148405362   155371755   160711363  \n",
       "1     34214691    35638352    36850296  \n",
       "2     21694246    22592548    23258673  \n",
       "3     29831313    31383376    32767619  \n",
       "4     42013704    44205400    45823321  \n",
       "5     12736089    13226038    13737756  \n",
       "6     54767172    56051831    58477225  \n",
       "7     38315029    39891219    41521223  \n",
       "8    212703912   221476488   229345722  \n",
       "9    103228580   107785815   111793978  \n",
       "10    18504343    19534814    20088238  \n",
       "11    58279948    60394810    62436133  \n",
       "12   211672686   222027547   231133592  \n",
       "13    29369879    30538493    31198376  \n",
       "14    18747249    19528873    20047454  \n",
       "15    67126912    69657915    72029560  \n",
       "16     8014694     8295191     8593185  \n",
       "17     1636511     1659859     1720295  \n",
       "18     1506101     1519867     1582540  \n",
       "19  1113840000  1161867000  1204241000  "
      ],
      "text/html": "<div>\n<style scoped>\n    .dataframe tbody tr th:only-of-type {\n        vertical-align: middle;\n    }\n\n    .dataframe tbody tr th {\n        vertical-align: top;\n    }\n\n    .dataframe thead th {\n        text-align: right;\n    }\n</style>\n<table border=\"1\" class=\"dataframe\">\n  <thead>\n    <tr style=\"text-align: right;\">\n      <th></th>\n      <th>Comunidad Autónoma</th>\n      <th>2000</th>\n      <th>2001</th>\n      <th>2002</th>\n      <th>2003</th>\n      <th>2004</th>\n      <th>2005</th>\n      <th>2006</th>\n      <th>2007</th>\n      <th>2008</th>\n      <th>2009</th>\n      <th>2010</th>\n      <th>2011</th>\n      <th>2012</th>\n      <th>2013</th>\n      <th>2014</th>\n      <th>2015</th>\n      <th>2016</th>\n      <th>2017</th>\n      <th>2018</th>\n    </tr>\n  </thead>\n  <tbody>\n    <tr>\n      <th>0</th>\n      <td>ANDALUCÍA</td>\n      <td>86568676</td>\n      <td>93709992</td>\n      <td>100949639</td>\n      <td>109668109</td>\n      <td>118493081</td>\n      <td>128578073</td>\n      <td>138535591</td>\n      <td>148025809</td>\n      <td>151226849</td>\n      <td>144878289</td>\n      <td>144752225</td>\n      <td>143389086</td>\n      <td>138007226</td>\n      <td>136048003</td>\n      <td>137722026</td>\n      <td>144745569</td>\n      <td>148405362</td>\n      <td>155371755</td>\n      <td>160711363</td>\n    </tr>\n    <tr>\n      <th>1</th>\n      <td>ARAGÓN</td>\n      <td>20071592</td>\n      <td>21577543</td>\n      <td>23368239</td>\n      <td>24975186</td>\n      <td>26638692</td>\n      <td>28663286</td>\n      <td>31098276</td>\n      <td>33853480</td>\n      <td>35141063</td>\n      <td>33564425</td>\n      <td>33828995</td>\n      <td>33368344</td>\n      <td>31963049</td>\n      <td>32082809</td>\n      <td>32289054</td>\n      <td>32876311</td>\n      <td>34214691</td>\n      <td>35638352</td>\n      <td>36850296</td>\n    </tr>\n    <tr>\n      <th>2</th>\n      <td>PRINCIPADO DE ASTURIAS</td>\n      <td>14305047</td>\n      <td>15409649</td>\n      <td>16299205</td>\n      <td>17208849</td>\n      <td>18299196</td>\n      <td>19843031</td>\n      <td>21562413</td>\n      <td>23105938</td>\n      <td>23844408</td>\n      <td>22541896</td>\n      <td>22733586</td>\n      <td>22375426</td>\n      <td>21364846</td>\n      <td>20746770</td>\n      <td>20652899</td>\n      <td>21372587</td>\n      <td>21694246</td>\n      <td>22592548</td>\n      <td>23258673</td>\n    </tr>\n    <tr>\n      <th>3</th>\n      <td>ILLES BALEARS</td>\n      <td>16545333</td>\n      <td>17870191</td>\n      <td>18874734</td>\n      <td>19795906</td>\n      <td>21120475</td>\n      <td>22790808</td>\n      <td>24689753</td>\n      <td>26461916</td>\n      <td>27574628</td>\n      <td>26478337</td>\n      <td>26535097</td>\n      <td>26398144</td>\n      <td>25979358</td>\n      <td>25931407</td>\n      <td>26769837</td>\n      <td>28245574</td>\n      <td>29831313</td>\n      <td>31383376</td>\n      <td>32767619</td>\n    </tr>\n    <tr>\n      <th>4</th>\n      <td>CANARIAS</td>\n      <td>26048646</td>\n      <td>28352782</td>\n      <td>30271685</td>\n      <td>32396850</td>\n      <td>34229642</td>\n      <td>36631532</td>\n      <td>39058508</td>\n      <td>41425115</td>\n      <td>42308705</td>\n      <td>40296021</td>\n      <td>40811481</td>\n      <td>40595330</td>\n      <td>39204779</td>\n      <td>39032454</td>\n      <td>39266705</td>\n      <td>40566240</td>\n      <td>42013704</td>\n      <td>44205400</td>\n      <td>45823321</td>\n    </tr>\n    <tr>\n      <th>5</th>\n      <td>CANTABRIA</td>\n      <td>7968169</td>\n      <td>8618734</td>\n      <td>9196317</td>\n      <td>9688157</td>\n      <td>10314344</td>\n      <td>11138852</td>\n      <td>11939798</td>\n      <td>12819428</td>\n      <td>13260788</td>\n      <td>12788985</td>\n      <td>12836685</td>\n      <td>12622706</td>\n      <td>12167280</td>\n      <td>11864241</td>\n      <td>12057567</td>\n      <td>12325933</td>\n      <td>12736089</td>\n      <td>13226038</td>\n      <td>13737756</td>\n    </tr>\n    <tr>\n      <th>6</th>\n      <td>CASTILLA Y LEÓN</td>\n      <td>35717613</td>\n      <td>38031539</td>\n      <td>40357850</td>\n      <td>42842365</td>\n      <td>45544681</td>\n      <td>48617553</td>\n      <td>51856568</td>\n      <td>55466217</td>\n      <td>56637995</td>\n      <td>54795978</td>\n      <td>54970431</td>\n      <td>54575008</td>\n      <td>52868471</td>\n      <td>51504174</td>\n      <td>51539425</td>\n      <td>53238351</td>\n      <td>54767172</td>\n      <td>56051831</td>\n      <td>58477225</td>\n    </tr>\n    <tr>\n      <th>7</th>\n      <td>CASTILLA - LA MANCHA</td>\n      <td>21744122</td>\n      <td>23641769</td>\n      <td>25423376</td>\n      <td>27577840</td>\n      <td>29556643</td>\n      <td>32301036</td>\n      <td>35198870</td>\n      <td>38370244</td>\n      <td>39926198</td>\n      <td>38582257</td>\n      <td>38706827</td>\n      <td>38258606</td>\n      <td>36890198</td>\n      <td>36153041</td>\n      <td>35353236</td>\n      <td>37113609</td>\n      <td>38315029</td>\n      <td>39891219</td>\n      <td>41521223</td>\n    </tr>\n    <tr>\n      <th>8</th>\n      <td>CATALUÑA</td>\n      <td>122427924</td>\n      <td>132653412</td>\n      <td>141546705</td>\n      <td>151491725</td>\n      <td>162355073</td>\n      <td>174408587</td>\n      <td>189001189</td>\n      <td>202380332</td>\n      <td>207716061</td>\n      <td>200139996</td>\n      <td>201705890</td>\n      <td>198906023</td>\n      <td>193449278</td>\n      <td>192006545</td>\n      <td>195370105</td>\n      <td>204355232</td>\n      <td>212703912</td>\n      <td>221476488</td>\n      <td>229345722</td>\n    </tr>\n    <tr>\n      <th>9</th>\n      <td>COMUNITAT VALENCIANA</td>\n      <td>62717924</td>\n      <td>68504386</td>\n      <td>73298081</td>\n      <td>78134696</td>\n      <td>83659062</td>\n      <td>90149555</td>\n      <td>97829436</td>\n      <td>104471495</td>\n      <td>107508471</td>\n      <td>101443496</td>\n      <td>101201463</td>\n      <td>99706759</td>\n      <td>95177430</td>\n      <td>94309154</td>\n      <td>96320641</td>\n      <td>100110751</td>\n      <td>103228580</td>\n      <td>107785815</td>\n      <td>111793978</td>\n    </tr>\n    <tr>\n      <th>10</th>\n      <td>EXTREMADURA</td>\n      <td>10750237</td>\n      <td>11516186</td>\n      <td>12264844</td>\n      <td>13121521</td>\n      <td>14030704</td>\n      <td>15264773</td>\n      <td>16306857</td>\n      <td>17564197</td>\n      <td>18249829</td>\n      <td>17829466</td>\n      <td>18135329</td>\n      <td>17738058</td>\n      <td>17065094</td>\n      <td>17057479</td>\n      <td>17024183</td>\n      <td>17902594</td>\n      <td>18504343</td>\n      <td>19534814</td>\n      <td>20088238</td>\n    </tr>\n    <tr>\n      <th>11</th>\n      <td>GALICIA</td>\n      <td>33464463</td>\n      <td>36054603</td>\n      <td>38484522</td>\n      <td>41192359</td>\n      <td>44312068</td>\n      <td>48048435</td>\n      <td>52068958</td>\n      <td>56108957</td>\n      <td>58358648</td>\n      <td>56303675</td>\n      <td>56767263</td>\n      <td>55767991</td>\n      <td>53971849</td>\n      <td>53925394</td>\n      <td>54190333</td>\n      <td>56666599</td>\n      <td>58279948</td>\n      <td>60394810</td>\n      <td>62436133</td>\n    </tr>\n    <tr>\n      <th>12</th>\n      <td>COMUNIDAD DE MADRID</td>\n      <td>114454953</td>\n      <td>124576514</td>\n      <td>133608749</td>\n      <td>143012097</td>\n      <td>153557325</td>\n      <td>165760054</td>\n      <td>180859334</td>\n      <td>193749322</td>\n      <td>201235501</td>\n      <td>198374372</td>\n      <td>197145571</td>\n      <td>198465261</td>\n      <td>195026853</td>\n      <td>192620202</td>\n      <td>194960214</td>\n      <td>204244524</td>\n      <td>211672686</td>\n      <td>222027547</td>\n      <td>231133592</td>\n    </tr>\n    <tr>\n      <th>13</th>\n      <td>REGIÓN DE MURCIA</td>\n      <td>15717410</td>\n      <td>17141718</td>\n      <td>18638319</td>\n      <td>20261446</td>\n      <td>21773122</td>\n      <td>23863104</td>\n      <td>25934032</td>\n      <td>27985381</td>\n      <td>29098291</td>\n      <td>27670321</td>\n      <td>27912742</td>\n      <td>27236069</td>\n      <td>26508820</td>\n      <td>26566278</td>\n      <td>26712051</td>\n      <td>28492083</td>\n      <td>29369879</td>\n      <td>30538493</td>\n      <td>31198376</td>\n    </tr>\n    <tr>\n      <th>14</th>\n      <td>COMUNIDAD FORAL DE NAVARRA</td>\n      <td>11177110</td>\n      <td>11918713</td>\n      <td>12718187</td>\n      <td>13529155</td>\n      <td>14431131</td>\n      <td>15517494</td>\n      <td>16661235</td>\n      <td>17766300</td>\n      <td>18517376</td>\n      <td>17896504</td>\n      <td>17973969</td>\n      <td>17942160</td>\n      <td>17282206</td>\n      <td>17237767</td>\n      <td>17505255</td>\n      <td>18145704</td>\n      <td>18747249</td>\n      <td>19528873</td>\n      <td>20047454</td>\n    </tr>\n    <tr>\n      <th>15</th>\n      <td>PAÍS VASCO</td>\n      <td>40789981</td>\n      <td>43595419</td>\n      <td>46029847</td>\n      <td>48585365</td>\n      <td>51724767</td>\n      <td>55666720</td>\n      <td>60233698</td>\n      <td>64281602</td>\n      <td>66779471</td>\n      <td>63926115</td>\n      <td>64680368</td>\n      <td>64130843</td>\n      <td>62558828</td>\n      <td>61625767</td>\n      <td>62677248</td>\n      <td>64989988</td>\n      <td>67126912</td>\n      <td>69657915</td>\n      <td>72029560</td>\n    </tr>\n    <tr>\n      <th>16</th>\n      <td>LA RIOJA</td>\n      <td>4900954</td>\n      <td>5242948</td>\n      <td>5542919</td>\n      <td>5998007</td>\n      <td>6362196</td>\n      <td>6851360</td>\n      <td>7410569</td>\n      <td>7946155</td>\n      <td>8247306</td>\n      <td>7893077</td>\n      <td>7977333</td>\n      <td>7907440</td>\n      <td>7636210</td>\n      <td>7539145</td>\n      <td>7685969</td>\n      <td>7962438</td>\n      <td>8014694</td>\n      <td>8295191</td>\n      <td>8593185</td>\n    </tr>\n    <tr>\n      <th>17</th>\n      <td>CEUTA</td>\n      <td>1017262</td>\n      <td>1051634</td>\n      <td>1107804</td>\n      <td>1183283</td>\n      <td>1250959</td>\n      <td>1323250</td>\n      <td>1419795</td>\n      <td>1512357</td>\n      <td>1562940</td>\n      <td>1551373</td>\n      <td>1578805</td>\n      <td>1575312</td>\n      <td>1525243</td>\n      <td>1551851</td>\n      <td>1543087</td>\n      <td>1597390</td>\n      <td>1636511</td>\n      <td>1659859</td>\n      <td>1720295</td>\n    </tr>\n    <tr>\n      <th>18</th>\n      <td>MELILLA</td>\n      <td>921312</td>\n      <td>953301</td>\n      <td>993232</td>\n      <td>1059665</td>\n      <td>1130075</td>\n      <td>1203682</td>\n      <td>1289507</td>\n      <td>1354257</td>\n      <td>1403440</td>\n      <td>1396649</td>\n      <td>1415709</td>\n      <td>1417774</td>\n      <td>1369832</td>\n      <td>1389601</td>\n      <td>1402792</td>\n      <td>1461285</td>\n      <td>1506101</td>\n      <td>1519867</td>\n      <td>1582540</td>\n    </tr>\n    <tr>\n      <th>19</th>\n      <td>Total Nacional</td>\n      <td>647851000</td>\n      <td>700993000</td>\n      <td>749552000</td>\n      <td>802266000</td>\n      <td>859437000</td>\n      <td>927357000</td>\n      <td>1003823000</td>\n      <td>1075539000</td>\n      <td>1109541000</td>\n      <td>1069323000</td>\n      <td>1072709000</td>\n      <td>1063763000</td>\n      <td>1031099000</td>\n      <td>1020348000</td>\n      <td>1032158000</td>\n      <td>1077590000</td>\n      <td>1113840000</td>\n      <td>1161867000</td>\n      <td>1204241000</td>\n    </tr>\n  </tbody>\n</table>\n</div>"
     },
     "metadata": {},
     "execution_count": 63
    }
   ],
   "source": [
    "## STEPS TO CLEAN\n",
    "pib"
   ]
  },
  {
   "cell_type": "code",
   "execution_count": 64,
   "metadata": {},
   "outputs": [],
   "source": [
    "#Eliminar desde el año 2000 al 2009\n",
    "to_drop = pib.iloc[:, 1:11]\n",
    "\n",
    "pib.drop(to_drop, inplace = True , axis= 1 )"
   ]
  },
  {
   "cell_type": "code",
   "execution_count": 65,
   "metadata": {},
   "outputs": [
    {
     "output_type": "execute_result",
     "data": {
      "text/plain": [
       "            Comunidad Autónoma        2010        2011        2012  \\\n",
       "0                    ANDALUCÍA   144752225   143389086   138007226   \n",
       "1                       ARAGÓN    33828995    33368344    31963049   \n",
       "2       PRINCIPADO DE ASTURIAS    22733586    22375426    21364846   \n",
       "3               ILLES BALEARS     26535097    26398144    25979358   \n",
       "4                     CANARIAS    40811481    40595330    39204779   \n",
       "5                    CANTABRIA    12836685    12622706    12167280   \n",
       "6              CASTILLA Y LEÓN    54970431    54575008    52868471   \n",
       "7         CASTILLA - LA MANCHA    38706827    38258606    36890198   \n",
       "8                     CATALUÑA   201705890   198906023   193449278   \n",
       "9         COMUNITAT VALENCIANA   101201463    99706759    95177430   \n",
       "10                 EXTREMADURA    18135329    17738058    17065094   \n",
       "11                     GALICIA    56767263    55767991    53971849   \n",
       "12         COMUNIDAD DE MADRID   197145571   198465261   195026853   \n",
       "13            REGIÓN DE MURCIA    27912742    27236069    26508820   \n",
       "14  COMUNIDAD FORAL DE NAVARRA    17973969    17942160    17282206   \n",
       "15                  PAÍS VASCO    64680368    64130843    62558828   \n",
       "16                   LA RIOJA      7977333     7907440     7636210   \n",
       "17                       CEUTA     1578805     1575312     1525243   \n",
       "18                     MELILLA     1415709     1417774     1369832   \n",
       "19              Total Nacional  1072709000  1063763000  1031099000   \n",
       "\n",
       "          2013        2014        2015        2016        2017        2018  \n",
       "0    136048003   137722026   144745569   148405362   155371755   160711363  \n",
       "1     32082809    32289054    32876311    34214691    35638352    36850296  \n",
       "2     20746770    20652899    21372587    21694246    22592548    23258673  \n",
       "3     25931407    26769837    28245574    29831313    31383376    32767619  \n",
       "4     39032454    39266705    40566240    42013704    44205400    45823321  \n",
       "5     11864241    12057567    12325933    12736089    13226038    13737756  \n",
       "6     51504174    51539425    53238351    54767172    56051831    58477225  \n",
       "7     36153041    35353236    37113609    38315029    39891219    41521223  \n",
       "8    192006545   195370105   204355232   212703912   221476488   229345722  \n",
       "9     94309154    96320641   100110751   103228580   107785815   111793978  \n",
       "10    17057479    17024183    17902594    18504343    19534814    20088238  \n",
       "11    53925394    54190333    56666599    58279948    60394810    62436133  \n",
       "12   192620202   194960214   204244524   211672686   222027547   231133592  \n",
       "13    26566278    26712051    28492083    29369879    30538493    31198376  \n",
       "14    17237767    17505255    18145704    18747249    19528873    20047454  \n",
       "15    61625767    62677248    64989988    67126912    69657915    72029560  \n",
       "16     7539145     7685969     7962438     8014694     8295191     8593185  \n",
       "17     1551851     1543087     1597390     1636511     1659859     1720295  \n",
       "18     1389601     1402792     1461285     1506101     1519867     1582540  \n",
       "19  1020348000  1032158000  1077590000  1113840000  1161867000  1204241000  "
      ],
      "text/html": "<div>\n<style scoped>\n    .dataframe tbody tr th:only-of-type {\n        vertical-align: middle;\n    }\n\n    .dataframe tbody tr th {\n        vertical-align: top;\n    }\n\n    .dataframe thead th {\n        text-align: right;\n    }\n</style>\n<table border=\"1\" class=\"dataframe\">\n  <thead>\n    <tr style=\"text-align: right;\">\n      <th></th>\n      <th>Comunidad Autónoma</th>\n      <th>2010</th>\n      <th>2011</th>\n      <th>2012</th>\n      <th>2013</th>\n      <th>2014</th>\n      <th>2015</th>\n      <th>2016</th>\n      <th>2017</th>\n      <th>2018</th>\n    </tr>\n  </thead>\n  <tbody>\n    <tr>\n      <th>0</th>\n      <td>ANDALUCÍA</td>\n      <td>144752225</td>\n      <td>143389086</td>\n      <td>138007226</td>\n      <td>136048003</td>\n      <td>137722026</td>\n      <td>144745569</td>\n      <td>148405362</td>\n      <td>155371755</td>\n      <td>160711363</td>\n    </tr>\n    <tr>\n      <th>1</th>\n      <td>ARAGÓN</td>\n      <td>33828995</td>\n      <td>33368344</td>\n      <td>31963049</td>\n      <td>32082809</td>\n      <td>32289054</td>\n      <td>32876311</td>\n      <td>34214691</td>\n      <td>35638352</td>\n      <td>36850296</td>\n    </tr>\n    <tr>\n      <th>2</th>\n      <td>PRINCIPADO DE ASTURIAS</td>\n      <td>22733586</td>\n      <td>22375426</td>\n      <td>21364846</td>\n      <td>20746770</td>\n      <td>20652899</td>\n      <td>21372587</td>\n      <td>21694246</td>\n      <td>22592548</td>\n      <td>23258673</td>\n    </tr>\n    <tr>\n      <th>3</th>\n      <td>ILLES BALEARS</td>\n      <td>26535097</td>\n      <td>26398144</td>\n      <td>25979358</td>\n      <td>25931407</td>\n      <td>26769837</td>\n      <td>28245574</td>\n      <td>29831313</td>\n      <td>31383376</td>\n      <td>32767619</td>\n    </tr>\n    <tr>\n      <th>4</th>\n      <td>CANARIAS</td>\n      <td>40811481</td>\n      <td>40595330</td>\n      <td>39204779</td>\n      <td>39032454</td>\n      <td>39266705</td>\n      <td>40566240</td>\n      <td>42013704</td>\n      <td>44205400</td>\n      <td>45823321</td>\n    </tr>\n    <tr>\n      <th>5</th>\n      <td>CANTABRIA</td>\n      <td>12836685</td>\n      <td>12622706</td>\n      <td>12167280</td>\n      <td>11864241</td>\n      <td>12057567</td>\n      <td>12325933</td>\n      <td>12736089</td>\n      <td>13226038</td>\n      <td>13737756</td>\n    </tr>\n    <tr>\n      <th>6</th>\n      <td>CASTILLA Y LEÓN</td>\n      <td>54970431</td>\n      <td>54575008</td>\n      <td>52868471</td>\n      <td>51504174</td>\n      <td>51539425</td>\n      <td>53238351</td>\n      <td>54767172</td>\n      <td>56051831</td>\n      <td>58477225</td>\n    </tr>\n    <tr>\n      <th>7</th>\n      <td>CASTILLA - LA MANCHA</td>\n      <td>38706827</td>\n      <td>38258606</td>\n      <td>36890198</td>\n      <td>36153041</td>\n      <td>35353236</td>\n      <td>37113609</td>\n      <td>38315029</td>\n      <td>39891219</td>\n      <td>41521223</td>\n    </tr>\n    <tr>\n      <th>8</th>\n      <td>CATALUÑA</td>\n      <td>201705890</td>\n      <td>198906023</td>\n      <td>193449278</td>\n      <td>192006545</td>\n      <td>195370105</td>\n      <td>204355232</td>\n      <td>212703912</td>\n      <td>221476488</td>\n      <td>229345722</td>\n    </tr>\n    <tr>\n      <th>9</th>\n      <td>COMUNITAT VALENCIANA</td>\n      <td>101201463</td>\n      <td>99706759</td>\n      <td>95177430</td>\n      <td>94309154</td>\n      <td>96320641</td>\n      <td>100110751</td>\n      <td>103228580</td>\n      <td>107785815</td>\n      <td>111793978</td>\n    </tr>\n    <tr>\n      <th>10</th>\n      <td>EXTREMADURA</td>\n      <td>18135329</td>\n      <td>17738058</td>\n      <td>17065094</td>\n      <td>17057479</td>\n      <td>17024183</td>\n      <td>17902594</td>\n      <td>18504343</td>\n      <td>19534814</td>\n      <td>20088238</td>\n    </tr>\n    <tr>\n      <th>11</th>\n      <td>GALICIA</td>\n      <td>56767263</td>\n      <td>55767991</td>\n      <td>53971849</td>\n      <td>53925394</td>\n      <td>54190333</td>\n      <td>56666599</td>\n      <td>58279948</td>\n      <td>60394810</td>\n      <td>62436133</td>\n    </tr>\n    <tr>\n      <th>12</th>\n      <td>COMUNIDAD DE MADRID</td>\n      <td>197145571</td>\n      <td>198465261</td>\n      <td>195026853</td>\n      <td>192620202</td>\n      <td>194960214</td>\n      <td>204244524</td>\n      <td>211672686</td>\n      <td>222027547</td>\n      <td>231133592</td>\n    </tr>\n    <tr>\n      <th>13</th>\n      <td>REGIÓN DE MURCIA</td>\n      <td>27912742</td>\n      <td>27236069</td>\n      <td>26508820</td>\n      <td>26566278</td>\n      <td>26712051</td>\n      <td>28492083</td>\n      <td>29369879</td>\n      <td>30538493</td>\n      <td>31198376</td>\n    </tr>\n    <tr>\n      <th>14</th>\n      <td>COMUNIDAD FORAL DE NAVARRA</td>\n      <td>17973969</td>\n      <td>17942160</td>\n      <td>17282206</td>\n      <td>17237767</td>\n      <td>17505255</td>\n      <td>18145704</td>\n      <td>18747249</td>\n      <td>19528873</td>\n      <td>20047454</td>\n    </tr>\n    <tr>\n      <th>15</th>\n      <td>PAÍS VASCO</td>\n      <td>64680368</td>\n      <td>64130843</td>\n      <td>62558828</td>\n      <td>61625767</td>\n      <td>62677248</td>\n      <td>64989988</td>\n      <td>67126912</td>\n      <td>69657915</td>\n      <td>72029560</td>\n    </tr>\n    <tr>\n      <th>16</th>\n      <td>LA RIOJA</td>\n      <td>7977333</td>\n      <td>7907440</td>\n      <td>7636210</td>\n      <td>7539145</td>\n      <td>7685969</td>\n      <td>7962438</td>\n      <td>8014694</td>\n      <td>8295191</td>\n      <td>8593185</td>\n    </tr>\n    <tr>\n      <th>17</th>\n      <td>CEUTA</td>\n      <td>1578805</td>\n      <td>1575312</td>\n      <td>1525243</td>\n      <td>1551851</td>\n      <td>1543087</td>\n      <td>1597390</td>\n      <td>1636511</td>\n      <td>1659859</td>\n      <td>1720295</td>\n    </tr>\n    <tr>\n      <th>18</th>\n      <td>MELILLA</td>\n      <td>1415709</td>\n      <td>1417774</td>\n      <td>1369832</td>\n      <td>1389601</td>\n      <td>1402792</td>\n      <td>1461285</td>\n      <td>1506101</td>\n      <td>1519867</td>\n      <td>1582540</td>\n    </tr>\n    <tr>\n      <th>19</th>\n      <td>Total Nacional</td>\n      <td>1072709000</td>\n      <td>1063763000</td>\n      <td>1031099000</td>\n      <td>1020348000</td>\n      <td>1032158000</td>\n      <td>1077590000</td>\n      <td>1113840000</td>\n      <td>1161867000</td>\n      <td>1204241000</td>\n    </tr>\n  </tbody>\n</table>\n</div>"
     },
     "metadata": {},
     "execution_count": 65
    }
   ],
   "source": [
    "pib"
   ]
  },
  {
   "cell_type": "code",
   "execution_count": 66,
   "metadata": {},
   "outputs": [],
   "source": [
    "#Cambia los años a columnas \n",
    "\n",
    "melt_pib = pd.melt(pib, id_vars=['Comunidad Autónoma'], value_vars=[2010, 2011, 2012, 2013, 2014, 2015, 2016, 2017, 2018],var_name='Año', value_name='PIB').sort_values('Comunidad Autónoma')"
   ]
  },
  {
   "cell_type": "code",
   "execution_count": 67,
   "metadata": {},
   "outputs": [
    {
     "output_type": "execute_result",
     "data": {
      "text/plain": [
       "    Comunidad Autónoma   Año         PIB\n",
       "0            ANDALUCÍA  2010   144752225\n",
       "160          ANDALUCÍA  2018   160711363\n",
       "120          ANDALUCÍA  2016   148405362\n",
       "80           ANDALUCÍA  2014   137722026\n",
       "20           ANDALUCÍA  2011   143389086\n",
       "..                 ...   ...         ...\n",
       "159     Total Nacional  2017  1161867000\n",
       "139     Total Nacional  2016  1113840000\n",
       "39      Total Nacional  2011  1063763000\n",
       "79      Total Nacional  2013  1020348000\n",
       "179     Total Nacional  2018  1204241000\n",
       "\n",
       "[180 rows x 3 columns]"
      ],
      "text/html": "<div>\n<style scoped>\n    .dataframe tbody tr th:only-of-type {\n        vertical-align: middle;\n    }\n\n    .dataframe tbody tr th {\n        vertical-align: top;\n    }\n\n    .dataframe thead th {\n        text-align: right;\n    }\n</style>\n<table border=\"1\" class=\"dataframe\">\n  <thead>\n    <tr style=\"text-align: right;\">\n      <th></th>\n      <th>Comunidad Autónoma</th>\n      <th>Año</th>\n      <th>PIB</th>\n    </tr>\n  </thead>\n  <tbody>\n    <tr>\n      <th>0</th>\n      <td>ANDALUCÍA</td>\n      <td>2010</td>\n      <td>144752225</td>\n    </tr>\n    <tr>\n      <th>160</th>\n      <td>ANDALUCÍA</td>\n      <td>2018</td>\n      <td>160711363</td>\n    </tr>\n    <tr>\n      <th>120</th>\n      <td>ANDALUCÍA</td>\n      <td>2016</td>\n      <td>148405362</td>\n    </tr>\n    <tr>\n      <th>80</th>\n      <td>ANDALUCÍA</td>\n      <td>2014</td>\n      <td>137722026</td>\n    </tr>\n    <tr>\n      <th>20</th>\n      <td>ANDALUCÍA</td>\n      <td>2011</td>\n      <td>143389086</td>\n    </tr>\n    <tr>\n      <th>...</th>\n      <td>...</td>\n      <td>...</td>\n      <td>...</td>\n    </tr>\n    <tr>\n      <th>159</th>\n      <td>Total Nacional</td>\n      <td>2017</td>\n      <td>1161867000</td>\n    </tr>\n    <tr>\n      <th>139</th>\n      <td>Total Nacional</td>\n      <td>2016</td>\n      <td>1113840000</td>\n    </tr>\n    <tr>\n      <th>39</th>\n      <td>Total Nacional</td>\n      <td>2011</td>\n      <td>1063763000</td>\n    </tr>\n    <tr>\n      <th>79</th>\n      <td>Total Nacional</td>\n      <td>2013</td>\n      <td>1020348000</td>\n    </tr>\n    <tr>\n      <th>179</th>\n      <td>Total Nacional</td>\n      <td>2018</td>\n      <td>1204241000</td>\n    </tr>\n  </tbody>\n</table>\n<p>180 rows × 3 columns</p>\n</div>"
     },
     "metadata": {},
     "execution_count": 67
    }
   ],
   "source": [
    "melt_pib"
   ]
  },
  {
   "cell_type": "code",
   "execution_count": 68,
   "metadata": {},
   "outputs": [],
   "source": [
    "#CHANGE TO CAPITALIZE ALL the column CCAA STR\n",
    "melt_pib['Comunidad Autónoma'] = melt_pib['Comunidad Autónoma'].str.upper()"
   ]
  },
  {
   "cell_type": "code",
   "execution_count": 69,
   "metadata": {},
   "outputs": [
    {
     "output_type": "execute_result",
     "data": {
      "text/plain": [
       "    Comunidad Autónoma   Año         PIB\n",
       "0            ANDALUCÍA  2010   144752225\n",
       "160          ANDALUCÍA  2018   160711363\n",
       "120          ANDALUCÍA  2016   148405362\n",
       "80           ANDALUCÍA  2014   137722026\n",
       "20           ANDALUCÍA  2011   143389086\n",
       "..                 ...   ...         ...\n",
       "159     TOTAL NACIONAL  2017  1161867000\n",
       "139     TOTAL NACIONAL  2016  1113840000\n",
       "39      TOTAL NACIONAL  2011  1063763000\n",
       "79      TOTAL NACIONAL  2013  1020348000\n",
       "179     TOTAL NACIONAL  2018  1204241000\n",
       "\n",
       "[180 rows x 3 columns]"
      ],
      "text/html": "<div>\n<style scoped>\n    .dataframe tbody tr th:only-of-type {\n        vertical-align: middle;\n    }\n\n    .dataframe tbody tr th {\n        vertical-align: top;\n    }\n\n    .dataframe thead th {\n        text-align: right;\n    }\n</style>\n<table border=\"1\" class=\"dataframe\">\n  <thead>\n    <tr style=\"text-align: right;\">\n      <th></th>\n      <th>Comunidad Autónoma</th>\n      <th>Año</th>\n      <th>PIB</th>\n    </tr>\n  </thead>\n  <tbody>\n    <tr>\n      <th>0</th>\n      <td>ANDALUCÍA</td>\n      <td>2010</td>\n      <td>144752225</td>\n    </tr>\n    <tr>\n      <th>160</th>\n      <td>ANDALUCÍA</td>\n      <td>2018</td>\n      <td>160711363</td>\n    </tr>\n    <tr>\n      <th>120</th>\n      <td>ANDALUCÍA</td>\n      <td>2016</td>\n      <td>148405362</td>\n    </tr>\n    <tr>\n      <th>80</th>\n      <td>ANDALUCÍA</td>\n      <td>2014</td>\n      <td>137722026</td>\n    </tr>\n    <tr>\n      <th>20</th>\n      <td>ANDALUCÍA</td>\n      <td>2011</td>\n      <td>143389086</td>\n    </tr>\n    <tr>\n      <th>...</th>\n      <td>...</td>\n      <td>...</td>\n      <td>...</td>\n    </tr>\n    <tr>\n      <th>159</th>\n      <td>TOTAL NACIONAL</td>\n      <td>2017</td>\n      <td>1161867000</td>\n    </tr>\n    <tr>\n      <th>139</th>\n      <td>TOTAL NACIONAL</td>\n      <td>2016</td>\n      <td>1113840000</td>\n    </tr>\n    <tr>\n      <th>39</th>\n      <td>TOTAL NACIONAL</td>\n      <td>2011</td>\n      <td>1063763000</td>\n    </tr>\n    <tr>\n      <th>79</th>\n      <td>TOTAL NACIONAL</td>\n      <td>2013</td>\n      <td>1020348000</td>\n    </tr>\n    <tr>\n      <th>179</th>\n      <td>TOTAL NACIONAL</td>\n      <td>2018</td>\n      <td>1204241000</td>\n    </tr>\n  </tbody>\n</table>\n<p>180 rows × 3 columns</p>\n</div>"
     },
     "metadata": {},
     "execution_count": 69
    }
   ],
   "source": [
    "melt_pib"
   ]
  },
  {
   "cell_type": "code",
   "execution_count": 70,
   "metadata": {},
   "outputs": [],
   "source": [
    "#reiniciar el index\n",
    "pib_clean = melt_pib.reset_index(drop=True)"
   ]
  },
  {
   "cell_type": "code",
   "execution_count": 71,
   "metadata": {},
   "outputs": [],
   "source": [
    "## GUARDAMOS LA BASE DE DATOS\n",
    "\n",
    "pib_clean.to_csv('pib_clean.csv', index=False)"
   ]
  },
  {
   "cell_type": "code",
   "execution_count": null,
   "metadata": {},
   "outputs": [],
   "source": []
  }
 ]
}