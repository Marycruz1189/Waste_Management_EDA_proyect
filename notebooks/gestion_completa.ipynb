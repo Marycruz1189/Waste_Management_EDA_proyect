{
 "metadata": {
  "language_info": {
   "codemirror_mode": {
    "name": "ipython",
    "version": 3
   },
   "file_extension": ".py",
   "mimetype": "text/x-python",
   "name": "python",
   "nbconvert_exporter": "python",
   "pygments_lexer": "ipython3",
   "version": "3.7.4"
  },
  "orig_nbformat": 2,
  "kernelspec": {
   "name": "python374jvsc74a57bd0a9b83ec4160fc914f5169c2fc0bc9ab1c02e189a457abfa966969b692f6336e9",
   "display_name": "Python 3.7.4 64-bit"
  },
  "metadata": {
   "interpreter": {
    "hash": "a9b83ec4160fc914f5169c2fc0bc9ab1c02e189a457abfa966969b692f6336e9"
   }
  }
 },
 "nbformat": 4,
 "nbformat_minor": 2,
 "cells": [
  {
   "cell_type": "code",
   "execution_count": 1,
   "metadata": {},
   "outputs": [],
   "source": [
    "import pandas as pd\n",
    "import numpy as np\n",
    "import re\n",
    "import os"
   ]
  },
  {
   "cell_type": "code",
   "execution_count": 2,
   "metadata": {},
   "outputs": [],
   "source": [
    "\n",
    "SEP = os.sep\n",
    "dir = os.path.dirname\n",
    "csv_fullpath = dir(dir(os.getcwd())) + SEP + \"data\" + SEP + \"residuos_gestionados_nuevo.xlsx\""
   ]
  },
  {
   "cell_type": "code",
   "execution_count": 3,
   "metadata": {},
   "outputs": [
    {
     "output_type": "execute_result",
     "data": {
      "text/plain": [
       "'c:\\\\Users\\\\Mary\\\\Desktop\\\\Boot Camp\\\\Python\\\\MaryC-MezaR\\\\data_science_bootcamp_2021\\\\Waste_Management_EDA_proyect\\\\data\\\\residuos_gestionados_nuevo.xlsx'"
      ]
     },
     "metadata": {},
     "execution_count": 3
    }
   ],
   "source": [
    "csv_fullpath"
   ]
  },
  {
   "cell_type": "code",
   "execution_count": 4,
   "metadata": {},
   "outputs": [],
   "source": [
    "gestion = pd.read_excel(csv_fullpath)"
   ]
  },
  {
   "cell_type": "code",
   "execution_count": 7,
   "metadata": {},
   "outputs": [
    {
     "output_type": "execute_result",
     "data": {
      "text/plain": [
       "      Año   Comunidades Autónomas  Reciclado procedente de recogida separada  \\\n",
       "0    2018               Andalucía                               4.128180e+05   \n",
       "1    2018                  Aragón                               8.241800e+04   \n",
       "2    2018  Principado de Asturias                               8.372800e+04   \n",
       "3    2018          ILLES BALEARS                                1.531490e+05   \n",
       "4    2018                Canarias                               1.401740e+05   \n",
       "..    ...                     ...                                        ...   \n",
       "175  2010              País Vasco                               2.808448e+05   \n",
       "176  2010    Comunitat Valenciana                               2.604824e+05   \n",
       "177  2010                   Ceuta                               3.252812e+03   \n",
       "178  2010                 Melilla                               3.368000e+03   \n",
       "179  2010          Total nacional                               2.998739e+06   \n",
       "\n",
       "     Materiales recuperados-TMB mezclados  \\\n",
       "0                              166217.000   \n",
       "1                               10209.000   \n",
       "2                                   0.000   \n",
       "3                                1938.000   \n",
       "4                               58936.000   \n",
       "..                                    ...   \n",
       "175                             18907.125   \n",
       "176                            110349.500   \n",
       "177                                 0.000   \n",
       "178                                 0.000   \n",
       "179                            619189.750   \n",
       "\n",
       "     Compostado/Digestion anaerobia de FORS  Compostado/Digestión anaerobia  \\\n",
       "0                                45572.0000                    6.857340e+05   \n",
       "1                               212000.0000                    7.983400e+04   \n",
       "2                                 2481.0000                    0.000000e+00   \n",
       "3                                36774.0000                    1.669000e+04   \n",
       "4                                 1248.0000                    1.765900e+05   \n",
       "..                                      ...                             ...   \n",
       "175                               8877.3750                    3.586912e+04   \n",
       "176                                  0.0000                    6.396301e+05   \n",
       "177                                  0.0000                    0.000000e+00   \n",
       "178                                  0.0000                    0.000000e+00   \n",
       "179                             495449.6875                    2.651220e+06   \n",
       "\n",
       "       Incinerado  Vertido de rechazos  Vertido sin tratamiento previo  \\\n",
       "0    0.000000e+00         2.404796e+06                      599650.000   \n",
       "1    0.000000e+00         1.728310e+05                      226741.000   \n",
       "2    0.000000e+00         4.908000e+03                      390873.000   \n",
       "3    5.058860e+05         3.793200e+04                      143927.000   \n",
       "4    0.000000e+00         8.207420e+05                      113704.000   \n",
       "..            ...                  ...                             ...   \n",
       "175  2.452908e+05         8.515031e+04                      216172.750   \n",
       "176  3.098750e+03         1.153239e+06                         423.500   \n",
       "177  0.000000e+00         0.000000e+00                           0.000   \n",
       "178  4.211619e+04         0.000000e+00                           0.000   \n",
       "179  2.499665e+06         7.537971e+06                     4255055.875   \n",
       "\n",
       "            Total  Unnamed: 10  \n",
       "0    4.314787e+06          NaN  \n",
       "1    5.722450e+05          NaN  \n",
       "2    4.819900e+05          NaN  \n",
       "3    8.962960e+05          NaN  \n",
       "4    1.311394e+06          NaN  \n",
       "..            ...          ...  \n",
       "175  8.911122e+05          NaN  \n",
       "176  2.167223e+06          NaN  \n",
       "177  3.252812e+03          NaN  \n",
       "178  4.548419e+04          NaN  \n",
       "179  2.105729e+07          NaN  \n",
       "\n",
       "[180 rows x 11 columns]"
      ],
      "text/html": "<div>\n<style scoped>\n    .dataframe tbody tr th:only-of-type {\n        vertical-align: middle;\n    }\n\n    .dataframe tbody tr th {\n        vertical-align: top;\n    }\n\n    .dataframe thead th {\n        text-align: right;\n    }\n</style>\n<table border=\"1\" class=\"dataframe\">\n  <thead>\n    <tr style=\"text-align: right;\">\n      <th></th>\n      <th>Año</th>\n      <th>Comunidades Autónomas</th>\n      <th>Reciclado procedente de recogida separada</th>\n      <th>Materiales recuperados-TMB mezclados</th>\n      <th>Compostado/Digestion anaerobia de FORS</th>\n      <th>Compostado/Digestión anaerobia</th>\n      <th>Incinerado</th>\n      <th>Vertido de rechazos</th>\n      <th>Vertido sin tratamiento previo</th>\n      <th>Total</th>\n      <th>Unnamed: 10</th>\n    </tr>\n  </thead>\n  <tbody>\n    <tr>\n      <th>0</th>\n      <td>2018</td>\n      <td>Andalucía</td>\n      <td>4.128180e+05</td>\n      <td>166217.000</td>\n      <td>45572.0000</td>\n      <td>6.857340e+05</td>\n      <td>0.000000e+00</td>\n      <td>2.404796e+06</td>\n      <td>599650.000</td>\n      <td>4.314787e+06</td>\n      <td>NaN</td>\n    </tr>\n    <tr>\n      <th>1</th>\n      <td>2018</td>\n      <td>Aragón</td>\n      <td>8.241800e+04</td>\n      <td>10209.000</td>\n      <td>212000.0000</td>\n      <td>7.983400e+04</td>\n      <td>0.000000e+00</td>\n      <td>1.728310e+05</td>\n      <td>226741.000</td>\n      <td>5.722450e+05</td>\n      <td>NaN</td>\n    </tr>\n    <tr>\n      <th>2</th>\n      <td>2018</td>\n      <td>Principado de Asturias</td>\n      <td>8.372800e+04</td>\n      <td>0.000</td>\n      <td>2481.0000</td>\n      <td>0.000000e+00</td>\n      <td>0.000000e+00</td>\n      <td>4.908000e+03</td>\n      <td>390873.000</td>\n      <td>4.819900e+05</td>\n      <td>NaN</td>\n    </tr>\n    <tr>\n      <th>3</th>\n      <td>2018</td>\n      <td>ILLES BALEARS</td>\n      <td>1.531490e+05</td>\n      <td>1938.000</td>\n      <td>36774.0000</td>\n      <td>1.669000e+04</td>\n      <td>5.058860e+05</td>\n      <td>3.793200e+04</td>\n      <td>143927.000</td>\n      <td>8.962960e+05</td>\n      <td>NaN</td>\n    </tr>\n    <tr>\n      <th>4</th>\n      <td>2018</td>\n      <td>Canarias</td>\n      <td>1.401740e+05</td>\n      <td>58936.000</td>\n      <td>1248.0000</td>\n      <td>1.765900e+05</td>\n      <td>0.000000e+00</td>\n      <td>8.207420e+05</td>\n      <td>113704.000</td>\n      <td>1.311394e+06</td>\n      <td>NaN</td>\n    </tr>\n    <tr>\n      <th>...</th>\n      <td>...</td>\n      <td>...</td>\n      <td>...</td>\n      <td>...</td>\n      <td>...</td>\n      <td>...</td>\n      <td>...</td>\n      <td>...</td>\n      <td>...</td>\n      <td>...</td>\n      <td>...</td>\n    </tr>\n    <tr>\n      <th>175</th>\n      <td>2010</td>\n      <td>País Vasco</td>\n      <td>2.808448e+05</td>\n      <td>18907.125</td>\n      <td>8877.3750</td>\n      <td>3.586912e+04</td>\n      <td>2.452908e+05</td>\n      <td>8.515031e+04</td>\n      <td>216172.750</td>\n      <td>8.911122e+05</td>\n      <td>NaN</td>\n    </tr>\n    <tr>\n      <th>176</th>\n      <td>2010</td>\n      <td>Comunitat Valenciana</td>\n      <td>2.604824e+05</td>\n      <td>110349.500</td>\n      <td>0.0000</td>\n      <td>6.396301e+05</td>\n      <td>3.098750e+03</td>\n      <td>1.153239e+06</td>\n      <td>423.500</td>\n      <td>2.167223e+06</td>\n      <td>NaN</td>\n    </tr>\n    <tr>\n      <th>177</th>\n      <td>2010</td>\n      <td>Ceuta</td>\n      <td>3.252812e+03</td>\n      <td>0.000</td>\n      <td>0.0000</td>\n      <td>0.000000e+00</td>\n      <td>0.000000e+00</td>\n      <td>0.000000e+00</td>\n      <td>0.000</td>\n      <td>3.252812e+03</td>\n      <td>NaN</td>\n    </tr>\n    <tr>\n      <th>178</th>\n      <td>2010</td>\n      <td>Melilla</td>\n      <td>3.368000e+03</td>\n      <td>0.000</td>\n      <td>0.0000</td>\n      <td>0.000000e+00</td>\n      <td>4.211619e+04</td>\n      <td>0.000000e+00</td>\n      <td>0.000</td>\n      <td>4.548419e+04</td>\n      <td>NaN</td>\n    </tr>\n    <tr>\n      <th>179</th>\n      <td>2010</td>\n      <td>Total nacional</td>\n      <td>2.998739e+06</td>\n      <td>619189.750</td>\n      <td>495449.6875</td>\n      <td>2.651220e+06</td>\n      <td>2.499665e+06</td>\n      <td>7.537971e+06</td>\n      <td>4255055.875</td>\n      <td>2.105729e+07</td>\n      <td>NaN</td>\n    </tr>\n  </tbody>\n</table>\n<p>180 rows × 11 columns</p>\n</div>"
     },
     "metadata": {},
     "execution_count": 7
    }
   ],
   "source": [
    "gestion"
   ]
  },
  {
   "cell_type": "code",
   "execution_count": 16,
   "metadata": {},
   "outputs": [
    {
     "output_type": "execute_result",
     "data": {
      "text/plain": [
       "     Reciclado procedente de recogida separada  \\\n",
       "0                                    412818.00   \n",
       "1                                     82418.00   \n",
       "2                                     83728.00   \n",
       "3                                    153149.00   \n",
       "4                                    140174.00   \n",
       "..                                         ...   \n",
       "175                                  280844.75   \n",
       "176                                  260482.44   \n",
       "177                                    3252.81   \n",
       "178                                    3368.00   \n",
       "179                                 2998739.19   \n",
       "\n",
       "     Materiales recuperados-TMB mezclados  \\\n",
       "0                               166217.00   \n",
       "1                                10209.00   \n",
       "2                                    0.00   \n",
       "3                                 1938.00   \n",
       "4                                58936.00   \n",
       "..                                    ...   \n",
       "175                              18907.12   \n",
       "176                             110349.50   \n",
       "177                                  0.00   \n",
       "178                                  0.00   \n",
       "179                             619189.75   \n",
       "\n",
       "     Compostado/Digestion anaerobia de FORS  Compostado/Digestión anaerobia  \\\n",
       "0                                  45572.00                       685734.00   \n",
       "1                                 212000.00                        79834.00   \n",
       "2                                   2481.00                            0.00   \n",
       "3                                  36774.00                        16690.00   \n",
       "4                                   1248.00                       176590.00   \n",
       "..                                      ...                             ...   \n",
       "175                                 8877.38                        35869.12   \n",
       "176                                    0.00                       639630.06   \n",
       "177                                    0.00                            0.00   \n",
       "178                                    0.00                            0.00   \n",
       "179                               495449.69                      2651220.44   \n",
       "\n",
       "     Incinerado  Vertido de rechazos  Vertido sin tratamiento previo  \\\n",
       "0          0.00           2404796.00                       599650.00   \n",
       "1          0.00            172831.00                       226741.00   \n",
       "2          0.00              4908.00                       390873.00   \n",
       "3     505886.00             37932.00                       143927.00   \n",
       "4          0.00            820742.00                       113704.00   \n",
       "..          ...                  ...                             ...   \n",
       "175   245290.75             85150.31                       216172.75   \n",
       "176     3098.75           1153239.00                          423.50   \n",
       "177        0.00                 0.00                            0.00   \n",
       "178    42116.19                 0.00                            0.00   \n",
       "179  2499665.44           7537970.56                      4255055.88   \n",
       "\n",
       "           Total  Unnamed: 10  \n",
       "0     4314787.00          NaN  \n",
       "1      572245.00          NaN  \n",
       "2      481990.00          NaN  \n",
       "3      896296.00          NaN  \n",
       "4     1311394.00          NaN  \n",
       "..           ...          ...  \n",
       "175    891112.19          NaN  \n",
       "176   2167223.25          NaN  \n",
       "177      3252.81          NaN  \n",
       "178     45484.19          NaN  \n",
       "179  21057289.56          NaN  \n",
       "\n",
       "[180 rows x 9 columns]"
      ],
      "text/html": "<div>\n<style scoped>\n    .dataframe tbody tr th:only-of-type {\n        vertical-align: middle;\n    }\n\n    .dataframe tbody tr th {\n        vertical-align: top;\n    }\n\n    .dataframe thead th {\n        text-align: right;\n    }\n</style>\n<table border=\"1\" class=\"dataframe\">\n  <thead>\n    <tr style=\"text-align: right;\">\n      <th></th>\n      <th>Reciclado procedente de recogida separada</th>\n      <th>Materiales recuperados-TMB mezclados</th>\n      <th>Compostado/Digestion anaerobia de FORS</th>\n      <th>Compostado/Digestión anaerobia</th>\n      <th>Incinerado</th>\n      <th>Vertido de rechazos</th>\n      <th>Vertido sin tratamiento previo</th>\n      <th>Total</th>\n      <th>Unnamed: 10</th>\n    </tr>\n  </thead>\n  <tbody>\n    <tr>\n      <th>0</th>\n      <td>412818.00</td>\n      <td>166217.00</td>\n      <td>45572.00</td>\n      <td>685734.00</td>\n      <td>0.00</td>\n      <td>2404796.00</td>\n      <td>599650.00</td>\n      <td>4314787.00</td>\n      <td>NaN</td>\n    </tr>\n    <tr>\n      <th>1</th>\n      <td>82418.00</td>\n      <td>10209.00</td>\n      <td>212000.00</td>\n      <td>79834.00</td>\n      <td>0.00</td>\n      <td>172831.00</td>\n      <td>226741.00</td>\n      <td>572245.00</td>\n      <td>NaN</td>\n    </tr>\n    <tr>\n      <th>2</th>\n      <td>83728.00</td>\n      <td>0.00</td>\n      <td>2481.00</td>\n      <td>0.00</td>\n      <td>0.00</td>\n      <td>4908.00</td>\n      <td>390873.00</td>\n      <td>481990.00</td>\n      <td>NaN</td>\n    </tr>\n    <tr>\n      <th>3</th>\n      <td>153149.00</td>\n      <td>1938.00</td>\n      <td>36774.00</td>\n      <td>16690.00</td>\n      <td>505886.00</td>\n      <td>37932.00</td>\n      <td>143927.00</td>\n      <td>896296.00</td>\n      <td>NaN</td>\n    </tr>\n    <tr>\n      <th>4</th>\n      <td>140174.00</td>\n      <td>58936.00</td>\n      <td>1248.00</td>\n      <td>176590.00</td>\n      <td>0.00</td>\n      <td>820742.00</td>\n      <td>113704.00</td>\n      <td>1311394.00</td>\n      <td>NaN</td>\n    </tr>\n    <tr>\n      <th>...</th>\n      <td>...</td>\n      <td>...</td>\n      <td>...</td>\n      <td>...</td>\n      <td>...</td>\n      <td>...</td>\n      <td>...</td>\n      <td>...</td>\n      <td>...</td>\n    </tr>\n    <tr>\n      <th>175</th>\n      <td>280844.75</td>\n      <td>18907.12</td>\n      <td>8877.38</td>\n      <td>35869.12</td>\n      <td>245290.75</td>\n      <td>85150.31</td>\n      <td>216172.75</td>\n      <td>891112.19</td>\n      <td>NaN</td>\n    </tr>\n    <tr>\n      <th>176</th>\n      <td>260482.44</td>\n      <td>110349.50</td>\n      <td>0.00</td>\n      <td>639630.06</td>\n      <td>3098.75</td>\n      <td>1153239.00</td>\n      <td>423.50</td>\n      <td>2167223.25</td>\n      <td>NaN</td>\n    </tr>\n    <tr>\n      <th>177</th>\n      <td>3252.81</td>\n      <td>0.00</td>\n      <td>0.00</td>\n      <td>0.00</td>\n      <td>0.00</td>\n      <td>0.00</td>\n      <td>0.00</td>\n      <td>3252.81</td>\n      <td>NaN</td>\n    </tr>\n    <tr>\n      <th>178</th>\n      <td>3368.00</td>\n      <td>0.00</td>\n      <td>0.00</td>\n      <td>0.00</td>\n      <td>42116.19</td>\n      <td>0.00</td>\n      <td>0.00</td>\n      <td>45484.19</td>\n      <td>NaN</td>\n    </tr>\n    <tr>\n      <th>179</th>\n      <td>2998739.19</td>\n      <td>619189.75</td>\n      <td>495449.69</td>\n      <td>2651220.44</td>\n      <td>2499665.44</td>\n      <td>7537970.56</td>\n      <td>4255055.88</td>\n      <td>21057289.56</td>\n      <td>NaN</td>\n    </tr>\n  </tbody>\n</table>\n<p>180 rows × 9 columns</p>\n</div>"
     },
     "metadata": {},
     "execution_count": 16
    }
   ],
   "source": [
    "# redondeo los valores por que tienen demdsiados decimales \n",
    "\n",
    "round(gestion.iloc[:, 2:11],2)"
   ]
  },
  {
   "cell_type": "code",
   "execution_count": 71,
   "metadata": {},
   "outputs": [],
   "source": [
    "#Elimino la ultima columna\n",
    "gestion.drop(columns='Unnamed: 10', inplace = True , axis= 1)"
   ]
  },
  {
   "cell_type": "code",
   "execution_count": 17,
   "metadata": {},
   "outputs": [
    {
     "output_type": "execute_result",
     "data": {
      "text/plain": [
       "      Año   Comunidades Autónomas  Reciclado procedente de recogida separada  \\\n",
       "0    2018               Andalucía                               4.128180e+05   \n",
       "1    2018                  Aragón                               8.241800e+04   \n",
       "2    2018  Principado de Asturias                               8.372800e+04   \n",
       "3    2018          ILLES BALEARS                                1.531490e+05   \n",
       "4    2018                Canarias                               1.401740e+05   \n",
       "..    ...                     ...                                        ...   \n",
       "175  2010              País Vasco                               2.808448e+05   \n",
       "176  2010    Comunitat Valenciana                               2.604824e+05   \n",
       "177  2010                   Ceuta                               3.252812e+03   \n",
       "178  2010                 Melilla                               3.368000e+03   \n",
       "179  2010          Total nacional                               2.998739e+06   \n",
       "\n",
       "     Materiales recuperados-TMB mezclados  \\\n",
       "0                              166217.000   \n",
       "1                               10209.000   \n",
       "2                                   0.000   \n",
       "3                                1938.000   \n",
       "4                               58936.000   \n",
       "..                                    ...   \n",
       "175                             18907.125   \n",
       "176                            110349.500   \n",
       "177                                 0.000   \n",
       "178                                 0.000   \n",
       "179                            619189.750   \n",
       "\n",
       "     Compostado/Digestion anaerobia de FORS  Compostado/Digestión anaerobia  \\\n",
       "0                                45572.0000                    6.857340e+05   \n",
       "1                               212000.0000                    7.983400e+04   \n",
       "2                                 2481.0000                    0.000000e+00   \n",
       "3                                36774.0000                    1.669000e+04   \n",
       "4                                 1248.0000                    1.765900e+05   \n",
       "..                                      ...                             ...   \n",
       "175                               8877.3750                    3.586912e+04   \n",
       "176                                  0.0000                    6.396301e+05   \n",
       "177                                  0.0000                    0.000000e+00   \n",
       "178                                  0.0000                    0.000000e+00   \n",
       "179                             495449.6875                    2.651220e+06   \n",
       "\n",
       "       Incinerado  Vertido de rechazos  Vertido sin tratamiento previo  \\\n",
       "0    0.000000e+00         2.404796e+06                      599650.000   \n",
       "1    0.000000e+00         1.728310e+05                      226741.000   \n",
       "2    0.000000e+00         4.908000e+03                      390873.000   \n",
       "3    5.058860e+05         3.793200e+04                      143927.000   \n",
       "4    0.000000e+00         8.207420e+05                      113704.000   \n",
       "..            ...                  ...                             ...   \n",
       "175  2.452908e+05         8.515031e+04                      216172.750   \n",
       "176  3.098750e+03         1.153239e+06                         423.500   \n",
       "177  0.000000e+00         0.000000e+00                           0.000   \n",
       "178  4.211619e+04         0.000000e+00                           0.000   \n",
       "179  2.499665e+06         7.537971e+06                     4255055.875   \n",
       "\n",
       "            Total  Unnamed: 10  \n",
       "0    4.314787e+06          NaN  \n",
       "1    5.722450e+05          NaN  \n",
       "2    4.819900e+05          NaN  \n",
       "3    8.962960e+05          NaN  \n",
       "4    1.311394e+06          NaN  \n",
       "..            ...          ...  \n",
       "175  8.911122e+05          NaN  \n",
       "176  2.167223e+06          NaN  \n",
       "177  3.252812e+03          NaN  \n",
       "178  4.548419e+04          NaN  \n",
       "179  2.105729e+07          NaN  \n",
       "\n",
       "[180 rows x 11 columns]"
      ],
      "text/html": "<div>\n<style scoped>\n    .dataframe tbody tr th:only-of-type {\n        vertical-align: middle;\n    }\n\n    .dataframe tbody tr th {\n        vertical-align: top;\n    }\n\n    .dataframe thead th {\n        text-align: right;\n    }\n</style>\n<table border=\"1\" class=\"dataframe\">\n  <thead>\n    <tr style=\"text-align: right;\">\n      <th></th>\n      <th>Año</th>\n      <th>Comunidades Autónomas</th>\n      <th>Reciclado procedente de recogida separada</th>\n      <th>Materiales recuperados-TMB mezclados</th>\n      <th>Compostado/Digestion anaerobia de FORS</th>\n      <th>Compostado/Digestión anaerobia</th>\n      <th>Incinerado</th>\n      <th>Vertido de rechazos</th>\n      <th>Vertido sin tratamiento previo</th>\n      <th>Total</th>\n      <th>Unnamed: 10</th>\n    </tr>\n  </thead>\n  <tbody>\n    <tr>\n      <th>0</th>\n      <td>2018</td>\n      <td>Andalucía</td>\n      <td>4.128180e+05</td>\n      <td>166217.000</td>\n      <td>45572.0000</td>\n      <td>6.857340e+05</td>\n      <td>0.000000e+00</td>\n      <td>2.404796e+06</td>\n      <td>599650.000</td>\n      <td>4.314787e+06</td>\n      <td>NaN</td>\n    </tr>\n    <tr>\n      <th>1</th>\n      <td>2018</td>\n      <td>Aragón</td>\n      <td>8.241800e+04</td>\n      <td>10209.000</td>\n      <td>212000.0000</td>\n      <td>7.983400e+04</td>\n      <td>0.000000e+00</td>\n      <td>1.728310e+05</td>\n      <td>226741.000</td>\n      <td>5.722450e+05</td>\n      <td>NaN</td>\n    </tr>\n    <tr>\n      <th>2</th>\n      <td>2018</td>\n      <td>Principado de Asturias</td>\n      <td>8.372800e+04</td>\n      <td>0.000</td>\n      <td>2481.0000</td>\n      <td>0.000000e+00</td>\n      <td>0.000000e+00</td>\n      <td>4.908000e+03</td>\n      <td>390873.000</td>\n      <td>4.819900e+05</td>\n      <td>NaN</td>\n    </tr>\n    <tr>\n      <th>3</th>\n      <td>2018</td>\n      <td>ILLES BALEARS</td>\n      <td>1.531490e+05</td>\n      <td>1938.000</td>\n      <td>36774.0000</td>\n      <td>1.669000e+04</td>\n      <td>5.058860e+05</td>\n      <td>3.793200e+04</td>\n      <td>143927.000</td>\n      <td>8.962960e+05</td>\n      <td>NaN</td>\n    </tr>\n    <tr>\n      <th>4</th>\n      <td>2018</td>\n      <td>Canarias</td>\n      <td>1.401740e+05</td>\n      <td>58936.000</td>\n      <td>1248.0000</td>\n      <td>1.765900e+05</td>\n      <td>0.000000e+00</td>\n      <td>8.207420e+05</td>\n      <td>113704.000</td>\n      <td>1.311394e+06</td>\n      <td>NaN</td>\n    </tr>\n    <tr>\n      <th>...</th>\n      <td>...</td>\n      <td>...</td>\n      <td>...</td>\n      <td>...</td>\n      <td>...</td>\n      <td>...</td>\n      <td>...</td>\n      <td>...</td>\n      <td>...</td>\n      <td>...</td>\n      <td>...</td>\n    </tr>\n    <tr>\n      <th>175</th>\n      <td>2010</td>\n      <td>País Vasco</td>\n      <td>2.808448e+05</td>\n      <td>18907.125</td>\n      <td>8877.3750</td>\n      <td>3.586912e+04</td>\n      <td>2.452908e+05</td>\n      <td>8.515031e+04</td>\n      <td>216172.750</td>\n      <td>8.911122e+05</td>\n      <td>NaN</td>\n    </tr>\n    <tr>\n      <th>176</th>\n      <td>2010</td>\n      <td>Comunitat Valenciana</td>\n      <td>2.604824e+05</td>\n      <td>110349.500</td>\n      <td>0.0000</td>\n      <td>6.396301e+05</td>\n      <td>3.098750e+03</td>\n      <td>1.153239e+06</td>\n      <td>423.500</td>\n      <td>2.167223e+06</td>\n      <td>NaN</td>\n    </tr>\n    <tr>\n      <th>177</th>\n      <td>2010</td>\n      <td>Ceuta</td>\n      <td>3.252812e+03</td>\n      <td>0.000</td>\n      <td>0.0000</td>\n      <td>0.000000e+00</td>\n      <td>0.000000e+00</td>\n      <td>0.000000e+00</td>\n      <td>0.000</td>\n      <td>3.252812e+03</td>\n      <td>NaN</td>\n    </tr>\n    <tr>\n      <th>178</th>\n      <td>2010</td>\n      <td>Melilla</td>\n      <td>3.368000e+03</td>\n      <td>0.000</td>\n      <td>0.0000</td>\n      <td>0.000000e+00</td>\n      <td>4.211619e+04</td>\n      <td>0.000000e+00</td>\n      <td>0.000</td>\n      <td>4.548419e+04</td>\n      <td>NaN</td>\n    </tr>\n    <tr>\n      <th>179</th>\n      <td>2010</td>\n      <td>Total nacional</td>\n      <td>2.998739e+06</td>\n      <td>619189.750</td>\n      <td>495449.6875</td>\n      <td>2.651220e+06</td>\n      <td>2.499665e+06</td>\n      <td>7.537971e+06</td>\n      <td>4255055.875</td>\n      <td>2.105729e+07</td>\n      <td>NaN</td>\n    </tr>\n  </tbody>\n</table>\n<p>180 rows × 11 columns</p>\n</div>"
     },
     "metadata": {},
     "execution_count": 17
    }
   ],
   "source": [
    "gestion"
   ]
  },
  {
   "cell_type": "code",
   "execution_count": 77,
   "metadata": {},
   "outputs": [],
   "source": [
    "gestion.rename(columns={'Comunidades Autónomas': 'Comunidad Autónoma'}, inplace=True)"
   ]
  },
  {
   "cell_type": "code",
   "execution_count": 79,
   "metadata": {},
   "outputs": [],
   "source": [
    "#CHANGE TO CAPITALIZE ALL the column CCAA STR\n",
    "gestion['Comunidad Autónoma'] = gestion['Comunidad Autónoma'].str.upper()"
   ]
  },
  {
   "cell_type": "code",
   "execution_count": 81,
   "metadata": {},
   "outputs": [],
   "source": [
    "## GUARDAMOS LA BASE DE DATOS\n",
    "\n",
    "gestion.to_csv('gestion_ccaa_clean.csv', index=False)"
   ]
  },
  {
   "cell_type": "code",
   "execution_count": null,
   "metadata": {},
   "outputs": [],
   "source": []
  }
 ]
}