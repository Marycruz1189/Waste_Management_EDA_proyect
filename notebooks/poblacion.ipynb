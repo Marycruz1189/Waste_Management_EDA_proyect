{
 "metadata": {
  "language_info": {
   "codemirror_mode": {
    "name": "ipython",
    "version": 3
   },
   "file_extension": ".py",
   "mimetype": "text/x-python",
   "name": "python",
   "nbconvert_exporter": "python",
   "pygments_lexer": "ipython3",
   "version": "3.7.4"
  },
  "orig_nbformat": 2,
  "kernelspec": {
   "name": "python374jvsc74a57bd0a9b83ec4160fc914f5169c2fc0bc9ab1c02e189a457abfa966969b692f6336e9",
   "display_name": "Python 3.7.4 64-bit"
  },
  "metadata": {
   "interpreter": {
    "hash": "a9b83ec4160fc914f5169c2fc0bc9ab1c02e189a457abfa966969b692f6336e9"
   }
  }
 },
 "nbformat": 4,
 "nbformat_minor": 2,
 "cells": [
  {
   "source": [
    "## POBLACION"
   ],
   "cell_type": "markdown",
   "metadata": {}
  },
  {
   "cell_type": "code",
   "execution_count": 3,
   "metadata": {},
   "outputs": [],
   "source": [
    "import pandas as pd\n",
    "import numpy as np"
   ]
  },
  {
   "cell_type": "code",
   "execution_count": 20,
   "metadata": {},
   "outputs": [
    {
     "output_type": "execute_result",
     "data": {
      "text/plain": [
       "            Comunidad Autónoma      2018      2017      2016      2015  \\\n",
       "0                    ANDALUCÍA   8384408   8379820   8388107   8399043   \n",
       "1                       ARAGÓN   1308728   1308750   1308563   1317847   \n",
       "2       PRINCIPADO DE ASTURIAS   1028244   1034960   1042608   1051229   \n",
       "3               ILLES BALEARS    1128908   1115999   1107220   1104479   \n",
       "4                     CANARIAS   2127685   2108121   2101924   2100306   \n",
       "5                    CANTABRIA    580229    580295    582206    585179   \n",
       "6              CASTILLA Y LEÓN   2409164   2425801   2447519   2472052   \n",
       "7         CASTILLA - LA MANCHA   2026807   2031479   2041631   2059191   \n",
       "8                     CATALUÑA   7600065   7555830   7522596   7508106   \n",
       "9         COMUNITAT VALENCIANA   4963703   4941509   4959968   4980689   \n",
       "10                 EXTREMADURA   1072863   1079920   1087778   1092997   \n",
       "11                     GALICIA   2701743   2708339   2718525   2732347   \n",
       "12         COMUNIDAD DE MADRID   6578079   6507184   6466996   6436996   \n",
       "13            REGIÓN DE MURCIA   1478509   1470273   1464847   1467288   \n",
       "14  COMUNIDAD FORAL DE NAVARRA    647554    643234    640647    640476   \n",
       "15                  PAÍS VASCO   2199088   2194158   2189534   2189257   \n",
       "16                   LA RIOJA     315675    315381    315794    317053   \n",
       "17                       CEUTA     85144     84959     84519     84263   \n",
       "18                     MELILLA     86384     86120     86026     85584   \n",
       "19              Total Nacional  46722980  46572132  46557008  46624382   \n",
       "\n",
       "        2014      2013      2012      2011      2010  ...      2005      2004  \\\n",
       "0    8402305   8440300   8449985   8424102   8370975  ...   7849799   7687518   \n",
       "1    1325385   1347150   1349467   1346293   1347095  ...   1269027   1249584   \n",
       "2    1061756   1068165   1077360   1081487   1084341  ...   1076635   1073761   \n",
       "3    1103442   1111674   1119439   1113114   1106049  ...    983131    955045   \n",
       "4    2104815   2118679   2118344   2126769   2118519  ...   1968280   1915540   \n",
       "5     588656    591888    593861    593121    592250  ...    562309    554784   \n",
       "6    2494790   2519875   2546078   2558463   2559515  ...   2510849   2493918   \n",
       "7    2078611   2100998   2121888   2115334   2098373  ...   1894667   1848881   \n",
       "8    7518903   7553650   7570908   7539618   7512381  ...   6995206   6813319   \n",
       "9    5004844   5113815   5129266   5117190   5111706  ...   4692449   4543304   \n",
       "10   1099632   1104004   1108130   1109367   1107220  ...   1083879   1075286   \n",
       "11   2748695   2765940   2781498   2795422   2797653  ...   2762198   2750985   \n",
       "12   6454440   6495551   6498560   6489680   6458684  ...   5964143   5804829   \n",
       "13   1466818   1472049   1474449   1470069   1461979  ...   1335792   1294694   \n",
       "14    640790    644477    644566    642051    636924  ...    593472    584734   \n",
       "15   2188985   2191682   2193093   2184606   2178339  ...   2124846   2115279   \n",
       "16    319002    322027    323609    322955    322415  ...    301084    293553   \n",
       "17     84963     84180     84018     82376     80579  ...     75276     74654   \n",
       "18     84509     83679     80802     78476     76034  ...     65488     68016   \n",
       "19  46771341  47129783  47265321  47190493  47021031  ...  44108530  43197684   \n",
       "\n",
       "        2003      2002      2001      2000      1999      1998  1997      1996  \n",
       "0    7606848   7478432   7403968   7340052   7305117   7236459         7234873  \n",
       "1    1230090   1217514   1199753   1189909   1186849   1183234         1187546  \n",
       "2    1075381   1073971   1075329   1076567   1084314   1081834         1087885  \n",
       "3     947361    916968    878627    845630    821820    796483          760379  \n",
       "4    1894868   1843755   1781366   1716276   1672689   1630015         1606534  \n",
       "5     549690    542275    537606    531159    528478    527137          527437  \n",
       "6    2487646   2480369   2479425   2479118   2488062   2484603         2508496  \n",
       "7    1815781   1782038   1755053   1734261   1726199   1716152         1712529  \n",
       "8    6704146   6506440   6361365   6261999   6207533   6147610         6090040  \n",
       "9    4470885   4326708   4202608   4120729   4066474   4023441         4009329  \n",
       "10   1073904   1073050   1073381   1069420   1073574   1069419         1070244  \n",
       "11   2751094   2737370   2732926   2731900   2730337   2724544         2742622  \n",
       "12   5718942   5527152   5372433   5205408   5145325   5091336         5022289  \n",
       "13   1269230   1226993   1190378   1149328   1131128   1115068         1097249  \n",
       "14    578210    569628    556263    543757    538009    530819          520574  \n",
       "15   2112204   2108281   2101478   2098596   2100441   2098628         2098055  \n",
       "16    287390    281614    270400    264178    265178    263644          264941  \n",
       "17     74931     76152     75694     75241     73704     72117           68796  \n",
       "18     68463     69184     68789     66263     56929     60108           59576  \n",
       "19  42717064  41837894  41116842  40499791  40202160  39852651     0  39669394  \n",
       "\n",
       "[20 rows x 24 columns]"
      ],
      "text/html": "<div>\n<style scoped>\n    .dataframe tbody tr th:only-of-type {\n        vertical-align: middle;\n    }\n\n    .dataframe tbody tr th {\n        vertical-align: top;\n    }\n\n    .dataframe thead th {\n        text-align: right;\n    }\n</style>\n<table border=\"1\" class=\"dataframe\">\n  <thead>\n    <tr style=\"text-align: right;\">\n      <th></th>\n      <th>Comunidad Autónoma</th>\n      <th>2018</th>\n      <th>2017</th>\n      <th>2016</th>\n      <th>2015</th>\n      <th>2014</th>\n      <th>2013</th>\n      <th>2012</th>\n      <th>2011</th>\n      <th>2010</th>\n      <th>...</th>\n      <th>2005</th>\n      <th>2004</th>\n      <th>2003</th>\n      <th>2002</th>\n      <th>2001</th>\n      <th>2000</th>\n      <th>1999</th>\n      <th>1998</th>\n      <th>1997</th>\n      <th>1996</th>\n    </tr>\n  </thead>\n  <tbody>\n    <tr>\n      <th>0</th>\n      <td>ANDALUCÍA</td>\n      <td>8384408</td>\n      <td>8379820</td>\n      <td>8388107</td>\n      <td>8399043</td>\n      <td>8402305</td>\n      <td>8440300</td>\n      <td>8449985</td>\n      <td>8424102</td>\n      <td>8370975</td>\n      <td>...</td>\n      <td>7849799</td>\n      <td>7687518</td>\n      <td>7606848</td>\n      <td>7478432</td>\n      <td>7403968</td>\n      <td>7340052</td>\n      <td>7305117</td>\n      <td>7236459</td>\n      <td></td>\n      <td>7234873</td>\n    </tr>\n    <tr>\n      <th>1</th>\n      <td>ARAGÓN</td>\n      <td>1308728</td>\n      <td>1308750</td>\n      <td>1308563</td>\n      <td>1317847</td>\n      <td>1325385</td>\n      <td>1347150</td>\n      <td>1349467</td>\n      <td>1346293</td>\n      <td>1347095</td>\n      <td>...</td>\n      <td>1269027</td>\n      <td>1249584</td>\n      <td>1230090</td>\n      <td>1217514</td>\n      <td>1199753</td>\n      <td>1189909</td>\n      <td>1186849</td>\n      <td>1183234</td>\n      <td></td>\n      <td>1187546</td>\n    </tr>\n    <tr>\n      <th>2</th>\n      <td>PRINCIPADO DE ASTURIAS</td>\n      <td>1028244</td>\n      <td>1034960</td>\n      <td>1042608</td>\n      <td>1051229</td>\n      <td>1061756</td>\n      <td>1068165</td>\n      <td>1077360</td>\n      <td>1081487</td>\n      <td>1084341</td>\n      <td>...</td>\n      <td>1076635</td>\n      <td>1073761</td>\n      <td>1075381</td>\n      <td>1073971</td>\n      <td>1075329</td>\n      <td>1076567</td>\n      <td>1084314</td>\n      <td>1081834</td>\n      <td></td>\n      <td>1087885</td>\n    </tr>\n    <tr>\n      <th>3</th>\n      <td>ILLES BALEARS</td>\n      <td>1128908</td>\n      <td>1115999</td>\n      <td>1107220</td>\n      <td>1104479</td>\n      <td>1103442</td>\n      <td>1111674</td>\n      <td>1119439</td>\n      <td>1113114</td>\n      <td>1106049</td>\n      <td>...</td>\n      <td>983131</td>\n      <td>955045</td>\n      <td>947361</td>\n      <td>916968</td>\n      <td>878627</td>\n      <td>845630</td>\n      <td>821820</td>\n      <td>796483</td>\n      <td></td>\n      <td>760379</td>\n    </tr>\n    <tr>\n      <th>4</th>\n      <td>CANARIAS</td>\n      <td>2127685</td>\n      <td>2108121</td>\n      <td>2101924</td>\n      <td>2100306</td>\n      <td>2104815</td>\n      <td>2118679</td>\n      <td>2118344</td>\n      <td>2126769</td>\n      <td>2118519</td>\n      <td>...</td>\n      <td>1968280</td>\n      <td>1915540</td>\n      <td>1894868</td>\n      <td>1843755</td>\n      <td>1781366</td>\n      <td>1716276</td>\n      <td>1672689</td>\n      <td>1630015</td>\n      <td></td>\n      <td>1606534</td>\n    </tr>\n    <tr>\n      <th>5</th>\n      <td>CANTABRIA</td>\n      <td>580229</td>\n      <td>580295</td>\n      <td>582206</td>\n      <td>585179</td>\n      <td>588656</td>\n      <td>591888</td>\n      <td>593861</td>\n      <td>593121</td>\n      <td>592250</td>\n      <td>...</td>\n      <td>562309</td>\n      <td>554784</td>\n      <td>549690</td>\n      <td>542275</td>\n      <td>537606</td>\n      <td>531159</td>\n      <td>528478</td>\n      <td>527137</td>\n      <td></td>\n      <td>527437</td>\n    </tr>\n    <tr>\n      <th>6</th>\n      <td>CASTILLA Y LEÓN</td>\n      <td>2409164</td>\n      <td>2425801</td>\n      <td>2447519</td>\n      <td>2472052</td>\n      <td>2494790</td>\n      <td>2519875</td>\n      <td>2546078</td>\n      <td>2558463</td>\n      <td>2559515</td>\n      <td>...</td>\n      <td>2510849</td>\n      <td>2493918</td>\n      <td>2487646</td>\n      <td>2480369</td>\n      <td>2479425</td>\n      <td>2479118</td>\n      <td>2488062</td>\n      <td>2484603</td>\n      <td></td>\n      <td>2508496</td>\n    </tr>\n    <tr>\n      <th>7</th>\n      <td>CASTILLA - LA MANCHA</td>\n      <td>2026807</td>\n      <td>2031479</td>\n      <td>2041631</td>\n      <td>2059191</td>\n      <td>2078611</td>\n      <td>2100998</td>\n      <td>2121888</td>\n      <td>2115334</td>\n      <td>2098373</td>\n      <td>...</td>\n      <td>1894667</td>\n      <td>1848881</td>\n      <td>1815781</td>\n      <td>1782038</td>\n      <td>1755053</td>\n      <td>1734261</td>\n      <td>1726199</td>\n      <td>1716152</td>\n      <td></td>\n      <td>1712529</td>\n    </tr>\n    <tr>\n      <th>8</th>\n      <td>CATALUÑA</td>\n      <td>7600065</td>\n      <td>7555830</td>\n      <td>7522596</td>\n      <td>7508106</td>\n      <td>7518903</td>\n      <td>7553650</td>\n      <td>7570908</td>\n      <td>7539618</td>\n      <td>7512381</td>\n      <td>...</td>\n      <td>6995206</td>\n      <td>6813319</td>\n      <td>6704146</td>\n      <td>6506440</td>\n      <td>6361365</td>\n      <td>6261999</td>\n      <td>6207533</td>\n      <td>6147610</td>\n      <td></td>\n      <td>6090040</td>\n    </tr>\n    <tr>\n      <th>9</th>\n      <td>COMUNITAT VALENCIANA</td>\n      <td>4963703</td>\n      <td>4941509</td>\n      <td>4959968</td>\n      <td>4980689</td>\n      <td>5004844</td>\n      <td>5113815</td>\n      <td>5129266</td>\n      <td>5117190</td>\n      <td>5111706</td>\n      <td>...</td>\n      <td>4692449</td>\n      <td>4543304</td>\n      <td>4470885</td>\n      <td>4326708</td>\n      <td>4202608</td>\n      <td>4120729</td>\n      <td>4066474</td>\n      <td>4023441</td>\n      <td></td>\n      <td>4009329</td>\n    </tr>\n    <tr>\n      <th>10</th>\n      <td>EXTREMADURA</td>\n      <td>1072863</td>\n      <td>1079920</td>\n      <td>1087778</td>\n      <td>1092997</td>\n      <td>1099632</td>\n      <td>1104004</td>\n      <td>1108130</td>\n      <td>1109367</td>\n      <td>1107220</td>\n      <td>...</td>\n      <td>1083879</td>\n      <td>1075286</td>\n      <td>1073904</td>\n      <td>1073050</td>\n      <td>1073381</td>\n      <td>1069420</td>\n      <td>1073574</td>\n      <td>1069419</td>\n      <td></td>\n      <td>1070244</td>\n    </tr>\n    <tr>\n      <th>11</th>\n      <td>GALICIA</td>\n      <td>2701743</td>\n      <td>2708339</td>\n      <td>2718525</td>\n      <td>2732347</td>\n      <td>2748695</td>\n      <td>2765940</td>\n      <td>2781498</td>\n      <td>2795422</td>\n      <td>2797653</td>\n      <td>...</td>\n      <td>2762198</td>\n      <td>2750985</td>\n      <td>2751094</td>\n      <td>2737370</td>\n      <td>2732926</td>\n      <td>2731900</td>\n      <td>2730337</td>\n      <td>2724544</td>\n      <td></td>\n      <td>2742622</td>\n    </tr>\n    <tr>\n      <th>12</th>\n      <td>COMUNIDAD DE MADRID</td>\n      <td>6578079</td>\n      <td>6507184</td>\n      <td>6466996</td>\n      <td>6436996</td>\n      <td>6454440</td>\n      <td>6495551</td>\n      <td>6498560</td>\n      <td>6489680</td>\n      <td>6458684</td>\n      <td>...</td>\n      <td>5964143</td>\n      <td>5804829</td>\n      <td>5718942</td>\n      <td>5527152</td>\n      <td>5372433</td>\n      <td>5205408</td>\n      <td>5145325</td>\n      <td>5091336</td>\n      <td></td>\n      <td>5022289</td>\n    </tr>\n    <tr>\n      <th>13</th>\n      <td>REGIÓN DE MURCIA</td>\n      <td>1478509</td>\n      <td>1470273</td>\n      <td>1464847</td>\n      <td>1467288</td>\n      <td>1466818</td>\n      <td>1472049</td>\n      <td>1474449</td>\n      <td>1470069</td>\n      <td>1461979</td>\n      <td>...</td>\n      <td>1335792</td>\n      <td>1294694</td>\n      <td>1269230</td>\n      <td>1226993</td>\n      <td>1190378</td>\n      <td>1149328</td>\n      <td>1131128</td>\n      <td>1115068</td>\n      <td></td>\n      <td>1097249</td>\n    </tr>\n    <tr>\n      <th>14</th>\n      <td>COMUNIDAD FORAL DE NAVARRA</td>\n      <td>647554</td>\n      <td>643234</td>\n      <td>640647</td>\n      <td>640476</td>\n      <td>640790</td>\n      <td>644477</td>\n      <td>644566</td>\n      <td>642051</td>\n      <td>636924</td>\n      <td>...</td>\n      <td>593472</td>\n      <td>584734</td>\n      <td>578210</td>\n      <td>569628</td>\n      <td>556263</td>\n      <td>543757</td>\n      <td>538009</td>\n      <td>530819</td>\n      <td></td>\n      <td>520574</td>\n    </tr>\n    <tr>\n      <th>15</th>\n      <td>PAÍS VASCO</td>\n      <td>2199088</td>\n      <td>2194158</td>\n      <td>2189534</td>\n      <td>2189257</td>\n      <td>2188985</td>\n      <td>2191682</td>\n      <td>2193093</td>\n      <td>2184606</td>\n      <td>2178339</td>\n      <td>...</td>\n      <td>2124846</td>\n      <td>2115279</td>\n      <td>2112204</td>\n      <td>2108281</td>\n      <td>2101478</td>\n      <td>2098596</td>\n      <td>2100441</td>\n      <td>2098628</td>\n      <td></td>\n      <td>2098055</td>\n    </tr>\n    <tr>\n      <th>16</th>\n      <td>LA RIOJA</td>\n      <td>315675</td>\n      <td>315381</td>\n      <td>315794</td>\n      <td>317053</td>\n      <td>319002</td>\n      <td>322027</td>\n      <td>323609</td>\n      <td>322955</td>\n      <td>322415</td>\n      <td>...</td>\n      <td>301084</td>\n      <td>293553</td>\n      <td>287390</td>\n      <td>281614</td>\n      <td>270400</td>\n      <td>264178</td>\n      <td>265178</td>\n      <td>263644</td>\n      <td></td>\n      <td>264941</td>\n    </tr>\n    <tr>\n      <th>17</th>\n      <td>CEUTA</td>\n      <td>85144</td>\n      <td>84959</td>\n      <td>84519</td>\n      <td>84263</td>\n      <td>84963</td>\n      <td>84180</td>\n      <td>84018</td>\n      <td>82376</td>\n      <td>80579</td>\n      <td>...</td>\n      <td>75276</td>\n      <td>74654</td>\n      <td>74931</td>\n      <td>76152</td>\n      <td>75694</td>\n      <td>75241</td>\n      <td>73704</td>\n      <td>72117</td>\n      <td></td>\n      <td>68796</td>\n    </tr>\n    <tr>\n      <th>18</th>\n      <td>MELILLA</td>\n      <td>86384</td>\n      <td>86120</td>\n      <td>86026</td>\n      <td>85584</td>\n      <td>84509</td>\n      <td>83679</td>\n      <td>80802</td>\n      <td>78476</td>\n      <td>76034</td>\n      <td>...</td>\n      <td>65488</td>\n      <td>68016</td>\n      <td>68463</td>\n      <td>69184</td>\n      <td>68789</td>\n      <td>66263</td>\n      <td>56929</td>\n      <td>60108</td>\n      <td></td>\n      <td>59576</td>\n    </tr>\n    <tr>\n      <th>19</th>\n      <td>Total Nacional</td>\n      <td>46722980</td>\n      <td>46572132</td>\n      <td>46557008</td>\n      <td>46624382</td>\n      <td>46771341</td>\n      <td>47129783</td>\n      <td>47265321</td>\n      <td>47190493</td>\n      <td>47021031</td>\n      <td>...</td>\n      <td>44108530</td>\n      <td>43197684</td>\n      <td>42717064</td>\n      <td>41837894</td>\n      <td>41116842</td>\n      <td>40499791</td>\n      <td>40202160</td>\n      <td>39852651</td>\n      <td>0</td>\n      <td>39669394</td>\n    </tr>\n  </tbody>\n</table>\n<p>20 rows × 24 columns</p>\n</div>"
     },
     "metadata": {},
     "execution_count": 20
    }
   ],
   "source": [
    "poblacion = pd.read_excel(\"data/poblacion.xls\", header=3)\n",
    "poblacion"
   ]
  },
  {
   "cell_type": "code",
   "execution_count": 21,
   "metadata": {},
   "outputs": [
    {
     "output_type": "execute_result",
     "data": {
      "text/plain": [
       "            Comunidad Autónoma      2018      2017      2016      2015  \\\n",
       "0                    ANDALUCÍA   8384408   8379820   8388107   8399043   \n",
       "1                       ARAGÓN   1308728   1308750   1308563   1317847   \n",
       "2       PRINCIPADO DE ASTURIAS   1028244   1034960   1042608   1051229   \n",
       "3               ILLES BALEARS    1128908   1115999   1107220   1104479   \n",
       "4                     CANARIAS   2127685   2108121   2101924   2100306   \n",
       "5                    CANTABRIA    580229    580295    582206    585179   \n",
       "6              CASTILLA Y LEÓN   2409164   2425801   2447519   2472052   \n",
       "7         CASTILLA - LA MANCHA   2026807   2031479   2041631   2059191   \n",
       "8                     CATALUÑA   7600065   7555830   7522596   7508106   \n",
       "9         COMUNITAT VALENCIANA   4963703   4941509   4959968   4980689   \n",
       "10                 EXTREMADURA   1072863   1079920   1087778   1092997   \n",
       "11                     GALICIA   2701743   2708339   2718525   2732347   \n",
       "12         COMUNIDAD DE MADRID   6578079   6507184   6466996   6436996   \n",
       "13            REGIÓN DE MURCIA   1478509   1470273   1464847   1467288   \n",
       "14  COMUNIDAD FORAL DE NAVARRA    647554    643234    640647    640476   \n",
       "15                  PAÍS VASCO   2199088   2194158   2189534   2189257   \n",
       "16                   LA RIOJA     315675    315381    315794    317053   \n",
       "17                       CEUTA     85144     84959     84519     84263   \n",
       "18                     MELILLA     86384     86120     86026     85584   \n",
       "19              Total Nacional  46722980  46572132  46557008  46624382   \n",
       "\n",
       "        2014      2013      2012      2011      2010  \n",
       "0    8402305   8440300   8449985   8424102   8370975  \n",
       "1    1325385   1347150   1349467   1346293   1347095  \n",
       "2    1061756   1068165   1077360   1081487   1084341  \n",
       "3    1103442   1111674   1119439   1113114   1106049  \n",
       "4    2104815   2118679   2118344   2126769   2118519  \n",
       "5     588656    591888    593861    593121    592250  \n",
       "6    2494790   2519875   2546078   2558463   2559515  \n",
       "7    2078611   2100998   2121888   2115334   2098373  \n",
       "8    7518903   7553650   7570908   7539618   7512381  \n",
       "9    5004844   5113815   5129266   5117190   5111706  \n",
       "10   1099632   1104004   1108130   1109367   1107220  \n",
       "11   2748695   2765940   2781498   2795422   2797653  \n",
       "12   6454440   6495551   6498560   6489680   6458684  \n",
       "13   1466818   1472049   1474449   1470069   1461979  \n",
       "14    640790    644477    644566    642051    636924  \n",
       "15   2188985   2191682   2193093   2184606   2178339  \n",
       "16    319002    322027    323609    322955    322415  \n",
       "17     84963     84180     84018     82376     80579  \n",
       "18     84509     83679     80802     78476     76034  \n",
       "19  46771341  47129783  47265321  47190493  47021031  "
      ],
      "text/html": "<div>\n<style scoped>\n    .dataframe tbody tr th:only-of-type {\n        vertical-align: middle;\n    }\n\n    .dataframe tbody tr th {\n        vertical-align: top;\n    }\n\n    .dataframe thead th {\n        text-align: right;\n    }\n</style>\n<table border=\"1\" class=\"dataframe\">\n  <thead>\n    <tr style=\"text-align: right;\">\n      <th></th>\n      <th>Comunidad Autónoma</th>\n      <th>2018</th>\n      <th>2017</th>\n      <th>2016</th>\n      <th>2015</th>\n      <th>2014</th>\n      <th>2013</th>\n      <th>2012</th>\n      <th>2011</th>\n      <th>2010</th>\n    </tr>\n  </thead>\n  <tbody>\n    <tr>\n      <th>0</th>\n      <td>ANDALUCÍA</td>\n      <td>8384408</td>\n      <td>8379820</td>\n      <td>8388107</td>\n      <td>8399043</td>\n      <td>8402305</td>\n      <td>8440300</td>\n      <td>8449985</td>\n      <td>8424102</td>\n      <td>8370975</td>\n    </tr>\n    <tr>\n      <th>1</th>\n      <td>ARAGÓN</td>\n      <td>1308728</td>\n      <td>1308750</td>\n      <td>1308563</td>\n      <td>1317847</td>\n      <td>1325385</td>\n      <td>1347150</td>\n      <td>1349467</td>\n      <td>1346293</td>\n      <td>1347095</td>\n    </tr>\n    <tr>\n      <th>2</th>\n      <td>PRINCIPADO DE ASTURIAS</td>\n      <td>1028244</td>\n      <td>1034960</td>\n      <td>1042608</td>\n      <td>1051229</td>\n      <td>1061756</td>\n      <td>1068165</td>\n      <td>1077360</td>\n      <td>1081487</td>\n      <td>1084341</td>\n    </tr>\n    <tr>\n      <th>3</th>\n      <td>ILLES BALEARS</td>\n      <td>1128908</td>\n      <td>1115999</td>\n      <td>1107220</td>\n      <td>1104479</td>\n      <td>1103442</td>\n      <td>1111674</td>\n      <td>1119439</td>\n      <td>1113114</td>\n      <td>1106049</td>\n    </tr>\n    <tr>\n      <th>4</th>\n      <td>CANARIAS</td>\n      <td>2127685</td>\n      <td>2108121</td>\n      <td>2101924</td>\n      <td>2100306</td>\n      <td>2104815</td>\n      <td>2118679</td>\n      <td>2118344</td>\n      <td>2126769</td>\n      <td>2118519</td>\n    </tr>\n    <tr>\n      <th>5</th>\n      <td>CANTABRIA</td>\n      <td>580229</td>\n      <td>580295</td>\n      <td>582206</td>\n      <td>585179</td>\n      <td>588656</td>\n      <td>591888</td>\n      <td>593861</td>\n      <td>593121</td>\n      <td>592250</td>\n    </tr>\n    <tr>\n      <th>6</th>\n      <td>CASTILLA Y LEÓN</td>\n      <td>2409164</td>\n      <td>2425801</td>\n      <td>2447519</td>\n      <td>2472052</td>\n      <td>2494790</td>\n      <td>2519875</td>\n      <td>2546078</td>\n      <td>2558463</td>\n      <td>2559515</td>\n    </tr>\n    <tr>\n      <th>7</th>\n      <td>CASTILLA - LA MANCHA</td>\n      <td>2026807</td>\n      <td>2031479</td>\n      <td>2041631</td>\n      <td>2059191</td>\n      <td>2078611</td>\n      <td>2100998</td>\n      <td>2121888</td>\n      <td>2115334</td>\n      <td>2098373</td>\n    </tr>\n    <tr>\n      <th>8</th>\n      <td>CATALUÑA</td>\n      <td>7600065</td>\n      <td>7555830</td>\n      <td>7522596</td>\n      <td>7508106</td>\n      <td>7518903</td>\n      <td>7553650</td>\n      <td>7570908</td>\n      <td>7539618</td>\n      <td>7512381</td>\n    </tr>\n    <tr>\n      <th>9</th>\n      <td>COMUNITAT VALENCIANA</td>\n      <td>4963703</td>\n      <td>4941509</td>\n      <td>4959968</td>\n      <td>4980689</td>\n      <td>5004844</td>\n      <td>5113815</td>\n      <td>5129266</td>\n      <td>5117190</td>\n      <td>5111706</td>\n    </tr>\n    <tr>\n      <th>10</th>\n      <td>EXTREMADURA</td>\n      <td>1072863</td>\n      <td>1079920</td>\n      <td>1087778</td>\n      <td>1092997</td>\n      <td>1099632</td>\n      <td>1104004</td>\n      <td>1108130</td>\n      <td>1109367</td>\n      <td>1107220</td>\n    </tr>\n    <tr>\n      <th>11</th>\n      <td>GALICIA</td>\n      <td>2701743</td>\n      <td>2708339</td>\n      <td>2718525</td>\n      <td>2732347</td>\n      <td>2748695</td>\n      <td>2765940</td>\n      <td>2781498</td>\n      <td>2795422</td>\n      <td>2797653</td>\n    </tr>\n    <tr>\n      <th>12</th>\n      <td>COMUNIDAD DE MADRID</td>\n      <td>6578079</td>\n      <td>6507184</td>\n      <td>6466996</td>\n      <td>6436996</td>\n      <td>6454440</td>\n      <td>6495551</td>\n      <td>6498560</td>\n      <td>6489680</td>\n      <td>6458684</td>\n    </tr>\n    <tr>\n      <th>13</th>\n      <td>REGIÓN DE MURCIA</td>\n      <td>1478509</td>\n      <td>1470273</td>\n      <td>1464847</td>\n      <td>1467288</td>\n      <td>1466818</td>\n      <td>1472049</td>\n      <td>1474449</td>\n      <td>1470069</td>\n      <td>1461979</td>\n    </tr>\n    <tr>\n      <th>14</th>\n      <td>COMUNIDAD FORAL DE NAVARRA</td>\n      <td>647554</td>\n      <td>643234</td>\n      <td>640647</td>\n      <td>640476</td>\n      <td>640790</td>\n      <td>644477</td>\n      <td>644566</td>\n      <td>642051</td>\n      <td>636924</td>\n    </tr>\n    <tr>\n      <th>15</th>\n      <td>PAÍS VASCO</td>\n      <td>2199088</td>\n      <td>2194158</td>\n      <td>2189534</td>\n      <td>2189257</td>\n      <td>2188985</td>\n      <td>2191682</td>\n      <td>2193093</td>\n      <td>2184606</td>\n      <td>2178339</td>\n    </tr>\n    <tr>\n      <th>16</th>\n      <td>LA RIOJA</td>\n      <td>315675</td>\n      <td>315381</td>\n      <td>315794</td>\n      <td>317053</td>\n      <td>319002</td>\n      <td>322027</td>\n      <td>323609</td>\n      <td>322955</td>\n      <td>322415</td>\n    </tr>\n    <tr>\n      <th>17</th>\n      <td>CEUTA</td>\n      <td>85144</td>\n      <td>84959</td>\n      <td>84519</td>\n      <td>84263</td>\n      <td>84963</td>\n      <td>84180</td>\n      <td>84018</td>\n      <td>82376</td>\n      <td>80579</td>\n    </tr>\n    <tr>\n      <th>18</th>\n      <td>MELILLA</td>\n      <td>86384</td>\n      <td>86120</td>\n      <td>86026</td>\n      <td>85584</td>\n      <td>84509</td>\n      <td>83679</td>\n      <td>80802</td>\n      <td>78476</td>\n      <td>76034</td>\n    </tr>\n    <tr>\n      <th>19</th>\n      <td>Total Nacional</td>\n      <td>46722980</td>\n      <td>46572132</td>\n      <td>46557008</td>\n      <td>46624382</td>\n      <td>46771341</td>\n      <td>47129783</td>\n      <td>47265321</td>\n      <td>47190493</td>\n      <td>47021031</td>\n    </tr>\n  </tbody>\n</table>\n</div>"
     },
     "metadata": {},
     "execution_count": 21
    }
   ],
   "source": [
    "## Elimino algunas columnas que no necesito. Hasta el 2010\n",
    "to_drop  = ['2009', '2008', '2007', '2006', '2005', '2004', '2003', '2002', '2001', '2000', '1999', '1998', '1997', '1996']\n",
    "poblacion.drop(to_drop, inplace = True , axis= 1 )\n",
    "\n",
    "poblacion"
   ]
  },
  {
   "cell_type": "code",
   "execution_count": 23,
   "metadata": {},
   "outputs": [],
   "source": [
    "#Cambia los años a columnas \n",
    "\n",
    "melt_poblacion = pd.melt(poblacion, id_vars=['Comunidad Autónoma'], value_vars=['2010', '2011', '2012', '2013', '2014', '2015', '2016', '2017', 2018],var_name='Año', value_name='Poblacion').sort_values('Comunidad Autónoma')"
   ]
  },
  {
   "cell_type": "code",
   "execution_count": 24,
   "metadata": {},
   "outputs": [
    {
     "output_type": "execute_result",
     "data": {
      "text/plain": [
       "    Comunidad Autónoma   Año  Poblacion\n",
       "0            ANDALUCÍA  2010    8370975\n",
       "160          ANDALUCÍA  2018    8384408\n",
       "120          ANDALUCÍA  2016    8388107\n",
       "80           ANDALUCÍA  2014    8402305\n",
       "20           ANDALUCÍA  2011    8424102\n",
       "..                 ...   ...        ...\n",
       "159     Total Nacional  2017   46572132\n",
       "139     Total Nacional  2016   46557008\n",
       "39      Total Nacional  2011   47190493\n",
       "79      Total Nacional  2013   47129783\n",
       "179     Total Nacional  2018   46722980\n",
       "\n",
       "[180 rows x 3 columns]"
      ],
      "text/html": "<div>\n<style scoped>\n    .dataframe tbody tr th:only-of-type {\n        vertical-align: middle;\n    }\n\n    .dataframe tbody tr th {\n        vertical-align: top;\n    }\n\n    .dataframe thead th {\n        text-align: right;\n    }\n</style>\n<table border=\"1\" class=\"dataframe\">\n  <thead>\n    <tr style=\"text-align: right;\">\n      <th></th>\n      <th>Comunidad Autónoma</th>\n      <th>Año</th>\n      <th>Poblacion</th>\n    </tr>\n  </thead>\n  <tbody>\n    <tr>\n      <th>0</th>\n      <td>ANDALUCÍA</td>\n      <td>2010</td>\n      <td>8370975</td>\n    </tr>\n    <tr>\n      <th>160</th>\n      <td>ANDALUCÍA</td>\n      <td>2018</td>\n      <td>8384408</td>\n    </tr>\n    <tr>\n      <th>120</th>\n      <td>ANDALUCÍA</td>\n      <td>2016</td>\n      <td>8388107</td>\n    </tr>\n    <tr>\n      <th>80</th>\n      <td>ANDALUCÍA</td>\n      <td>2014</td>\n      <td>8402305</td>\n    </tr>\n    <tr>\n      <th>20</th>\n      <td>ANDALUCÍA</td>\n      <td>2011</td>\n      <td>8424102</td>\n    </tr>\n    <tr>\n      <th>...</th>\n      <td>...</td>\n      <td>...</td>\n      <td>...</td>\n    </tr>\n    <tr>\n      <th>159</th>\n      <td>Total Nacional</td>\n      <td>2017</td>\n      <td>46572132</td>\n    </tr>\n    <tr>\n      <th>139</th>\n      <td>Total Nacional</td>\n      <td>2016</td>\n      <td>46557008</td>\n    </tr>\n    <tr>\n      <th>39</th>\n      <td>Total Nacional</td>\n      <td>2011</td>\n      <td>47190493</td>\n    </tr>\n    <tr>\n      <th>79</th>\n      <td>Total Nacional</td>\n      <td>2013</td>\n      <td>47129783</td>\n    </tr>\n    <tr>\n      <th>179</th>\n      <td>Total Nacional</td>\n      <td>2018</td>\n      <td>46722980</td>\n    </tr>\n  </tbody>\n</table>\n<p>180 rows × 3 columns</p>\n</div>"
     },
     "metadata": {},
     "execution_count": 24
    }
   ],
   "source": [
    "melt_poblacion"
   ]
  },
  {
   "cell_type": "code",
   "execution_count": 25,
   "metadata": {},
   "outputs": [],
   "source": [
    "#CHANGE TO CAPITALIZE ALL the column CCAA STR\n",
    "melt_poblacion['Comunidad Autónoma'] = melt_poblacion['Comunidad Autónoma'].str.upper()"
   ]
  },
  {
   "cell_type": "code",
   "execution_count": 26,
   "metadata": {},
   "outputs": [],
   "source": [
    "#reiniciar el index\n",
    "poblacion_clean = melt_poblacion.reset_index(drop=True)"
   ]
  },
  {
   "cell_type": "code",
   "execution_count": 27,
   "metadata": {},
   "outputs": [],
   "source": [
    "## GUARDAMOS LA BASE DE DATOS\n",
    "\n",
    "poblacion_clean.to_csv('poblacion_clean.csv', index=False)"
   ]
  },
  {
   "cell_type": "code",
   "execution_count": 28,
   "metadata": {},
   "outputs": [
    {
     "output_type": "execute_result",
     "data": {
      "text/plain": [
       "    Comunidad Autónoma   Año  Poblacion\n",
       "0            ANDALUCÍA  2010    8370975\n",
       "1            ANDALUCÍA  2018    8384408\n",
       "2            ANDALUCÍA  2016    8388107\n",
       "3            ANDALUCÍA  2014    8402305\n",
       "4            ANDALUCÍA  2011    8424102\n",
       "..                 ...   ...        ...\n",
       "175     TOTAL NACIONAL  2017   46572132\n",
       "176     TOTAL NACIONAL  2016   46557008\n",
       "177     TOTAL NACIONAL  2011   47190493\n",
       "178     TOTAL NACIONAL  2013   47129783\n",
       "179     TOTAL NACIONAL  2018   46722980\n",
       "\n",
       "[180 rows x 3 columns]"
      ],
      "text/html": "<div>\n<style scoped>\n    .dataframe tbody tr th:only-of-type {\n        vertical-align: middle;\n    }\n\n    .dataframe tbody tr th {\n        vertical-align: top;\n    }\n\n    .dataframe thead th {\n        text-align: right;\n    }\n</style>\n<table border=\"1\" class=\"dataframe\">\n  <thead>\n    <tr style=\"text-align: right;\">\n      <th></th>\n      <th>Comunidad Autónoma</th>\n      <th>Año</th>\n      <th>Poblacion</th>\n    </tr>\n  </thead>\n  <tbody>\n    <tr>\n      <th>0</th>\n      <td>ANDALUCÍA</td>\n      <td>2010</td>\n      <td>8370975</td>\n    </tr>\n    <tr>\n      <th>1</th>\n      <td>ANDALUCÍA</td>\n      <td>2018</td>\n      <td>8384408</td>\n    </tr>\n    <tr>\n      <th>2</th>\n      <td>ANDALUCÍA</td>\n      <td>2016</td>\n      <td>8388107</td>\n    </tr>\n    <tr>\n      <th>3</th>\n      <td>ANDALUCÍA</td>\n      <td>2014</td>\n      <td>8402305</td>\n    </tr>\n    <tr>\n      <th>4</th>\n      <td>ANDALUCÍA</td>\n      <td>2011</td>\n      <td>8424102</td>\n    </tr>\n    <tr>\n      <th>...</th>\n      <td>...</td>\n      <td>...</td>\n      <td>...</td>\n    </tr>\n    <tr>\n      <th>175</th>\n      <td>TOTAL NACIONAL</td>\n      <td>2017</td>\n      <td>46572132</td>\n    </tr>\n    <tr>\n      <th>176</th>\n      <td>TOTAL NACIONAL</td>\n      <td>2016</td>\n      <td>46557008</td>\n    </tr>\n    <tr>\n      <th>177</th>\n      <td>TOTAL NACIONAL</td>\n      <td>2011</td>\n      <td>47190493</td>\n    </tr>\n    <tr>\n      <th>178</th>\n      <td>TOTAL NACIONAL</td>\n      <td>2013</td>\n      <td>47129783</td>\n    </tr>\n    <tr>\n      <th>179</th>\n      <td>TOTAL NACIONAL</td>\n      <td>2018</td>\n      <td>46722980</td>\n    </tr>\n  </tbody>\n</table>\n<p>180 rows × 3 columns</p>\n</div>"
     },
     "metadata": {},
     "execution_count": 28
    }
   ],
   "source": [
    "poblacion_clean"
   ]
  },
  {
   "cell_type": "code",
   "execution_count": null,
   "metadata": {},
   "outputs": [],
   "source": []
  }
 ]
}