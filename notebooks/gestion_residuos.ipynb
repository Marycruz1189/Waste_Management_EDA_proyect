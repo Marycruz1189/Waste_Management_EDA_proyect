{
 "metadata": {
  "language_info": {
   "codemirror_mode": {
    "name": "ipython",
    "version": 3
   },
   "file_extension": ".py",
   "mimetype": "text/x-python",
   "name": "python",
   "nbconvert_exporter": "python",
   "pygments_lexer": "ipython3",
   "version": "3.7.4"
  },
  "orig_nbformat": 2,
  "kernelspec": {
   "name": "python374jvsc74a57bd0a9b83ec4160fc914f5169c2fc0bc9ab1c02e189a457abfa966969b692f6336e9",
   "display_name": "Python 3.7.4 64-bit"
  },
  "metadata": {
   "interpreter": {
    "hash": "a9b83ec4160fc914f5169c2fc0bc9ab1c02e189a457abfa966969b692f6336e9"
   }
  }
 },
 "nbformat": 4,
 "nbformat_minor": 2,
 "cells": [
  {
   "source": [
    "### GESTION DE RESIDUOS"
   ],
   "cell_type": "markdown",
   "metadata": {}
  },
  {
   "cell_type": "code",
   "execution_count": 1,
   "metadata": {},
   "outputs": [],
   "source": [
    "import pandas as pd\n",
    "import numpy as np\n",
    "import re"
   ]
  },
  {
   "cell_type": "code",
   "execution_count": 2,
   "metadata": {},
   "outputs": [],
   "source": [
    "gestion = pd.read_excel(\"data/residuos_gestionados.xls\")"
   ]
  },
  {
   "cell_type": "code",
   "execution_count": 3,
   "metadata": {},
   "outputs": [
    {
     "output_type": "execute_result",
     "data": {
      "text/plain": [
       "                2018                  2018.1         2018.2  \\\n",
       "0       Recuperación  Operaciones de relleno        Vertido   \n",
       "1  TOTAL GENERAL  tn       TOTAL GENERAL  tn  TOTAL GENERAL   \n",
       "2           47245057                12180380       58811441   \n",
       "\n",
       "              2018.3             2018.4               2017  \\\n",
       "0       Incineración              Total       Recuperación   \n",
       "1  TOTAL GENERAL  tn  TOTAL GENERAL  tn  TOTAL GENERAL  tn   \n",
       "2            3720678          121957556           44921844   \n",
       "\n",
       "                   2017.1             2017.2             2017.3  \\\n",
       "0  Operaciones de relleno            Vertido       Incineración   \n",
       "1       TOTAL GENERAL  tn  TOTAL GENERAL  tn  TOTAL GENERAL  tn   \n",
       "2                 4270531           62226693            4067227   \n",
       "\n",
       "              2017.4  ...               2011                  2011.1  \\\n",
       "0              Total  ...       Recuperación  Operaciones de relleno   \n",
       "1  TOTAL GENERAL  tn  ...  TOTAL GENERAL  tn       TOTAL GENERAL  tn   \n",
       "2          115486295  ...           53081624                 6665117   \n",
       "\n",
       "              2011.2             2011.3             2011.4  \\\n",
       "0            Vertido       Incineración              Total   \n",
       "1  TOTAL GENERAL  tn  TOTAL GENERAL  tn  TOTAL GENERAL  tn   \n",
       "2           49643268            3398695          112788703   \n",
       "\n",
       "                     2010             2010.1             2010.2  \\\n",
       "0  Operaciones de relleno            Vertido       Incineración   \n",
       "1       TOTAL GENERAL  tn  TOTAL GENERAL  tn  TOTAL GENERAL  tn   \n",
       "2                 5713515           49464293            2934780   \n",
       "\n",
       "              2010.3             2010.4  \n",
       "0       Recuperación              Total  \n",
       "1  TOTAL GENERAL  tn  TOTAL GENERAL  tn  \n",
       "2           74575394          132687982  \n",
       "\n",
       "[3 rows x 45 columns]"
      ],
      "text/html": "<div>\n<style scoped>\n    .dataframe tbody tr th:only-of-type {\n        vertical-align: middle;\n    }\n\n    .dataframe tbody tr th {\n        vertical-align: top;\n    }\n\n    .dataframe thead th {\n        text-align: right;\n    }\n</style>\n<table border=\"1\" class=\"dataframe\">\n  <thead>\n    <tr style=\"text-align: right;\">\n      <th></th>\n      <th>2018</th>\n      <th>2018.1</th>\n      <th>2018.2</th>\n      <th>2018.3</th>\n      <th>2018.4</th>\n      <th>2017</th>\n      <th>2017.1</th>\n      <th>2017.2</th>\n      <th>2017.3</th>\n      <th>2017.4</th>\n      <th>...</th>\n      <th>2011</th>\n      <th>2011.1</th>\n      <th>2011.2</th>\n      <th>2011.3</th>\n      <th>2011.4</th>\n      <th>2010</th>\n      <th>2010.1</th>\n      <th>2010.2</th>\n      <th>2010.3</th>\n      <th>2010.4</th>\n    </tr>\n  </thead>\n  <tbody>\n    <tr>\n      <th>0</th>\n      <td>Recuperación</td>\n      <td>Operaciones de relleno</td>\n      <td>Vertido</td>\n      <td>Incineración</td>\n      <td>Total</td>\n      <td>Recuperación</td>\n      <td>Operaciones de relleno</td>\n      <td>Vertido</td>\n      <td>Incineración</td>\n      <td>Total</td>\n      <td>...</td>\n      <td>Recuperación</td>\n      <td>Operaciones de relleno</td>\n      <td>Vertido</td>\n      <td>Incineración</td>\n      <td>Total</td>\n      <td>Operaciones de relleno</td>\n      <td>Vertido</td>\n      <td>Incineración</td>\n      <td>Recuperación</td>\n      <td>Total</td>\n    </tr>\n    <tr>\n      <th>1</th>\n      <td>TOTAL GENERAL  tn</td>\n      <td>TOTAL GENERAL  tn</td>\n      <td>TOTAL GENERAL</td>\n      <td>TOTAL GENERAL  tn</td>\n      <td>TOTAL GENERAL  tn</td>\n      <td>TOTAL GENERAL  tn</td>\n      <td>TOTAL GENERAL  tn</td>\n      <td>TOTAL GENERAL  tn</td>\n      <td>TOTAL GENERAL  tn</td>\n      <td>TOTAL GENERAL  tn</td>\n      <td>...</td>\n      <td>TOTAL GENERAL  tn</td>\n      <td>TOTAL GENERAL  tn</td>\n      <td>TOTAL GENERAL  tn</td>\n      <td>TOTAL GENERAL  tn</td>\n      <td>TOTAL GENERAL  tn</td>\n      <td>TOTAL GENERAL  tn</td>\n      <td>TOTAL GENERAL  tn</td>\n      <td>TOTAL GENERAL  tn</td>\n      <td>TOTAL GENERAL  tn</td>\n      <td>TOTAL GENERAL  tn</td>\n    </tr>\n    <tr>\n      <th>2</th>\n      <td>47245057</td>\n      <td>12180380</td>\n      <td>58811441</td>\n      <td>3720678</td>\n      <td>121957556</td>\n      <td>44921844</td>\n      <td>4270531</td>\n      <td>62226693</td>\n      <td>4067227</td>\n      <td>115486295</td>\n      <td>...</td>\n      <td>53081624</td>\n      <td>6665117</td>\n      <td>49643268</td>\n      <td>3398695</td>\n      <td>112788703</td>\n      <td>5713515</td>\n      <td>49464293</td>\n      <td>2934780</td>\n      <td>74575394</td>\n      <td>132687982</td>\n    </tr>\n  </tbody>\n</table>\n<p>3 rows × 45 columns</p>\n</div>"
     },
     "metadata": {},
     "execution_count": 3
    }
   ],
   "source": [
    "gestion.head()"
   ]
  },
  {
   "cell_type": "code",
   "execution_count": 4,
   "metadata": {},
   "outputs": [],
   "source": [
    "# setup the index first, then tanspose the dataframe\n",
    "gestion.index = pd.Index(['Proceso','Comunidad Autonoma','Tn Recuperadas'],name='index')\n",
    "gestion_clean_1= gestion.T"
   ]
  },
  {
   "cell_type": "code",
   "execution_count": 5,
   "metadata": {},
   "outputs": [
    {
     "output_type": "execute_result",
     "data": {
      "text/plain": [
       "index                  Proceso Comunidad Autonoma Tn Recuperadas\n",
       "2018              Recuperación  TOTAL GENERAL  tn       47245057\n",
       "2018.1  Operaciones de relleno  TOTAL GENERAL  tn       12180380\n",
       "2018.2                 Vertido      TOTAL GENERAL       58811441\n",
       "2018.3            Incineración  TOTAL GENERAL  tn        3720678\n",
       "2018.4                   Total  TOTAL GENERAL  tn      121957556\n",
       "2017              Recuperación  TOTAL GENERAL  tn       44921844\n",
       "2017.1  Operaciones de relleno  TOTAL GENERAL  tn        4270531\n",
       "2017.2                 Vertido  TOTAL GENERAL  tn       62226693\n",
       "2017.3            Incineración  TOTAL GENERAL  tn        4067227\n",
       "2017.4                   Total  TOTAL GENERAL  tn      115486295\n",
       "2016              Recuperación  TOTAL GENERAL  tn       39581448\n",
       "2016.1  Operaciones de relleno  TOTAL GENERAL  tn        6040616\n",
       "2016.2                 Vertido  TOTAL GENERAL  tn       57250551\n",
       "2016.3            Incineración  TOTAL GENERAL  tn        3842644\n",
       "2016.4                   Total  TOTAL GENERAL  tn      106715259\n",
       "2015              Recuperación  TOTAL GENERAL  tn       41279882\n",
       "2015.1  Operaciones de relleno  TOTAL GENERAL  tn        9269249\n",
       "2015.2                 Vertido  TOTAL GENERAL  tn       53571395\n",
       "2015.3            Incineración  TOTAL GENERAL  tn        3655319\n",
       "2015.4                   Total  TOTAL GENERAL  tn      107775845\n",
       "2014              Recuperación  TOTAL GENERAL  tn       37298137\n",
       "2014.1  Operaciones de relleno  TOTAL GENERAL  tn       13021319\n",
       "2014.2                 Vertido  TOTAL GENERAL  tn       49534273\n",
       "2014.3            Incineración  TOTAL GENERAL  tn        3543610\n",
       "2014.4                   Total  TOTAL GENERAL  tn      103397339\n",
       "2013              Recuperación  TOTAL GENERAL  tn       36473400\n",
       "2013.1  Operaciones de relleno  TOTAL GENERAL  tn       11035609\n",
       "2013.2                 Vertido  TOTAL GENERAL  tn       46224121\n",
       "2013.3            Incineración  TOTAL GENERAL  tn        3569340\n",
       "2013.4                   Total  TOTAL GENERAL  tn       97302470\n",
       "2012              Recuperación  TOTAL GENERAL  tn       48745405\n",
       "2012.1  Operaciones de relleno  TOTAL GENERAL  tn        8193793\n",
       "2012.2                 Vertido  TOTAL GENERAL  tn       48259328\n",
       "2012.3            Incineración  TOTAL GENERAL  tn        3276510\n",
       "2012.4                   Total      TOTAL GENERAL      108475037\n",
       "2011              Recuperación  TOTAL GENERAL  tn       53081624\n",
       "2011.1  Operaciones de relleno  TOTAL GENERAL  tn        6665117\n",
       "2011.2                 Vertido  TOTAL GENERAL  tn       49643268\n",
       "2011.3            Incineración  TOTAL GENERAL  tn        3398695\n",
       "2011.4                   Total  TOTAL GENERAL  tn      112788703\n",
       "2010    Operaciones de relleno  TOTAL GENERAL  tn        5713515\n",
       "2010.1                 Vertido  TOTAL GENERAL  tn       49464293\n",
       "2010.2            Incineración  TOTAL GENERAL  tn        2934780\n",
       "2010.3            Recuperación  TOTAL GENERAL  tn       74575394\n",
       "2010.4                   Total  TOTAL GENERAL  tn      132687982"
      ],
      "text/html": "<div>\n<style scoped>\n    .dataframe tbody tr th:only-of-type {\n        vertical-align: middle;\n    }\n\n    .dataframe tbody tr th {\n        vertical-align: top;\n    }\n\n    .dataframe thead th {\n        text-align: right;\n    }\n</style>\n<table border=\"1\" class=\"dataframe\">\n  <thead>\n    <tr style=\"text-align: right;\">\n      <th>index</th>\n      <th>Proceso</th>\n      <th>Comunidad Autonoma</th>\n      <th>Tn Recuperadas</th>\n    </tr>\n  </thead>\n  <tbody>\n    <tr>\n      <th>2018</th>\n      <td>Recuperación</td>\n      <td>TOTAL GENERAL  tn</td>\n      <td>47245057</td>\n    </tr>\n    <tr>\n      <th>2018.1</th>\n      <td>Operaciones de relleno</td>\n      <td>TOTAL GENERAL  tn</td>\n      <td>12180380</td>\n    </tr>\n    <tr>\n      <th>2018.2</th>\n      <td>Vertido</td>\n      <td>TOTAL GENERAL</td>\n      <td>58811441</td>\n    </tr>\n    <tr>\n      <th>2018.3</th>\n      <td>Incineración</td>\n      <td>TOTAL GENERAL  tn</td>\n      <td>3720678</td>\n    </tr>\n    <tr>\n      <th>2018.4</th>\n      <td>Total</td>\n      <td>TOTAL GENERAL  tn</td>\n      <td>121957556</td>\n    </tr>\n    <tr>\n      <th>2017</th>\n      <td>Recuperación</td>\n      <td>TOTAL GENERAL  tn</td>\n      <td>44921844</td>\n    </tr>\n    <tr>\n      <th>2017.1</th>\n      <td>Operaciones de relleno</td>\n      <td>TOTAL GENERAL  tn</td>\n      <td>4270531</td>\n    </tr>\n    <tr>\n      <th>2017.2</th>\n      <td>Vertido</td>\n      <td>TOTAL GENERAL  tn</td>\n      <td>62226693</td>\n    </tr>\n    <tr>\n      <th>2017.3</th>\n      <td>Incineración</td>\n      <td>TOTAL GENERAL  tn</td>\n      <td>4067227</td>\n    </tr>\n    <tr>\n      <th>2017.4</th>\n      <td>Total</td>\n      <td>TOTAL GENERAL  tn</td>\n      <td>115486295</td>\n    </tr>\n    <tr>\n      <th>2016</th>\n      <td>Recuperación</td>\n      <td>TOTAL GENERAL  tn</td>\n      <td>39581448</td>\n    </tr>\n    <tr>\n      <th>2016.1</th>\n      <td>Operaciones de relleno</td>\n      <td>TOTAL GENERAL  tn</td>\n      <td>6040616</td>\n    </tr>\n    <tr>\n      <th>2016.2</th>\n      <td>Vertido</td>\n      <td>TOTAL GENERAL  tn</td>\n      <td>57250551</td>\n    </tr>\n    <tr>\n      <th>2016.3</th>\n      <td>Incineración</td>\n      <td>TOTAL GENERAL  tn</td>\n      <td>3842644</td>\n    </tr>\n    <tr>\n      <th>2016.4</th>\n      <td>Total</td>\n      <td>TOTAL GENERAL  tn</td>\n      <td>106715259</td>\n    </tr>\n    <tr>\n      <th>2015</th>\n      <td>Recuperación</td>\n      <td>TOTAL GENERAL  tn</td>\n      <td>41279882</td>\n    </tr>\n    <tr>\n      <th>2015.1</th>\n      <td>Operaciones de relleno</td>\n      <td>TOTAL GENERAL  tn</td>\n      <td>9269249</td>\n    </tr>\n    <tr>\n      <th>2015.2</th>\n      <td>Vertido</td>\n      <td>TOTAL GENERAL  tn</td>\n      <td>53571395</td>\n    </tr>\n    <tr>\n      <th>2015.3</th>\n      <td>Incineración</td>\n      <td>TOTAL GENERAL  tn</td>\n      <td>3655319</td>\n    </tr>\n    <tr>\n      <th>2015.4</th>\n      <td>Total</td>\n      <td>TOTAL GENERAL  tn</td>\n      <td>107775845</td>\n    </tr>\n    <tr>\n      <th>2014</th>\n      <td>Recuperación</td>\n      <td>TOTAL GENERAL  tn</td>\n      <td>37298137</td>\n    </tr>\n    <tr>\n      <th>2014.1</th>\n      <td>Operaciones de relleno</td>\n      <td>TOTAL GENERAL  tn</td>\n      <td>13021319</td>\n    </tr>\n    <tr>\n      <th>2014.2</th>\n      <td>Vertido</td>\n      <td>TOTAL GENERAL  tn</td>\n      <td>49534273</td>\n    </tr>\n    <tr>\n      <th>2014.3</th>\n      <td>Incineración</td>\n      <td>TOTAL GENERAL  tn</td>\n      <td>3543610</td>\n    </tr>\n    <tr>\n      <th>2014.4</th>\n      <td>Total</td>\n      <td>TOTAL GENERAL  tn</td>\n      <td>103397339</td>\n    </tr>\n    <tr>\n      <th>2013</th>\n      <td>Recuperación</td>\n      <td>TOTAL GENERAL  tn</td>\n      <td>36473400</td>\n    </tr>\n    <tr>\n      <th>2013.1</th>\n      <td>Operaciones de relleno</td>\n      <td>TOTAL GENERAL  tn</td>\n      <td>11035609</td>\n    </tr>\n    <tr>\n      <th>2013.2</th>\n      <td>Vertido</td>\n      <td>TOTAL GENERAL  tn</td>\n      <td>46224121</td>\n    </tr>\n    <tr>\n      <th>2013.3</th>\n      <td>Incineración</td>\n      <td>TOTAL GENERAL  tn</td>\n      <td>3569340</td>\n    </tr>\n    <tr>\n      <th>2013.4</th>\n      <td>Total</td>\n      <td>TOTAL GENERAL  tn</td>\n      <td>97302470</td>\n    </tr>\n    <tr>\n      <th>2012</th>\n      <td>Recuperación</td>\n      <td>TOTAL GENERAL  tn</td>\n      <td>48745405</td>\n    </tr>\n    <tr>\n      <th>2012.1</th>\n      <td>Operaciones de relleno</td>\n      <td>TOTAL GENERAL  tn</td>\n      <td>8193793</td>\n    </tr>\n    <tr>\n      <th>2012.2</th>\n      <td>Vertido</td>\n      <td>TOTAL GENERAL  tn</td>\n      <td>48259328</td>\n    </tr>\n    <tr>\n      <th>2012.3</th>\n      <td>Incineración</td>\n      <td>TOTAL GENERAL  tn</td>\n      <td>3276510</td>\n    </tr>\n    <tr>\n      <th>2012.4</th>\n      <td>Total</td>\n      <td>TOTAL GENERAL</td>\n      <td>108475037</td>\n    </tr>\n    <tr>\n      <th>2011</th>\n      <td>Recuperación</td>\n      <td>TOTAL GENERAL  tn</td>\n      <td>53081624</td>\n    </tr>\n    <tr>\n      <th>2011.1</th>\n      <td>Operaciones de relleno</td>\n      <td>TOTAL GENERAL  tn</td>\n      <td>6665117</td>\n    </tr>\n    <tr>\n      <th>2011.2</th>\n      <td>Vertido</td>\n      <td>TOTAL GENERAL  tn</td>\n      <td>49643268</td>\n    </tr>\n    <tr>\n      <th>2011.3</th>\n      <td>Incineración</td>\n      <td>TOTAL GENERAL  tn</td>\n      <td>3398695</td>\n    </tr>\n    <tr>\n      <th>2011.4</th>\n      <td>Total</td>\n      <td>TOTAL GENERAL  tn</td>\n      <td>112788703</td>\n    </tr>\n    <tr>\n      <th>2010</th>\n      <td>Operaciones de relleno</td>\n      <td>TOTAL GENERAL  tn</td>\n      <td>5713515</td>\n    </tr>\n    <tr>\n      <th>2010.1</th>\n      <td>Vertido</td>\n      <td>TOTAL GENERAL  tn</td>\n      <td>49464293</td>\n    </tr>\n    <tr>\n      <th>2010.2</th>\n      <td>Incineración</td>\n      <td>TOTAL GENERAL  tn</td>\n      <td>2934780</td>\n    </tr>\n    <tr>\n      <th>2010.3</th>\n      <td>Recuperación</td>\n      <td>TOTAL GENERAL  tn</td>\n      <td>74575394</td>\n    </tr>\n    <tr>\n      <th>2010.4</th>\n      <td>Total</td>\n      <td>TOTAL GENERAL  tn</td>\n      <td>132687982</td>\n    </tr>\n  </tbody>\n</table>\n</div>"
     },
     "metadata": {},
     "execution_count": 5
    }
   ],
   "source": [
    "gestion_clean_1"
   ]
  },
  {
   "cell_type": "code",
   "execution_count": 6,
   "metadata": {},
   "outputs": [
    {
     "output_type": "execute_result",
     "data": {
      "text/plain": [
       "Index(['Proceso', 'Comunidad Autonoma', 'Tn Recuperadas'], dtype='object', name='index')"
      ]
     },
     "metadata": {},
     "execution_count": 6
    }
   ],
   "source": [
    "gestion_clean_1.columns"
   ]
  },
  {
   "cell_type": "code",
   "execution_count": 7,
   "metadata": {},
   "outputs": [],
   "source": [
    "#Creo la columna años similar al index\n",
    "gestion_clean_1['Año'] = gestion_clean_1.index"
   ]
  },
  {
   "cell_type": "code",
   "execution_count": 8,
   "metadata": {},
   "outputs": [],
   "source": [
    "# Se aplico un patron reguex para arreglar la columna año\n",
    "\n",
    "gestion_clean_1['Año_1'] = gestion_clean_1['Año'].str.extract(r'(\\d{4})')\n"
   ]
  },
  {
   "cell_type": "code",
   "execution_count": 9,
   "metadata": {},
   "outputs": [],
   "source": [
    "gestion_clean_1 = gestion_clean_1.drop(columns=['Año'], axis=1)\n",
    "#renombrar la columna Año_1 a año \n",
    "gestion_clean_1.rename(columns={'Año_1':'Año'}, inplace=True)"
   ]
  },
  {
   "cell_type": "code",
   "execution_count": 10,
   "metadata": {},
   "outputs": [],
   "source": [
    "pivot_gestion = gestion_clean_1.pivot(index='Año', columns='Proceso', values='Tn Recuperadas')"
   ]
  },
  {
   "cell_type": "code",
   "execution_count": 11,
   "metadata": {},
   "outputs": [
    {
     "output_type": "execute_result",
     "data": {
      "text/plain": [
       "Proceso Incineración Operaciones de relleno Recuperación      Total   Vertido\n",
       "Año                                                                          \n",
       "2010         2934780                5713515     74575394  132687982  49464293\n",
       "2011         3398695                6665117     53081624  112788703  49643268\n",
       "2012         3276510                8193793     48745405  108475037  48259328\n",
       "2013         3569340               11035609     36473400   97302470  46224121\n",
       "2014         3543610               13021319     37298137  103397339  49534273\n",
       "2015         3655319                9269249     41279882  107775845  53571395\n",
       "2016         3842644                6040616     39581448  106715259  57250551\n",
       "2017         4067227                4270531     44921844  115486295  62226693\n",
       "2018         3720678               12180380     47245057  121957556  58811441"
      ],
      "text/html": "<div>\n<style scoped>\n    .dataframe tbody tr th:only-of-type {\n        vertical-align: middle;\n    }\n\n    .dataframe tbody tr th {\n        vertical-align: top;\n    }\n\n    .dataframe thead th {\n        text-align: right;\n    }\n</style>\n<table border=\"1\" class=\"dataframe\">\n  <thead>\n    <tr style=\"text-align: right;\">\n      <th>Proceso</th>\n      <th>Incineración</th>\n      <th>Operaciones de relleno</th>\n      <th>Recuperación</th>\n      <th>Total</th>\n      <th>Vertido</th>\n    </tr>\n    <tr>\n      <th>Año</th>\n      <th></th>\n      <th></th>\n      <th></th>\n      <th></th>\n      <th></th>\n    </tr>\n  </thead>\n  <tbody>\n    <tr>\n      <th>2010</th>\n      <td>2934780</td>\n      <td>5713515</td>\n      <td>74575394</td>\n      <td>132687982</td>\n      <td>49464293</td>\n    </tr>\n    <tr>\n      <th>2011</th>\n      <td>3398695</td>\n      <td>6665117</td>\n      <td>53081624</td>\n      <td>112788703</td>\n      <td>49643268</td>\n    </tr>\n    <tr>\n      <th>2012</th>\n      <td>3276510</td>\n      <td>8193793</td>\n      <td>48745405</td>\n      <td>108475037</td>\n      <td>48259328</td>\n    </tr>\n    <tr>\n      <th>2013</th>\n      <td>3569340</td>\n      <td>11035609</td>\n      <td>36473400</td>\n      <td>97302470</td>\n      <td>46224121</td>\n    </tr>\n    <tr>\n      <th>2014</th>\n      <td>3543610</td>\n      <td>13021319</td>\n      <td>37298137</td>\n      <td>103397339</td>\n      <td>49534273</td>\n    </tr>\n    <tr>\n      <th>2015</th>\n      <td>3655319</td>\n      <td>9269249</td>\n      <td>41279882</td>\n      <td>107775845</td>\n      <td>53571395</td>\n    </tr>\n    <tr>\n      <th>2016</th>\n      <td>3842644</td>\n      <td>6040616</td>\n      <td>39581448</td>\n      <td>106715259</td>\n      <td>57250551</td>\n    </tr>\n    <tr>\n      <th>2017</th>\n      <td>4067227</td>\n      <td>4270531</td>\n      <td>44921844</td>\n      <td>115486295</td>\n      <td>62226693</td>\n    </tr>\n    <tr>\n      <th>2018</th>\n      <td>3720678</td>\n      <td>12180380</td>\n      <td>47245057</td>\n      <td>121957556</td>\n      <td>58811441</td>\n    </tr>\n  </tbody>\n</table>\n</div>"
     },
     "metadata": {},
     "execution_count": 11
    }
   ],
   "source": [
    "pivot_gestion"
   ]
  },
  {
   "cell_type": "code",
   "execution_count": 104,
   "metadata": {},
   "outputs": [],
   "source": [
    "# Creo las columnas que me hacen falta \n",
    "pivot_gestion['Comunidad Autonoma'] = 'Total Nacional'"
   ]
  },
  {
   "cell_type": "code",
   "execution_count": 107,
   "metadata": {},
   "outputs": [],
   "source": [
    "#CREO LAS DOS COLUMNAS QUE ME HACEN FALTA QUE SON AÑOS Y COMUNIDADES AUTONOMAS, Y REINICIO EL INDEX\n",
    "pivot_gestion['Año'] = pivot_gestion.index"
   ]
  },
  {
   "cell_type": "code",
   "execution_count": 109,
   "metadata": {},
   "outputs": [],
   "source": [
    "#REINICIO EL INDEX\n",
    "\n",
    "pivot_gestion.reset_index(inplace=True, drop=True)"
   ]
  },
  {
   "cell_type": "code",
   "execution_count": 110,
   "metadata": {},
   "outputs": [
    {
     "output_type": "execute_result",
     "data": {
      "text/plain": [
       "Proceso Incineración Operaciones de relleno Recuperación      Total   Vertido  \\\n",
       "0            2934780                5713515     74575394  132687982  49464293   \n",
       "1            3398695                6665117     53081624  112788703  49643268   \n",
       "2            3276510                8193793     48745405  108475037  48259328   \n",
       "3            3569340               11035609     36473400   97302470  46224121   \n",
       "4            3543610               13021319     37298137  103397339  49534273   \n",
       "5            3655319                9269249     41279882  107775845  53571395   \n",
       "6            3842644                6040616     39581448  106715259  57250551   \n",
       "7            4067227                4270531     44921844  115486295  62226693   \n",
       "8            3720678               12180380     47245057  121957556  58811441   \n",
       "\n",
       "Proceso Comunidad Autonoma   Año  \n",
       "0           Total Nacional  2010  \n",
       "1           Total Nacional  2011  \n",
       "2           Total Nacional  2012  \n",
       "3           Total Nacional  2013  \n",
       "4           Total Nacional  2014  \n",
       "5           Total Nacional  2015  \n",
       "6           Total Nacional  2016  \n",
       "7           Total Nacional  2017  \n",
       "8           Total Nacional  2018  "
      ],
      "text/html": "<div>\n<style scoped>\n    .dataframe tbody tr th:only-of-type {\n        vertical-align: middle;\n    }\n\n    .dataframe tbody tr th {\n        vertical-align: top;\n    }\n\n    .dataframe thead th {\n        text-align: right;\n    }\n</style>\n<table border=\"1\" class=\"dataframe\">\n  <thead>\n    <tr style=\"text-align: right;\">\n      <th>Proceso</th>\n      <th>Incineración</th>\n      <th>Operaciones de relleno</th>\n      <th>Recuperación</th>\n      <th>Total</th>\n      <th>Vertido</th>\n      <th>Comunidad Autonoma</th>\n      <th>Año</th>\n    </tr>\n  </thead>\n  <tbody>\n    <tr>\n      <th>0</th>\n      <td>2934780</td>\n      <td>5713515</td>\n      <td>74575394</td>\n      <td>132687982</td>\n      <td>49464293</td>\n      <td>Total Nacional</td>\n      <td>2010</td>\n    </tr>\n    <tr>\n      <th>1</th>\n      <td>3398695</td>\n      <td>6665117</td>\n      <td>53081624</td>\n      <td>112788703</td>\n      <td>49643268</td>\n      <td>Total Nacional</td>\n      <td>2011</td>\n    </tr>\n    <tr>\n      <th>2</th>\n      <td>3276510</td>\n      <td>8193793</td>\n      <td>48745405</td>\n      <td>108475037</td>\n      <td>48259328</td>\n      <td>Total Nacional</td>\n      <td>2012</td>\n    </tr>\n    <tr>\n      <th>3</th>\n      <td>3569340</td>\n      <td>11035609</td>\n      <td>36473400</td>\n      <td>97302470</td>\n      <td>46224121</td>\n      <td>Total Nacional</td>\n      <td>2013</td>\n    </tr>\n    <tr>\n      <th>4</th>\n      <td>3543610</td>\n      <td>13021319</td>\n      <td>37298137</td>\n      <td>103397339</td>\n      <td>49534273</td>\n      <td>Total Nacional</td>\n      <td>2014</td>\n    </tr>\n    <tr>\n      <th>5</th>\n      <td>3655319</td>\n      <td>9269249</td>\n      <td>41279882</td>\n      <td>107775845</td>\n      <td>53571395</td>\n      <td>Total Nacional</td>\n      <td>2015</td>\n    </tr>\n    <tr>\n      <th>6</th>\n      <td>3842644</td>\n      <td>6040616</td>\n      <td>39581448</td>\n      <td>106715259</td>\n      <td>57250551</td>\n      <td>Total Nacional</td>\n      <td>2016</td>\n    </tr>\n    <tr>\n      <th>7</th>\n      <td>4067227</td>\n      <td>4270531</td>\n      <td>44921844</td>\n      <td>115486295</td>\n      <td>62226693</td>\n      <td>Total Nacional</td>\n      <td>2017</td>\n    </tr>\n    <tr>\n      <th>8</th>\n      <td>3720678</td>\n      <td>12180380</td>\n      <td>47245057</td>\n      <td>121957556</td>\n      <td>58811441</td>\n      <td>Total Nacional</td>\n      <td>2018</td>\n    </tr>\n  </tbody>\n</table>\n</div>"
     },
     "metadata": {},
     "execution_count": 110
    }
   ],
   "source": [
    "pivot_gestion"
   ]
  },
  {
   "cell_type": "code",
   "execution_count": 111,
   "metadata": {},
   "outputs": [
    {
     "output_type": "execute_result",
     "data": {
      "text/plain": [
       "Proceso Gestion: Incineracion (tn) Gestion: Opereaciones de relleno (tn)  \\\n",
       "0                          2934780                               5713515   \n",
       "1                          3398695                               6665117   \n",
       "2                          3276510                               8193793   \n",
       "3                          3569340                              11035609   \n",
       "4                          3543610                              13021319   \n",
       "\n",
       "Proceso Gestion Recuperacion (tn) Gestion Total (tn) Gestion Vertido (tn)  \\\n",
       "0                        74575394          132687982             49464293   \n",
       "1                        53081624          112788703             49643268   \n",
       "2                        48745405          108475037             48259328   \n",
       "3                        36473400           97302470             46224121   \n",
       "4                        37298137          103397339             49534273   \n",
       "\n",
       "Proceso Comunidad Autonoma   Año  \n",
       "0           Total Nacional  2010  \n",
       "1           Total Nacional  2011  \n",
       "2           Total Nacional  2012  \n",
       "3           Total Nacional  2013  \n",
       "4           Total Nacional  2014  "
      ],
      "text/html": "<div>\n<style scoped>\n    .dataframe tbody tr th:only-of-type {\n        vertical-align: middle;\n    }\n\n    .dataframe tbody tr th {\n        vertical-align: top;\n    }\n\n    .dataframe thead th {\n        text-align: right;\n    }\n</style>\n<table border=\"1\" class=\"dataframe\">\n  <thead>\n    <tr style=\"text-align: right;\">\n      <th>Proceso</th>\n      <th>Gestion: Incineracion (tn)</th>\n      <th>Gestion: Opereaciones de relleno (tn)</th>\n      <th>Gestion Recuperacion (tn)</th>\n      <th>Gestion Total (tn)</th>\n      <th>Gestion Vertido (tn)</th>\n      <th>Comunidad Autonoma</th>\n      <th>Año</th>\n    </tr>\n  </thead>\n  <tbody>\n    <tr>\n      <th>0</th>\n      <td>2934780</td>\n      <td>5713515</td>\n      <td>74575394</td>\n      <td>132687982</td>\n      <td>49464293</td>\n      <td>Total Nacional</td>\n      <td>2010</td>\n    </tr>\n    <tr>\n      <th>1</th>\n      <td>3398695</td>\n      <td>6665117</td>\n      <td>53081624</td>\n      <td>112788703</td>\n      <td>49643268</td>\n      <td>Total Nacional</td>\n      <td>2011</td>\n    </tr>\n    <tr>\n      <th>2</th>\n      <td>3276510</td>\n      <td>8193793</td>\n      <td>48745405</td>\n      <td>108475037</td>\n      <td>48259328</td>\n      <td>Total Nacional</td>\n      <td>2012</td>\n    </tr>\n    <tr>\n      <th>3</th>\n      <td>3569340</td>\n      <td>11035609</td>\n      <td>36473400</td>\n      <td>97302470</td>\n      <td>46224121</td>\n      <td>Total Nacional</td>\n      <td>2013</td>\n    </tr>\n    <tr>\n      <th>4</th>\n      <td>3543610</td>\n      <td>13021319</td>\n      <td>37298137</td>\n      <td>103397339</td>\n      <td>49534273</td>\n      <td>Total Nacional</td>\n      <td>2014</td>\n    </tr>\n  </tbody>\n</table>\n</div>"
     },
     "metadata": {},
     "execution_count": 111
    }
   ],
   "source": [
    "#CAMBIO EL NOMBRE A LAS COLUMNAS \n",
    "\n",
    "new_names = {'Incineración': 'Gestion: Incineracion (tn)', 'Operaciones de relleno': 'Gestion: Opereaciones de relleno (tn)', 'Recuperación': 'Gestion Recuperacion (tn)', 'Total': 'Gestion Total (tn)', 'Vertido': 'Gestion Vertido (tn)'}\n",
    "\n",
    "pivot_gestion.rename(columns=new_names, inplace=True)\n",
    "pivot_gestion.head()"
   ]
  },
  {
   "cell_type": "code",
   "execution_count": null,
   "metadata": {},
   "outputs": [],
   "source": [
    "gestion"
   ]
  },
  {
   "cell_type": "code",
   "execution_count": 113,
   "metadata": {},
   "outputs": [],
   "source": [
    "## GUARDAMOS LA BASE DE DATOS\n",
    "\n",
    "pivot_gestion.to_csv('data/gestion_clean.csv', index=False)"
   ]
  },
  {
   "cell_type": "code",
   "execution_count": null,
   "metadata": {},
   "outputs": [],
   "source": []
  }
 ]
}