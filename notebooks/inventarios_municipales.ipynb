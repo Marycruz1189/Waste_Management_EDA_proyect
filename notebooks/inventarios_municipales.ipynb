{
 "metadata": {
  "language_info": {
   "codemirror_mode": {
    "name": "ipython",
    "version": 3
   },
   "file_extension": ".py",
   "mimetype": "text/x-python",
   "name": "python",
   "nbconvert_exporter": "python",
   "pygments_lexer": "ipython3",
   "version": "3.7.4"
  },
  "orig_nbformat": 2,
  "kernelspec": {
   "name": "python374jvsc74a57bd0a9b83ec4160fc914f5169c2fc0bc9ab1c02e189a457abfa966969b692f6336e9",
   "display_name": "Python 3.7.4 64-bit"
  },
  "metadata": {
   "interpreter": {
    "hash": "a9b83ec4160fc914f5169c2fc0bc9ab1c02e189a457abfa966969b692f6336e9"
   }
  }
 },
 "nbformat": 4,
 "nbformat_minor": 2,
 "cells": [
  {
   "cell_type": "code",
   "execution_count": 1,
   "metadata": {},
   "outputs": [],
   "source": [
    "import pandas as pd\n",
    "import numpy as np\n",
    "import re"
   ]
  },
  {
   "cell_type": "code",
   "execution_count": 15,
   "metadata": {},
   "outputs": [],
   "source": [
    "gestion = pd.read_excel(\"data/instalaciones_residuos.xlsx\", header=1)"
   ]
  },
  {
   "cell_type": "code",
   "execution_count": 16,
   "metadata": {},
   "outputs": [
    {
     "output_type": "execute_result",
     "data": {
      "text/plain": [
       "                          CCAA-Provincia-Instalación  Envases mezclados  \\\n",
       "0                                          Andalucía          94281.101   \n",
       "1                                              Albox           1151.660   \n",
       "2                                              Gádor           2570.540   \n",
       "3    Planta de Clasificación y Compostaje de Almeria           1846.440   \n",
       "4              COMPLEJO MEDIOAMBIENTAL SUR DE EUROPA           2678.160   \n",
       "..                                               ...                ...   \n",
       "105                                 Región de Murcia          18170.140   \n",
       "106                                            CESPA          10198.980   \n",
       "107                                         COGERSOL           6347.140   \n",
       "108                                           LIMUSA           1624.020   \n",
       "109                                    Total general         743555.885   \n",
       "\n",
       "         Metales      Plástico    Vidrio  Papel y Cartón   Compuestos  \\\n",
       "0     9302.02300   44116.21148    77.020       680.07100   7515.99825   \n",
       "1      104.79000     494.15000     0.000         0.00000     42.13000   \n",
       "2      173.98000    1135.00000     0.000         0.00000    125.94000   \n",
       "3      238.34000     839.13800     0.000         0.00000    160.26000   \n",
       "4      206.00000    1177.61000     0.000         0.00000    401.16000   \n",
       "..           ...           ...       ...             ...          ...   \n",
       "105   2284.66000    6497.77000     0.000        22.76000   1879.52000   \n",
       "106   1428.82000    3524.36000     0.000        22.76000   1492.06000   \n",
       "107    711.68000    2208.70000     0.000         0.00000    278.38000   \n",
       "108    144.16000     764.71000     0.000         0.00000    109.08000   \n",
       "109  62917.58217  301361.46400  4172.991     25326.15348  38939.43965   \n",
       "\n",
       "     Otros materiales  Vertedero (t/año)  Incineradora (t/año)  \n",
       "0               0.000        29555.27717                  0.00  \n",
       "1               0.000          326.08000                  0.00  \n",
       "2               0.000         1089.58000                  0.00  \n",
       "3               0.000           49.52000                  0.00  \n",
       "4               0.000          935.55000                  0.00  \n",
       "..                ...                ...                   ...  \n",
       "105             0.000         5431.90700                  0.00  \n",
       "106             0.000         1926.62700                  0.00  \n",
       "107             0.000         3148.38000                   NaN  \n",
       "108             0.000          356.90000                   NaN  \n",
       "109         13066.538       185437.58760              23640.48  \n",
       "\n",
       "[110 rows x 10 columns]"
      ],
      "text/html": "<div>\n<style scoped>\n    .dataframe tbody tr th:only-of-type {\n        vertical-align: middle;\n    }\n\n    .dataframe tbody tr th {\n        vertical-align: top;\n    }\n\n    .dataframe thead th {\n        text-align: right;\n    }\n</style>\n<table border=\"1\" class=\"dataframe\">\n  <thead>\n    <tr style=\"text-align: right;\">\n      <th></th>\n      <th>CCAA-Provincia-Instalación</th>\n      <th>Envases mezclados</th>\n      <th>Metales</th>\n      <th>Plástico</th>\n      <th>Vidrio</th>\n      <th>Papel y Cartón</th>\n      <th>Compuestos</th>\n      <th>Otros materiales</th>\n      <th>Vertedero (t/año)</th>\n      <th>Incineradora (t/año)</th>\n    </tr>\n  </thead>\n  <tbody>\n    <tr>\n      <th>0</th>\n      <td>Andalucía</td>\n      <td>94281.101</td>\n      <td>9302.02300</td>\n      <td>44116.21148</td>\n      <td>77.020</td>\n      <td>680.07100</td>\n      <td>7515.99825</td>\n      <td>0.000</td>\n      <td>29555.27717</td>\n      <td>0.00</td>\n    </tr>\n    <tr>\n      <th>1</th>\n      <td>Albox</td>\n      <td>1151.660</td>\n      <td>104.79000</td>\n      <td>494.15000</td>\n      <td>0.000</td>\n      <td>0.00000</td>\n      <td>42.13000</td>\n      <td>0.000</td>\n      <td>326.08000</td>\n      <td>0.00</td>\n    </tr>\n    <tr>\n      <th>2</th>\n      <td>Gádor</td>\n      <td>2570.540</td>\n      <td>173.98000</td>\n      <td>1135.00000</td>\n      <td>0.000</td>\n      <td>0.00000</td>\n      <td>125.94000</td>\n      <td>0.000</td>\n      <td>1089.58000</td>\n      <td>0.00</td>\n    </tr>\n    <tr>\n      <th>3</th>\n      <td>Planta de Clasificación y Compostaje de Almeria</td>\n      <td>1846.440</td>\n      <td>238.34000</td>\n      <td>839.13800</td>\n      <td>0.000</td>\n      <td>0.00000</td>\n      <td>160.26000</td>\n      <td>0.000</td>\n      <td>49.52000</td>\n      <td>0.00</td>\n    </tr>\n    <tr>\n      <th>4</th>\n      <td>COMPLEJO MEDIOAMBIENTAL SUR DE EUROPA</td>\n      <td>2678.160</td>\n      <td>206.00000</td>\n      <td>1177.61000</td>\n      <td>0.000</td>\n      <td>0.00000</td>\n      <td>401.16000</td>\n      <td>0.000</td>\n      <td>935.55000</td>\n      <td>0.00</td>\n    </tr>\n    <tr>\n      <th>...</th>\n      <td>...</td>\n      <td>...</td>\n      <td>...</td>\n      <td>...</td>\n      <td>...</td>\n      <td>...</td>\n      <td>...</td>\n      <td>...</td>\n      <td>...</td>\n      <td>...</td>\n    </tr>\n    <tr>\n      <th>105</th>\n      <td>Región de Murcia</td>\n      <td>18170.140</td>\n      <td>2284.66000</td>\n      <td>6497.77000</td>\n      <td>0.000</td>\n      <td>22.76000</td>\n      <td>1879.52000</td>\n      <td>0.000</td>\n      <td>5431.90700</td>\n      <td>0.00</td>\n    </tr>\n    <tr>\n      <th>106</th>\n      <td>CESPA</td>\n      <td>10198.980</td>\n      <td>1428.82000</td>\n      <td>3524.36000</td>\n      <td>0.000</td>\n      <td>22.76000</td>\n      <td>1492.06000</td>\n      <td>0.000</td>\n      <td>1926.62700</td>\n      <td>0.00</td>\n    </tr>\n    <tr>\n      <th>107</th>\n      <td>COGERSOL</td>\n      <td>6347.140</td>\n      <td>711.68000</td>\n      <td>2208.70000</td>\n      <td>0.000</td>\n      <td>0.00000</td>\n      <td>278.38000</td>\n      <td>0.000</td>\n      <td>3148.38000</td>\n      <td>NaN</td>\n    </tr>\n    <tr>\n      <th>108</th>\n      <td>LIMUSA</td>\n      <td>1624.020</td>\n      <td>144.16000</td>\n      <td>764.71000</td>\n      <td>0.000</td>\n      <td>0.00000</td>\n      <td>109.08000</td>\n      <td>0.000</td>\n      <td>356.90000</td>\n      <td>NaN</td>\n    </tr>\n    <tr>\n      <th>109</th>\n      <td>Total general</td>\n      <td>743555.885</td>\n      <td>62917.58217</td>\n      <td>301361.46400</td>\n      <td>4172.991</td>\n      <td>25326.15348</td>\n      <td>38939.43965</td>\n      <td>13066.538</td>\n      <td>185437.58760</td>\n      <td>23640.48</td>\n    </tr>\n  </tbody>\n</table>\n<p>110 rows × 10 columns</p>\n</div>"
     },
     "metadata": {},
     "execution_count": 16
    }
   ],
   "source": [
    "gestion"
   ]
  },
  {
   "cell_type": "code",
   "execution_count": 17,
   "metadata": {},
   "outputs": [],
   "source": [
    "ccaa = ['Andalucía', 'Aragón', 'Asturias', 'Baleares', 'Canarias', 'Cantabria', 'Castilla La Mancha', 'Castilla y León', 'Cataluña', 'Comunidad de Madrid', 'Comunidad Foral de Navarra', 'Comunidad Valenciana', 'Extremadura', 'Galicia', 'La Rioja', 'País Vasco', 'Región de Murcia'    ]"
   ]
  },
  {
   "cell_type": "code",
   "execution_count": 18,
   "metadata": {},
   "outputs": [],
   "source": [
    "cuenta = []\n",
    "\n",
    "def comprobar(ccaa):\n",
    "    for lista in ccaa:\n",
    "        if x not in lista:\n",
    "            cuenta.append(x)\n",
    "\n"
   ]
  },
  {
   "cell_type": "code",
   "execution_count": 22,
   "metadata": {},
   "outputs": [
    {
     "output_type": "error",
     "ename": "SyntaxError",
     "evalue": "invalid syntax (<ipython-input-22-cdd35155cbf9>, line 1)",
     "traceback": [
      "\u001b[1;36m  File \u001b[1;32m\"<ipython-input-22-cdd35155cbf9>\"\u001b[1;36m, line \u001b[1;32m1\u001b[0m\n\u001b[1;33m    gestion['CCAA-Provincia-Instalación'].apply(lambda x: x comprobar(ccaa=ccaa))\u001b[0m\n\u001b[1;37m                                                                    ^\u001b[0m\n\u001b[1;31mSyntaxError\u001b[0m\u001b[1;31m:\u001b[0m invalid syntax\n"
     ]
    }
   ],
   "source": [
    "gestion['CCAA-Provincia-Instalación'].apply(lambda x: x comprobar(ccaa=ccaa))"
   ]
  },
  {
   "cell_type": "code",
   "execution_count": 33,
   "metadata": {},
   "outputs": [
    {
     "output_type": "error",
     "ename": "AttributeError",
     "evalue": "'DataFrameGroupBy' object has no attribute 'CCAA'",
     "traceback": [
      "\u001b[1;31m---------------------------------------------------------------------------\u001b[0m",
      "\u001b[1;31mAttributeError\u001b[0m                            Traceback (most recent call last)",
      "\u001b[1;32m<ipython-input-33-9afaf3db2a73>\u001b[0m in \u001b[0;36m<module>\u001b[1;34m\u001b[0m\n\u001b[1;32m----> 1\u001b[1;33m \u001b[0mgestion\u001b[0m\u001b[1;33m.\u001b[0m\u001b[0mgroupby\u001b[0m\u001b[1;33m(\u001b[0m\u001b[1;33m[\u001b[0m\u001b[1;34m'Comunidad Autonoma'\u001b[0m\u001b[1;33m,\u001b[0m\u001b[1;34m'CCAA-Provincia-Instalación'\u001b[0m\u001b[1;33m]\u001b[0m\u001b[1;33m)\u001b[0m\u001b[1;33m.\u001b[0m\u001b[0mCCAA\u001b[0m\u001b[1;33m-\u001b[0m\u001b[0mProvincia\u001b[0m\u001b[1;33m-\u001b[0m\u001b[0mInstalación\u001b[0m\u001b[1;33m.\u001b[0m\u001b[0magg\u001b[0m\u001b[1;33m(\u001b[0m\u001b[1;34m'count'\u001b[0m\u001b[1;33m)\u001b[0m\u001b[1;33m\u001b[0m\u001b[1;33m\u001b[0m\u001b[0m\n\u001b[0m",
      "\u001b[1;32m~\\AppData\\Local\\Programs\\Python\\Python37\\lib\\site-packages\\pandas\\core\\groupby\\groupby.py\u001b[0m in \u001b[0;36m__getattr__\u001b[1;34m(self, attr)\u001b[0m\n\u001b[0;32m    751\u001b[0m \u001b[1;33m\u001b[0m\u001b[0m\n\u001b[0;32m    752\u001b[0m         raise AttributeError(\n\u001b[1;32m--> 753\u001b[1;33m             \u001b[1;34mf\"'{type(self).__name__}' object has no attribute '{attr}'\"\u001b[0m\u001b[1;33m\u001b[0m\u001b[1;33m\u001b[0m\u001b[0m\n\u001b[0m\u001b[0;32m    754\u001b[0m         )\n\u001b[0;32m    755\u001b[0m \u001b[1;33m\u001b[0m\u001b[0m\n",
      "\u001b[1;31mAttributeError\u001b[0m: 'DataFrameGroupBy' object has no attribute 'CCAA'"
     ]
    }
   ],
   "source": [
    "gestion.groupby(['Comunidad Autonoma','CCAA-Provincia-Instalación']).CCAA-Provincia-Instalación.agg('count')"
   ]
  },
  {
   "cell_type": "code",
   "execution_count": 32,
   "metadata": {},
   "outputs": [],
   "source": [
    "to_drop = gestion.iloc[:, 2:11]\n",
    "\n",
    "gestion.drop(to_drop, inplace = True , axis= 1 )"
   ]
  },
  {
   "cell_type": "code",
   "execution_count": 18,
   "metadata": {},
   "outputs": [
    {
     "output_type": "execute_result",
     "data": {
      "text/plain": [
       "   Comunidad Autonoma                       CCAA-Provincia-Instalación\n",
       "0                 NaN                                              NaN\n",
       "1           Andalucía                                            Albox\n",
       "2           Andalucía                                            Gádor\n",
       "3           Andalucía  Planta de Clasificación y Compostaje de Almeria\n",
       "4           Andalucía            COMPLEJO MEDIOAMBIENTAL SUR DE EUROPA\n",
       "..                ...                                              ...\n",
       "89         País Vasco    BZB, Bizkaiko Zabor Berziklategia- Amorebieta\n",
       "90   Región de Murcia                                            CESPA\n",
       "91   Región de Murcia                                         COGERSOL\n",
       "92   Región de Murcia                                           LIMUSA\n",
       "93      Total general                                    Total general\n",
       "\n",
       "[94 rows x 2 columns]"
      ],
      "text/html": "<div>\n<style scoped>\n    .dataframe tbody tr th:only-of-type {\n        vertical-align: middle;\n    }\n\n    .dataframe tbody tr th {\n        vertical-align: top;\n    }\n\n    .dataframe thead th {\n        text-align: right;\n    }\n</style>\n<table border=\"1\" class=\"dataframe\">\n  <thead>\n    <tr style=\"text-align: right;\">\n      <th></th>\n      <th>Comunidad Autonoma</th>\n      <th>CCAA-Provincia-Instalación</th>\n    </tr>\n  </thead>\n  <tbody>\n    <tr>\n      <th>0</th>\n      <td>NaN</td>\n      <td>NaN</td>\n    </tr>\n    <tr>\n      <th>1</th>\n      <td>Andalucía</td>\n      <td>Albox</td>\n    </tr>\n    <tr>\n      <th>2</th>\n      <td>Andalucía</td>\n      <td>Gádor</td>\n    </tr>\n    <tr>\n      <th>3</th>\n      <td>Andalucía</td>\n      <td>Planta de Clasificación y Compostaje de Almeria</td>\n    </tr>\n    <tr>\n      <th>4</th>\n      <td>Andalucía</td>\n      <td>COMPLEJO MEDIOAMBIENTAL SUR DE EUROPA</td>\n    </tr>\n    <tr>\n      <th>...</th>\n      <td>...</td>\n      <td>...</td>\n    </tr>\n    <tr>\n      <th>89</th>\n      <td>País Vasco</td>\n      <td>BZB, Bizkaiko Zabor Berziklategia- Amorebieta</td>\n    </tr>\n    <tr>\n      <th>90</th>\n      <td>Región de Murcia</td>\n      <td>CESPA</td>\n    </tr>\n    <tr>\n      <th>91</th>\n      <td>Región de Murcia</td>\n      <td>COGERSOL</td>\n    </tr>\n    <tr>\n      <th>92</th>\n      <td>Región de Murcia</td>\n      <td>LIMUSA</td>\n    </tr>\n    <tr>\n      <th>93</th>\n      <td>Total general</td>\n      <td>Total general</td>\n    </tr>\n  </tbody>\n</table>\n<p>94 rows × 2 columns</p>\n</div>"
     },
     "metadata": {},
     "execution_count": 18
    }
   ],
   "source": [
    "gestion"
   ]
  },
  {
   "cell_type": "code",
   "execution_count": 29,
   "metadata": {},
   "outputs": [
    {
     "output_type": "error",
     "ename": "TypeError",
     "evalue": "reset_index() got an unexpected keyword argument 'name'",
     "traceback": [
      "\u001b[1;31m---------------------------------------------------------------------------\u001b[0m",
      "\u001b[1;31mTypeError\u001b[0m                                 Traceback (most recent call last)",
      "\u001b[1;32m<ipython-input-29-d2e1c24a8d10>\u001b[0m in \u001b[0;36m<module>\u001b[1;34m\u001b[0m\n\u001b[1;32m----> 1\u001b[1;33m \u001b[0mgestion\u001b[0m\u001b[1;33m.\u001b[0m\u001b[0mgroupby\u001b[0m\u001b[1;33m(\u001b[0m\u001b[1;33m[\u001b[0m\u001b[1;34m\"Comunidad Autonoma\"\u001b[0m\u001b[1;33m,\u001b[0m \u001b[1;34m\"CCAA-Provincia-Instalación\"\u001b[0m\u001b[1;33m]\u001b[0m\u001b[1;33m)\u001b[0m\u001b[1;33m.\u001b[0m\u001b[0mcount\u001b[0m\u001b[1;33m(\u001b[0m\u001b[1;33m)\u001b[0m\u001b[1;33m.\u001b[0m\u001b[0mreset_index\u001b[0m\u001b[1;33m(\u001b[0m\u001b[0mname\u001b[0m\u001b[1;33m=\u001b[0m\u001b[1;34m\"inventario\"\u001b[0m\u001b[1;33m)\u001b[0m\u001b[1;33m\u001b[0m\u001b[1;33m\u001b[0m\u001b[0m\n\u001b[0m",
      "\u001b[1;31mTypeError\u001b[0m: reset_index() got an unexpected keyword argument 'name'"
     ]
    }
   ],
   "source": [
    "gestion.groupby([\"Comunidad Autonoma\", \"CCAA-Provincia-Instalación\"]).count().reset_index(name=\"inventario\")\n"
   ]
  },
  {
   "source": [
    "gestion['inventario'] = \"\""
   ],
   "cell_type": "code",
   "metadata": {},
   "execution_count": 28,
   "outputs": []
  },
  {
   "cell_type": "code",
   "execution_count": 13,
   "metadata": {},
   "outputs": [
    {
     "output_type": "error",
     "ename": "TypeError",
     "evalue": "pivot() got an unexpected keyword argument 'aggfunc'",
     "traceback": [
      "\u001b[1;31m---------------------------------------------------------------------------\u001b[0m",
      "\u001b[1;31mTypeError\u001b[0m                                 Traceback (most recent call last)",
      "\u001b[1;32m<ipython-input-13-c5ef894b5e72>\u001b[0m in \u001b[0;36m<module>\u001b[1;34m\u001b[0m\n\u001b[1;32m----> 1\u001b[1;33m \u001b[0mpivot_gestion\u001b[0m \u001b[1;33m=\u001b[0m \u001b[0mgestion\u001b[0m\u001b[1;33m.\u001b[0m\u001b[0mpivot\u001b[0m\u001b[1;33m(\u001b[0m\u001b[0mindex\u001b[0m\u001b[1;33m=\u001b[0m\u001b[1;34m'Comunidad Autonoma'\u001b[0m\u001b[1;33m,\u001b[0m \u001b[0mcolumns\u001b[0m\u001b[1;33m=\u001b[0m\u001b[1;34m'inventario'\u001b[0m\u001b[1;33m,\u001b[0m \u001b[0mvalues\u001b[0m\u001b[1;33m=\u001b[0m\u001b[1;34m'CCAA-Provincia-Instalación'\u001b[0m\u001b[1;33m,\u001b[0m\u001b[0maggfunc\u001b[0m\u001b[1;33m=\u001b[0m\u001b[1;34m'count'\u001b[0m\u001b[1;33m)\u001b[0m\u001b[1;33m\u001b[0m\u001b[1;33m\u001b[0m\u001b[0m\n\u001b[0m",
      "\u001b[1;31mTypeError\u001b[0m: pivot() got an unexpected keyword argument 'aggfunc'"
     ]
    }
   ],
   "source": [
    "pivot_gestion = gestion.pivot(index='Comunidad Autonoma', columns='inventario', values='CCAA-Provincia-Instalación',aggfunc='count')"
   ]
  },
  {
   "cell_type": "code",
   "execution_count": null,
   "metadata": {},
   "outputs": [],
   "source": []
  }
 ]
}